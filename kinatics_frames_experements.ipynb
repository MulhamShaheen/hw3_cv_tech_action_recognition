{
 "cells": [
  {
   "cell_type": "code",
   "execution_count": 1,
   "metadata": {},
   "outputs": [
    {
     "name": "stderr",
     "output_type": "stream",
     "text": [
      "/data/vdimitrov/project/venv/lib/python3.10/site-packages/tqdm/auto.py:21: TqdmWarning: IProgress not found. Please update jupyter and ipywidgets. See https://ipywidgets.readthedocs.io/en/stable/user_install.html\n",
      "  from .autonotebook import tqdm as notebook_tqdm\n"
     ]
    }
   ],
   "source": [
    "import os\n",
    "\n",
    "import av\n",
    "import cv2\n",
    "import numpy as np\n",
    "import pandas as pd\n",
    "from torchvision import models\n",
    "from torchvision.transforms import ToTensor, transforms\n",
    "\n",
    "from tqdm.notebook import tqdm\n",
    "from tqdm import trange\n",
    "\n",
    "from sklearn.model_selection import train_test_split\n",
    "from sklearn.metrics import f1_score, accuracy_score\n",
    "\n",
    "import albumentations as A\n",
    "\n",
    "import torch\n",
    "import torch.nn as nn\n",
    "import torch.nn.functional as F\n",
    "import torch.optim as optim\n",
    "from torch.utils.data import Dataset, DataLoader\n"
   ]
  },
  {
   "cell_type": "code",
   "execution_count": 2,
   "metadata": {},
   "outputs": [],
   "source": [
    "os.environ['TOKENIZERS_PARALLELISM'] = 'false'"
   ]
  },
  {
   "cell_type": "code",
   "execution_count": 3,
   "metadata": {},
   "outputs": [],
   "source": [
    "import cv2\n",
    "import numpy as np\n",
    "import albumentations as A\n",
    "\n",
    "\n",
    "def read_video_pyav(container, indices):\n",
    "    frames = []\n",
    "    container.seek(0)\n",
    "    start_index = indices[0]\n",
    "    end_index = indices[-1]\n",
    "    for i, frame in enumerate(container.decode(video=0)):\n",
    "        if i > end_index:\n",
    "            break\n",
    "        if i >= start_index and i in indices:\n",
    "            frames.append(frame)\n",
    "    return frames\n",
    "\n",
    "\n",
    "\n",
    "def write_video(name, video, frame_sample_rate):\n",
    "    video_writer = cv2.VideoWriter(\n",
    "        name,\n",
    "        cv2.VideoWriter_fourcc(*'MJPG'),\n",
    "        int(25 / frame_sample_rate),\n",
    "        (video.shape[2], video.shape[1])\n",
    "    )\n",
    "    for frame in video:\n",
    "        video_writer.write(cv2.cvtColor(frame, cv2.COLOR_RGB2BGR))\n",
    "    video_writer.release()\n",
    "\n",
    "\n",
    "def sample_frame_indices(clip_len, frame_sample_rate, seg_len):\n",
    "    converted_len = int(clip_len * frame_sample_rate)\n",
    "    while converted_len >= seg_len and clip_len > 1:\n",
    "        clip_len -= 1\n",
    "        converted_len = int(clip_len * frame_sample_rate)\n",
    "    end_idx = converted_len\n",
    "    start_idx = 0\n",
    "    indices = np.linspace(start_idx, end_idx, num=clip_len)\n",
    "    indices = np.clip(indices, start_idx, end_idx - 1).astype(np.int64)\n",
    "    return indices\n",
    "\n",
    "\n",
    "def apply_video_augmentations(video, transform):\n",
    "    targets = {'image': video[0]}\n",
    "    for i in range(1, video.shape[0]):\n",
    "        targets[f'image{i}'] = video[i]\n",
    "    transformed = transform(*video)\n",
    "    transformed = np.concatenate(\n",
    "        [np.expand_dims(transformed['image'], axis=0)]\n",
    "        + [np.expand_dims(transformed[f'image{i}'], axis=0) for i in range(1, video.shape[0])]\n",
    "    )\n",
    "    return transformed\n"
   ]
  },
  {
   "cell_type": "code",
   "execution_count": 4,
   "metadata": {
    "ExecuteTime": {
     "end_time": "2024-05-06T16:14:54.431883100Z",
     "start_time": "2024-05-06T16:14:54.416306900Z"
    },
    "collapsed": false,
    "jupyter": {
     "outputs_hidden": false
    }
   },
   "outputs": [],
   "source": [
    "device = 'cuda' if torch.cuda.is_available() else 'cpu'"
   ]
  },
  {
   "cell_type": "markdown",
   "metadata": {
    "collapsed": false,
    "jupyter": {
     "outputs_hidden": false
    }
   },
   "source": [
    "# Load pretrained transformer model"
   ]
  },
  {
   "cell_type": "code",
   "execution_count": 5,
   "metadata": {
    "ExecuteTime": {
     "end_time": "2024-05-06T16:14:56.044482100Z",
     "start_time": "2024-05-06T16:14:55.633431100Z"
    },
    "collapsed": false,
    "jupyter": {
     "outputs_hidden": false
    }
   },
   "outputs": [
    {
     "name": "stderr",
     "output_type": "stream",
     "text": [
      "/data/vdimitrov/project/venv/lib/python3.10/site-packages/torchvision/models/_utils.py:208: UserWarning: The parameter 'pretrained' is deprecated since 0.13 and may be removed in the future, please use 'weights' instead.\n",
      "  warnings.warn(\n",
      "/data/vdimitrov/project/venv/lib/python3.10/site-packages/torchvision/models/_utils.py:223: UserWarning: Arguments other than a weight enum or `None` for 'weights' are deprecated since 0.13 and may be removed in the future. The current behavior is equivalent to passing `weights=ResNet18_Weights.IMAGENET1K_V1`. You can also use `weights=ResNet18_Weights.DEFAULT` to get the most up-to-date weights.\n",
      "  warnings.warn(msg)\n"
     ]
    },
    {
     "data": {
      "text/plain": [
       "ResNet(\n",
       "  (conv1): Conv2d(3, 64, kernel_size=(7, 7), stride=(2, 2), padding=(3, 3), bias=False)\n",
       "  (bn1): BatchNorm2d(64, eps=1e-05, momentum=0.1, affine=True, track_running_stats=True)\n",
       "  (relu): ReLU(inplace=True)\n",
       "  (maxpool): MaxPool2d(kernel_size=3, stride=2, padding=1, dilation=1, ceil_mode=False)\n",
       "  (layer1): Sequential(\n",
       "    (0): BasicBlock(\n",
       "      (conv1): Conv2d(64, 64, kernel_size=(3, 3), stride=(1, 1), padding=(1, 1), bias=False)\n",
       "      (bn1): BatchNorm2d(64, eps=1e-05, momentum=0.1, affine=True, track_running_stats=True)\n",
       "      (relu): ReLU(inplace=True)\n",
       "      (conv2): Conv2d(64, 64, kernel_size=(3, 3), stride=(1, 1), padding=(1, 1), bias=False)\n",
       "      (bn2): BatchNorm2d(64, eps=1e-05, momentum=0.1, affine=True, track_running_stats=True)\n",
       "    )\n",
       "    (1): BasicBlock(\n",
       "      (conv1): Conv2d(64, 64, kernel_size=(3, 3), stride=(1, 1), padding=(1, 1), bias=False)\n",
       "      (bn1): BatchNorm2d(64, eps=1e-05, momentum=0.1, affine=True, track_running_stats=True)\n",
       "      (relu): ReLU(inplace=True)\n",
       "      (conv2): Conv2d(64, 64, kernel_size=(3, 3), stride=(1, 1), padding=(1, 1), bias=False)\n",
       "      (bn2): BatchNorm2d(64, eps=1e-05, momentum=0.1, affine=True, track_running_stats=True)\n",
       "    )\n",
       "  )\n",
       "  (layer2): Sequential(\n",
       "    (0): BasicBlock(\n",
       "      (conv1): Conv2d(64, 128, kernel_size=(3, 3), stride=(2, 2), padding=(1, 1), bias=False)\n",
       "      (bn1): BatchNorm2d(128, eps=1e-05, momentum=0.1, affine=True, track_running_stats=True)\n",
       "      (relu): ReLU(inplace=True)\n",
       "      (conv2): Conv2d(128, 128, kernel_size=(3, 3), stride=(1, 1), padding=(1, 1), bias=False)\n",
       "      (bn2): BatchNorm2d(128, eps=1e-05, momentum=0.1, affine=True, track_running_stats=True)\n",
       "      (downsample): Sequential(\n",
       "        (0): Conv2d(64, 128, kernel_size=(1, 1), stride=(2, 2), bias=False)\n",
       "        (1): BatchNorm2d(128, eps=1e-05, momentum=0.1, affine=True, track_running_stats=True)\n",
       "      )\n",
       "    )\n",
       "    (1): BasicBlock(\n",
       "      (conv1): Conv2d(128, 128, kernel_size=(3, 3), stride=(1, 1), padding=(1, 1), bias=False)\n",
       "      (bn1): BatchNorm2d(128, eps=1e-05, momentum=0.1, affine=True, track_running_stats=True)\n",
       "      (relu): ReLU(inplace=True)\n",
       "      (conv2): Conv2d(128, 128, kernel_size=(3, 3), stride=(1, 1), padding=(1, 1), bias=False)\n",
       "      (bn2): BatchNorm2d(128, eps=1e-05, momentum=0.1, affine=True, track_running_stats=True)\n",
       "    )\n",
       "  )\n",
       "  (layer3): Sequential(\n",
       "    (0): BasicBlock(\n",
       "      (conv1): Conv2d(128, 256, kernel_size=(3, 3), stride=(2, 2), padding=(1, 1), bias=False)\n",
       "      (bn1): BatchNorm2d(256, eps=1e-05, momentum=0.1, affine=True, track_running_stats=True)\n",
       "      (relu): ReLU(inplace=True)\n",
       "      (conv2): Conv2d(256, 256, kernel_size=(3, 3), stride=(1, 1), padding=(1, 1), bias=False)\n",
       "      (bn2): BatchNorm2d(256, eps=1e-05, momentum=0.1, affine=True, track_running_stats=True)\n",
       "      (downsample): Sequential(\n",
       "        (0): Conv2d(128, 256, kernel_size=(1, 1), stride=(2, 2), bias=False)\n",
       "        (1): BatchNorm2d(256, eps=1e-05, momentum=0.1, affine=True, track_running_stats=True)\n",
       "      )\n",
       "    )\n",
       "    (1): BasicBlock(\n",
       "      (conv1): Conv2d(256, 256, kernel_size=(3, 3), stride=(1, 1), padding=(1, 1), bias=False)\n",
       "      (bn1): BatchNorm2d(256, eps=1e-05, momentum=0.1, affine=True, track_running_stats=True)\n",
       "      (relu): ReLU(inplace=True)\n",
       "      (conv2): Conv2d(256, 256, kernel_size=(3, 3), stride=(1, 1), padding=(1, 1), bias=False)\n",
       "      (bn2): BatchNorm2d(256, eps=1e-05, momentum=0.1, affine=True, track_running_stats=True)\n",
       "    )\n",
       "  )\n",
       "  (layer4): Sequential(\n",
       "    (0): BasicBlock(\n",
       "      (conv1): Conv2d(256, 512, kernel_size=(3, 3), stride=(2, 2), padding=(1, 1), bias=False)\n",
       "      (bn1): BatchNorm2d(512, eps=1e-05, momentum=0.1, affine=True, track_running_stats=True)\n",
       "      (relu): ReLU(inplace=True)\n",
       "      (conv2): Conv2d(512, 512, kernel_size=(3, 3), stride=(1, 1), padding=(1, 1), bias=False)\n",
       "      (bn2): BatchNorm2d(512, eps=1e-05, momentum=0.1, affine=True, track_running_stats=True)\n",
       "      (downsample): Sequential(\n",
       "        (0): Conv2d(256, 512, kernel_size=(1, 1), stride=(2, 2), bias=False)\n",
       "        (1): BatchNorm2d(512, eps=1e-05, momentum=0.1, affine=True, track_running_stats=True)\n",
       "      )\n",
       "    )\n",
       "    (1): BasicBlock(\n",
       "      (conv1): Conv2d(512, 512, kernel_size=(3, 3), stride=(1, 1), padding=(1, 1), bias=False)\n",
       "      (bn1): BatchNorm2d(512, eps=1e-05, momentum=0.1, affine=True, track_running_stats=True)\n",
       "      (relu): ReLU(inplace=True)\n",
       "      (conv2): Conv2d(512, 512, kernel_size=(3, 3), stride=(1, 1), padding=(1, 1), bias=False)\n",
       "      (bn2): BatchNorm2d(512, eps=1e-05, momentum=0.1, affine=True, track_running_stats=True)\n",
       "    )\n",
       "  )\n",
       "  (avgpool): AdaptiveAvgPool2d(output_size=(1, 1))\n",
       "  (fc): Linear(in_features=512, out_features=15, bias=True)\n",
       ")"
      ]
     },
     "execution_count": 5,
     "metadata": {},
     "output_type": "execute_result"
    }
   ],
   "source": [
    "model = models.resnet18(pretrained=True)\n",
    "\n",
    "model.fc = nn.Linear(512, 15)\n",
    "model.to(device)"
   ]
  },
  {
   "cell_type": "markdown",
   "metadata": {
    "ExecuteTime": {
     "end_time": "2024-05-06T12:09:33.791303Z",
     "start_time": "2024-05-06T12:09:32.706618900Z"
    },
    "collapsed": false,
    "jupyter": {
     "outputs_hidden": false
    }
   },
   "source": [
    "# Dataset preparation"
   ]
  },
  {
   "cell_type": "code",
   "execution_count": 6,
   "metadata": {
    "ExecuteTime": {
     "end_time": "2024-05-06T16:15:02.014464100Z",
     "start_time": "2024-05-06T16:15:01.983141600Z"
    },
    "collapsed": false,
    "jupyter": {
     "outputs_hidden": false
    }
   },
   "outputs": [
    {
     "data": {
      "text/html": [
       "<div>\n",
       "<style scoped>\n",
       "    .dataframe tbody tr th:only-of-type {\n",
       "        vertical-align: middle;\n",
       "    }\n",
       "\n",
       "    .dataframe tbody tr th {\n",
       "        vertical-align: top;\n",
       "    }\n",
       "\n",
       "    .dataframe thead th {\n",
       "        text-align: right;\n",
       "    }\n",
       "</style>\n",
       "<table border=\"1\" class=\"dataframe\">\n",
       "  <thead>\n",
       "    <tr style=\"text-align: right;\">\n",
       "      <th></th>\n",
       "      <th>Unnamed: 0</th>\n",
       "      <th>label</th>\n",
       "      <th>youtube_id</th>\n",
       "      <th>time_start</th>\n",
       "      <th>time_end</th>\n",
       "      <th>split</th>\n",
       "      <th>video_path</th>\n",
       "    </tr>\n",
       "  </thead>\n",
       "  <tbody>\n",
       "    <tr>\n",
       "      <th>0</th>\n",
       "      <td>23948</td>\n",
       "      <td>belly dancing</td>\n",
       "      <td>uhX8rmHFLaY</td>\n",
       "      <td>116</td>\n",
       "      <td>126</td>\n",
       "      <td>train</td>\n",
       "      <td>clips_2/uhX8rmHFLaY.mp4</td>\n",
       "    </tr>\n",
       "    <tr>\n",
       "      <th>1</th>\n",
       "      <td>23843</td>\n",
       "      <td>belly dancing</td>\n",
       "      <td>-q0Wpf0WThk</td>\n",
       "      <td>317</td>\n",
       "      <td>327</td>\n",
       "      <td>train</td>\n",
       "      <td>clips_2/-q0Wpf0WThk.mp4</td>\n",
       "    </tr>\n",
       "    <tr>\n",
       "      <th>2</th>\n",
       "      <td>24142</td>\n",
       "      <td>belly dancing</td>\n",
       "      <td>P9mOEmlCEXY</td>\n",
       "      <td>62</td>\n",
       "      <td>72</td>\n",
       "      <td>train</td>\n",
       "      <td>clips_2/P9mOEmlCEXY.mp4</td>\n",
       "    </tr>\n",
       "    <tr>\n",
       "      <th>3</th>\n",
       "      <td>23467</td>\n",
       "      <td>belly dancing</td>\n",
       "      <td>mm5S2ftbb-k</td>\n",
       "      <td>32</td>\n",
       "      <td>42</td>\n",
       "      <td>train</td>\n",
       "      <td>clips_2/mm5S2ftbb-k.mp4</td>\n",
       "    </tr>\n",
       "    <tr>\n",
       "      <th>4</th>\n",
       "      <td>23982</td>\n",
       "      <td>belly dancing</td>\n",
       "      <td>TCbfIBb87hQ</td>\n",
       "      <td>134</td>\n",
       "      <td>144</td>\n",
       "      <td>train</td>\n",
       "      <td>clips_2/TCbfIBb87hQ.mp4</td>\n",
       "    </tr>\n",
       "  </tbody>\n",
       "</table>\n",
       "</div>"
      ],
      "text/plain": [
       "   Unnamed: 0          label   youtube_id  time_start  time_end  split  \\\n",
       "0       23948  belly dancing  uhX8rmHFLaY         116       126  train   \n",
       "1       23843  belly dancing  -q0Wpf0WThk         317       327  train   \n",
       "2       24142  belly dancing  P9mOEmlCEXY          62        72  train   \n",
       "3       23467  belly dancing  mm5S2ftbb-k          32        42  train   \n",
       "4       23982  belly dancing  TCbfIBb87hQ         134       144  train   \n",
       "\n",
       "                video_path  \n",
       "0  clips_2/uhX8rmHFLaY.mp4  \n",
       "1  clips_2/-q0Wpf0WThk.mp4  \n",
       "2  clips_2/P9mOEmlCEXY.mp4  \n",
       "3  clips_2/mm5S2ftbb-k.mp4  \n",
       "4  clips_2/TCbfIBb87hQ.mp4  "
      ]
     },
     "execution_count": 6,
     "metadata": {},
     "output_type": "execute_result"
    }
   ],
   "source": [
    "df = pd.read_csv(\"dancing.csv\")\n",
    "df[\"video_path\"] = \"clips_2/\" + df[\"youtube_id\"] + \".mp4\""
   ]
  },
  {
   "cell_type": "code",
   "execution_count": 7,
   "metadata": {
    "ExecuteTime": {
     "end_time": "2024-05-06T16:15:03.529327400Z",
     "start_time": "2024-05-06T16:15:02.226110600Z"
    },
    "collapsed": false,
    "jupyter": {
     "outputs_hidden": false
    }
   },
   "outputs": [
    {
     "name": "stdout",
     "output_type": "stream",
     "text": [
      "Before: 3000\n",
      "clips_2/PL3ex5IAQNw.mp4\n",
      "clips_2/NJAIp24I9oQ.mp4\n",
      "clips_2/_ubj_hjLdVc.mp4\n",
      "clips_2/iQuTmRkOuIo.mp4\n",
      "clips_2/Y_rtxFTnyWI.mp4\n",
      "clips_2/cNvTm72aGcM.mp4\n",
      "clips_2/YUJVnjzPZxI.mp4\n",
      "clips_2/ooN3OOKuAjY.mp4\n",
      "clips_2/sbvNyPubcFM.mp4\n",
      "clips_2/g3E8Cjog6-k.mp4\n",
      "clips_2/iJ5KAamDDP8.mp4\n",
      "clips_2/kuJO1VapxuQ.mp4\n",
      "clips_2/G0MfJoTOAOw.mp4\n",
      "clips_2/yEEDk2CMOTI.mp4\n",
      "clips_2/zt7XHcgHdEc.mp4\n",
      "clips_2/Sw4Ggaya3ys.mp4\n",
      "clips_2/xeemkepaczg.mp4\n",
      "clips_2/s5GJdHQL_Wc.mp4\n",
      "clips_2/N4UtAez9QVE.mp4\n",
      "clips_2/0sCg3fIcMCA.mp4\n",
      "clips_2/NLhhoE7es8g.mp4\n",
      "clips_2/uvoBn-8AxHI.mp4\n",
      "clips_2/F60UViJTih0.mp4\n",
      "clips_2/xvNiI_ScL1I.mp4\n",
      "clips_2/5JWfwsP06rQ.mp4\n",
      "clips_2/eU7aTQHNTdw.mp4\n",
      "clips_2/yJlFSAsm55A.mp4\n",
      "clips_2/ros4Qypsgx8.mp4\n",
      "clips_2/WfReigRwWL8.mp4\n",
      "clips_2/Os66zjMaxyM.mp4\n",
      "clips_2/tkU_8wbm5PI.mp4\n",
      "clips_2/RB2LsZrsp7M.mp4\n",
      "clips_2/900sTBL7rUI.mp4\n",
      "clips_2/Fd8A6KMum_U.mp4\n",
      "clips_2/eBswIBFiyBs.mp4\n",
      "clips_2/gE3P4lxAgt4.mp4\n",
      "clips_2/gFHv0ahXTGQ.mp4\n",
      "clips_2/XtRSuv2pD5A.mp4\n",
      "clips_2/KmeM_SSphxA.mp4\n",
      "clips_2/9AkuTMwhHQE.mp4\n",
      "clips_2/0f1vKMit9uw.mp4\n",
      "clips_2/p4D01Sj7Mjk.mp4\n",
      "clips_2/N06SG86dnR8.mp4\n",
      "clips_2/s-zFOFQSnpI.mp4\n",
      "clips_2/IPLpD_PGMHk.mp4\n",
      "clips_2/O0EY3HcAKfU.mp4\n",
      "clips_2/4XVx7PJsKv4.mp4\n",
      "clips_2/bArxc3nChSU.mp4\n",
      "clips_2/6adKBbLYH1g.mp4\n",
      "clips_2/S6oaDdsOVX0.mp4\n",
      "clips_2/l66NOWuh9d0.mp4\n",
      "clips_2/KUP4O8xiRx4.mp4\n",
      "clips_2/vE5pXxbm9n8.mp4\n",
      "clips_2/b0ssoxSCsww.mp4\n",
      "clips_2/7daoZfaJC4I.mp4\n",
      "clips_2/0hpxpFsDuSA.mp4\n",
      "clips_2/dqv-2j_1K-w.mp4\n",
      "clips_2/EfTkNx6ckJs.mp4\n",
      "clips_2/-8snoM0IJ68.mp4\n",
      "clips_2/8WQJjHzdAYU.mp4\n",
      "clips_2/e0A_h4wNUWc.mp4\n",
      "clips_2/SdQVS19X7f8.mp4\n",
      "clips_2/lX_YJ4SFt4c.mp4\n",
      "clips_2/Tau09NCFKDg.mp4\n",
      "clips_2/h8_JHpUVTtE.mp4\n",
      "clips_2/raFHfveSxPc.mp4\n",
      "clips_2/g8WQflTwDWw.mp4\n",
      "clips_2/hR31BlhDrew.mp4\n",
      "clips_2/nBqnC-pSdYk.mp4\n",
      "clips_2/kcLsYzNQNwI.mp4\n",
      "clips_2/rhxsbI7BgzA.mp4\n",
      "clips_2/jZNgDwNjoW8.mp4\n",
      "clips_2/SDDdj2dhxeE.mp4\n",
      "clips_2/g295aUkbHrY.mp4\n",
      "clips_2/iRblXWDmvj4.mp4\n",
      "clips_2/-A6-ubbxy3w.mp4\n",
      "clips_2/sDDXOC9F2TI.mp4\n",
      "clips_2/gwAHj75vebI.mp4\n",
      "clips_2/b7Dre88rqKY.mp4\n",
      "clips_2/gKZ31uBbO4Q.mp4\n",
      "clips_2/c-MtXbJmtdw.mp4\n",
      "clips_2/W2cHZc5yUIc.mp4\n",
      "clips_2/YaxGSSdeio0.mp4\n",
      "clips_2/c1aSSh9X3vE.mp4\n",
      "clips_2/7EfWZ6FSxBo.mp4\n",
      "clips_2/hgNs0EOtqvA.mp4\n",
      "clips_2/ezQ5igY6YHo.mp4\n",
      "clips_2/JFraNvErZJ0.mp4\n",
      "clips_2/nRT8yWlERiA.mp4\n",
      "clips_2/GaoWe9GBFWg.mp4\n",
      "clips_2/4BJ_2Y0M9Tw.mp4\n",
      "clips_2/RnHoT7l9lFE.mp4\n",
      "clips_2/fNkk4e2OwWo.mp4\n",
      "clips_2/4OM9cYg_E0A.mp4\n",
      "clips_2/nD7eYr57bD4.mp4\n",
      "clips_2/0EI804x_Qe0.mp4\n",
      "clips_2/UNicpaBHsoA.mp4\n",
      "clips_2/aLbTp9PZgbw.mp4\n",
      "clips_2/rQiyz36aLDk.mp4\n",
      "clips_2/KHqaxS4W9RI.mp4\n",
      "clips_2/vxpCm6h9rD8.mp4\n",
      "clips_2/n3MVGqLbEtk.mp4\n",
      "clips_2/T5HdKXg1d1o.mp4\n",
      "clips_2/p_ebLuGOYIs.mp4\n",
      "clips_2/PnpzUKyzWmo.mp4\n",
      "clips_2/aJH19JtxnF0.mp4\n",
      "clips_2/bBJ535mR6xU.mp4\n",
      "clips_2/YlQFXQ4aNfs.mp4\n",
      "clips_2/_fBXuqLns00.mp4\n",
      "clips_2/BTY65IPM9jQ.mp4\n",
      "clips_2/h21snM6XvLY.mp4\n",
      "clips_2/I5o0uDQ5v9Y.mp4\n",
      "clips_2/zmbSLm652C0.mp4\n",
      "clips_2/qb3QrFZJLIE.mp4\n",
      "clips_2/Aq7IVzsKXjQ.mp4\n",
      "clips_2/0wwzMnMQTV0.mp4\n",
      "clips_2/buUfv9eu_3c.mp4\n",
      "clips_2/r3JDPpjD8l8.mp4\n",
      "clips_2/N0Ph13LsR5A.mp4\n",
      "clips_2/-B3ugc7t7aU.mp4\n",
      "clips_2/T2_AKLeEVj8.mp4\n",
      "clips_2/PzKw_sdJzjQ.mp4\n",
      "clips_2/CLXwtveP3S8.mp4\n",
      "clips_2/_ZSbbAW7NwQ.mp4\n",
      "clips_2/8WBa7tAkc-k.mp4\n",
      "clips_2/QpW0_0hYLYE.mp4\n",
      "clips_2/65WRMPboy3s.mp4\n",
      "clips_2/YyHEOHtyqBY.mp4\n",
      "clips_2/i2CO0BZOeoA.mp4\n",
      "clips_2/qMVGJfHjxCU.mp4\n",
      "clips_2/Nd1n5qY7pCQ.mp4\n",
      "clips_2/5y9yOnXkrNU.mp4\n",
      "clips_2/vZRQGxeSTjE.mp4\n",
      "clips_2/TOjVChL2RLk.mp4\n",
      "clips_2/LrKjWFA1lAo.mp4\n",
      "clips_2/Q7nF0nwnZs0.mp4\n",
      "clips_2/yu-0Iuz6nF0.mp4\n",
      "clips_2/ONDBIFiWN3g.mp4\n",
      "clips_2/togbO41hZrU.mp4\n",
      "clips_2/oJtuAoi58ao.mp4\n",
      "clips_2/I_qT2xDDDac.mp4\n",
      "clips_2/W_PNiyYgoOM.mp4\n",
      "clips_2/c1hHxrhEeZk.mp4\n",
      "clips_2/LTbZV-VUbps.mp4\n",
      "clips_2/iRWsCOhgCbU.mp4\n",
      "clips_2/Ntv7xMwUetA.mp4\n",
      "clips_2/YrVrl4WnJZA.mp4\n",
      "clips_2/8EOP98US9Ks.mp4\n",
      "clips_2/hOKljMC66tE.mp4\n",
      "clips_2/j3D5mdhLQsw.mp4\n",
      "clips_2/74elZg5xFLU.mp4\n",
      "clips_2/CSHnDKV8yBI.mp4\n",
      "clips_2/JmSdDUoMG20.mp4\n",
      "clips_2/V-fWxn6DHtc.mp4\n",
      "clips_2/dwBXEjNfDb4.mp4\n",
      "clips_2/3IWHE7_WFDE.mp4\n",
      "clips_2/SAnv6LOPH1c.mp4\n",
      "clips_2/dSyiGI1Zmiw.mp4\n",
      "clips_2/X_TQd6vTnkw.mp4\n",
      "clips_2/natnD1jofBg.mp4\n",
      "clips_2/KWrOqybn9ts.mp4\n",
      "clips_2/EkH-oJDrhNg.mp4\n",
      "clips_2/NvWcsNLr0OA.mp4\n",
      "clips_2/TBfJ0M7Qah4.mp4\n",
      "clips_2/UEua4xOuixI.mp4\n",
      "clips_2/dBJiQEhe8m0.mp4\n",
      "clips_2/mLlhy4a7yvY.mp4\n",
      "clips_2/Z_6bGBaN-tU.mp4\n",
      "clips_2/5mEP3BbXqjE.mp4\n",
      "clips_2/MrygPovksSk.mp4\n",
      "clips_2/PSi_FwEICxc.mp4\n",
      "clips_2/OlhDxxPK_1Y.mp4\n",
      "clips_2/9l19jzphV4M.mp4\n",
      "clips_2/GNxzE3MleJk.mp4\n",
      "clips_2/DXtjkRunpLg.mp4\n",
      "clips_2/JyMuGe4-kSA.mp4\n",
      "clips_2/EBakJFfju4A.mp4\n",
      "clips_2/xCjxEjityY0.mp4\n",
      "clips_2/rT8V7tBn324.mp4\n",
      "clips_2/Xmg1nWrz7nw.mp4\n",
      "clips_2/TGbudmrQs3U.mp4\n",
      "clips_2/jWMj26xY9O0.mp4\n",
      "clips_2/e_V_W8ZZ0yw.mp4\n",
      "clips_2/EaobS0zIleE.mp4\n",
      "clips_2/fjdCtfe461M.mp4\n",
      "clips_2/tPFvQbTqZ3o.mp4\n",
      "clips_2/Ra_wdynM7Lk.mp4\n",
      "clips_2/Y2E97he5mQw.mp4\n",
      "clips_2/CSEwkXFRIZw.mp4\n",
      "clips_2/wX9Q9QoiYgk.mp4\n",
      "clips_2/kgHbV6kxZzI.mp4\n",
      "clips_2/2WPzgG1-TF0.mp4\n",
      "clips_2/yAHOI5tH7fs.mp4\n",
      "clips_2/Mz1UPUVPQqI.mp4\n",
      "clips_2/Z67v6arjAnM.mp4\n",
      "clips_2/r_GxpS-8gYk.mp4\n",
      "clips_2/PARhnPb-jN0.mp4\n",
      "clips_2/NFeXT5H3bJk.mp4\n",
      "clips_2/U0KSOwhTk7c.mp4\n",
      "clips_2/oaRmZ49KJDk.mp4\n",
      "clips_2/IIQl0T_s1YY.mp4\n",
      "clips_2/2rsZP151pKw.mp4\n",
      "clips_2/vU7nssnIna4.mp4\n",
      "clips_2/EMp1V1Bmf7w.mp4\n",
      "clips_2/M6vUyIGCK-g.mp4\n",
      "clips_2/Yv0rHyWNVqE.mp4\n",
      "clips_2/XWvZ6BkBN3A.mp4\n",
      "clips_2/Q_ByJbSAwAs.mp4\n",
      "clips_2/Oiibk0gAR5I.mp4\n",
      "clips_2/e4X5z8AQc3s.mp4\n",
      "clips_2/q5U1upD0g9M.mp4\n",
      "clips_2/fl56tjPytbY.mp4\n",
      "clips_2/AQKWUxPHDRA.mp4\n",
      "clips_2/B98ia97YxvI.mp4\n",
      "clips_2/tr6b3ZLMKyc.mp4\n",
      "clips_2/V4a2BagLVRY.mp4\n",
      "clips_2/zpgEQQNBx8Y.mp4\n",
      "clips_2/o6sQeK44b78.mp4\n",
      "clips_2/rrqcZhNUVIU.mp4\n",
      "clips_2/1HAhF8UZ9MA.mp4\n",
      "clips_2/LzI3zrjX6K8.mp4\n",
      "clips_2/0GJggKtnkEE.mp4\n",
      "clips_2/o5oIWjZOvy4.mp4\n",
      "clips_2/u6dLn-CfDCM.mp4\n",
      "clips_2/PzbnishugVM.mp4\n",
      "clips_2/TVr9VyysveI.mp4\n",
      "clips_2/aKpL5RtYH-0.mp4\n",
      "clips_2/NxiXJoF9HCo.mp4\n",
      "clips_2/ezngImN3D5A.mp4\n",
      "clips_2/1xgRad-jeI8.mp4\n",
      "clips_2/4BALx-8ijz0.mp4\n",
      "clips_2/7l4Ygt3qpTA.mp4\n",
      "clips_2/Qyt6ANW9tRs.mp4\n",
      "clips_2/vNpcPa0Z9Bo.mp4\n",
      "clips_2/vW8zmnXPlKY.mp4\n",
      "clips_2/s_b3x1uhmm0.mp4\n",
      "clips_2/aif8bjP4jH0.mp4\n",
      "clips_2/30yMANnkLQo.mp4\n",
      "clips_2/JZmh9gGZYjw.mp4\n",
      "clips_2/YaxI7l21s5U.mp4\n",
      "clips_2/tbzrcupNcZc.mp4\n",
      "clips_2/FbPUX8cWmeU.mp4\n",
      "clips_2/rxcoW8MHBGY.mp4\n",
      "clips_2/Ibw9n2Myrz0.mp4\n",
      "clips_2/shuDmNDrckg.mp4\n",
      "clips_2/aOUmIhOy9i0.mp4\n",
      "clips_2/pkwJtXiGA3A.mp4\n",
      "clips_2/sF2LLedArF4.mp4\n",
      "clips_2/Vyk6jMZ95B0.mp4\n",
      "clips_2/zhX-VZrEil0.mp4\n",
      "clips_2/7LmsLfnAtTw.mp4\n",
      "clips_2/lESa9CjAiIE.mp4\n",
      "clips_2/1q78VQqIUbI.mp4\n",
      "clips_2/4gjxqVi8Pn0.mp4\n",
      "clips_2/rEEEREW02C8.mp4\n",
      "clips_2/9bwQZd_DoxA.mp4\n",
      "clips_2/91YXtNIv-So.mp4\n",
      "clips_2/M7GyzUSlGhM.mp4\n",
      "clips_2/11zeXi6Qujc.mp4\n",
      "clips_2/_32OaGSeb0Q.mp4\n",
      "clips_2/ezkkKrk7-u4.mp4\n",
      "clips_2/ah8c7LBkPhg.mp4\n",
      "clips_2/ejGoErdOKmA.mp4\n",
      "clips_2/WITk8lj8dU0.mp4\n",
      "clips_2/1SC2nR7b1kc.mp4\n",
      "clips_2/X3Lg9bTMQHs.mp4\n",
      "clips_2/bHuTRITD_Z0.mp4\n",
      "clips_2/UqbPNmdiEQE.mp4\n",
      "clips_2/BUZN0sJdZBI.mp4\n",
      "clips_2/w3h9_-ECM-c.mp4\n",
      "clips_2/f1zIumR21Vk.mp4\n",
      "clips_2/lBzcKR5EzUs.mp4\n",
      "clips_2/n1FEcgaF_Yc.mp4\n",
      "clips_2/lFfrmL80MNI.mp4\n",
      "clips_2/eC4otpBadSo.mp4\n",
      "clips_2/j_JWwHUKTlE.mp4\n",
      "clips_2/Lq9BEVJObuw.mp4\n",
      "clips_2/qteOBxcecdo.mp4\n",
      "clips_2/1dhbh3JUe_o.mp4\n",
      "clips_2/XeNcOGkbc50.mp4\n",
      "clips_2/SKDi9Z_b9XM.mp4\n",
      "clips_2/RUeBVXHf9HE.mp4\n",
      "clips_2/Sgwb7SWNCIA.mp4\n",
      "clips_2/wjfM4OBQRaQ.mp4\n",
      "clips_2/e5wkSctRh6E.mp4\n",
      "clips_2/0rhk4HYpN64.mp4\n",
      "clips_2/-hGlxmmji9o.mp4\n",
      "clips_2/eKlcRMFGdXg.mp4\n",
      "clips_2/ADNTLM6KMKo.mp4\n",
      "clips_2/zFpk_qau0xg.mp4\n",
      "clips_2/_wJ9nkP2zN0.mp4\n",
      "clips_2/y3sIWXI-tis.mp4\n",
      "clips_2/ioCPxUJgr1g.mp4\n",
      "clips_2/AjlQzOpebcc.mp4\n",
      "clips_2/N1su-pohMw0.mp4\n",
      "clips_2/0nATf03yGfY.mp4\n",
      "clips_2/VhpSUzzbk8Y.mp4\n",
      "clips_2/iSIUI8mnU4Y.mp4\n",
      "clips_2/l_vJemlReyw.mp4\n",
      "clips_2/7pOnWjBVOk8.mp4\n",
      "clips_2/8mm3AF75pmc.mp4\n",
      "clips_2/E3v_QqzsvWE.mp4\n",
      "clips_2/V4dWuT3XB7U.mp4\n",
      "clips_2/u63r67bzKls.mp4\n",
      "clips_2/daT3hGqly00.mp4\n",
      "clips_2/TB_gZzGuqzM.mp4\n",
      "clips_2/Z6fCVegfxN8.mp4\n",
      "clips_2/wIanLOxc8OU.mp4\n",
      "clips_2/MJJ-dW-Qk-k.mp4\n",
      "clips_2/E-1DPx6uCC8.mp4\n",
      "clips_2/fBOq7QOS9PU.mp4\n",
      "clips_2/nSplr_TTsjQ.mp4\n",
      "clips_2/tWoBS7WrI8Y.mp4\n",
      "clips_2/nUS-ACEtoWs.mp4\n",
      "clips_2/7Pdcp3ahRZE.mp4\n",
      "clips_2/f6wVxpn-pvA.mp4\n",
      "clips_2/CTAfs8Q-5qQ.mp4\n",
      "clips_2/Z6_dJJJBtR0.mp4\n",
      "clips_2/0CApQWg8ViU.mp4\n",
      "clips_2/UnbnOGGiaFE.mp4\n",
      "clips_2/2bTz86eGvCQ.mp4\n",
      "clips_2/HM8uVUd10f4.mp4\n",
      "clips_2/mBTlWgG8P_E.mp4\n",
      "clips_2/u3MVWyVRR8E.mp4\n",
      "clips_2/IcUc9hg8qVI.mp4\n",
      "clips_2/wp8IFo2MAhs.mp4\n",
      "clips_2/08ticaoBlWs.mp4\n",
      "clips_2/zBo1TehDd1E.mp4\n",
      "clips_2/9DaczEQ9sUQ.mp4\n",
      "clips_2/rf2bcXgeN20.mp4\n",
      "clips_2/V2BKHSIYU4o.mp4\n",
      "clips_2/yvE_qU4G4iw.mp4\n",
      "clips_2/xHHLhgO94oE.mp4\n",
      "clips_2/3Wel_i6WRDA.mp4\n",
      "clips_2/bn0JYGVxyvg.mp4\n",
      "clips_2/aLSZqZO3oMk.mp4\n",
      "clips_2/CV89K-iTL_8.mp4\n",
      "clips_2/wzNY8BINlmw.mp4\n",
      "clips_2/wz8I8VOT9yM.mp4\n",
      "clips_2/UdFXugWdS94.mp4\n",
      "clips_2/_8b7k9V7JHs.mp4\n",
      "clips_2/z2jer5hWx1E.mp4\n",
      "clips_2/ekrftI8bkH8.mp4\n",
      "clips_2/Smp7h-SHt-Y.mp4\n",
      "clips_2/-HYfm8teSyQ.mp4\n",
      "clips_2/Gy9DZNhnNAs.mp4\n",
      "clips_2/76kYX5BRHgE.mp4\n",
      "clips_2/DMjBxYLZbrw.mp4\n",
      "clips_2/94aEhZOhLA4.mp4\n",
      "clips_2/S40WJQ-NeG4.mp4\n",
      "clips_2/PWEYGzI7gT8.mp4\n",
      "clips_2/NJE3nR-ookY.mp4\n",
      "clips_2/pBmamdi0GHw.mp4\n",
      "clips_2/oBp2p3pf58I.mp4\n",
      "clips_2/Ta9d3KV3b7s.mp4\n",
      "clips_2/Eu0anJhSigY.mp4\n",
      "clips_2/pbqwqUvyY88.mp4\n",
      "clips_2/NrT68twfGIk.mp4\n",
      "clips_2/yRICh5w2rbA.mp4\n",
      "clips_2/aHdPch4H-dY.mp4\n",
      "clips_2/ws9y6yI1HKk.mp4\n",
      "clips_2/m5JohL88MGE.mp4\n",
      "clips_2/qDiKelyUZJQ.mp4\n",
      "clips_2/EdkoU8vZweI.mp4\n",
      "clips_2/1QvF3Ep3VbY.mp4\n",
      "clips_2/DqWTF_OLX_E.mp4\n",
      "clips_2/PkfVHxYnYpg.mp4\n",
      "clips_2/kPQgw3KipyQ.mp4\n",
      "clips_2/w6aMMgCiDNQ.mp4\n",
      "clips_2/NzEAJ8x6-Fk.mp4\n",
      "clips_2/JRJrVNBah-Q.mp4\n",
      "clips_2/qi9G3bedKng.mp4\n",
      "clips_2/3wlhpfRowJQ.mp4\n",
      "clips_2/umefDRR_2Mc.mp4\n",
      "clips_2/PfTLArcL3m8.mp4\n",
      "clips_2/rXXwPzo9MTQ.mp4\n",
      "clips_2/9U9wlqPshu8.mp4\n",
      "clips_2/d2s1jZT8kJQ.mp4\n",
      "clips_2/TaF6wPth3Ks.mp4\n",
      "clips_2/p_4FBQnf6NI.mp4\n",
      "clips_2/xEpzW2OB2o0.mp4\n",
      "clips_2/iJg7CJ08OLY.mp4\n",
      "clips_2/RIP0Gcqf0xU.mp4\n",
      "clips_2/CfE2PkGcmTY.mp4\n",
      "clips_2/0ErBwoEUrjI.mp4\n",
      "clips_2/tb9AyhPAK48.mp4\n",
      "clips_2/eypk3vSZNOM.mp4\n",
      "clips_2/rfcYohkeQj8.mp4\n",
      "clips_2/lrOlZop7g_8.mp4\n",
      "clips_2/31VwNtHjSdI.mp4\n",
      "clips_2/cb5mnc05OYM.mp4\n",
      "clips_2/X3GdqlDpVSE.mp4\n",
      "clips_2/PhHTB1MSTic.mp4\n",
      "clips_2/nhYU3lJT_RU.mp4\n",
      "clips_2/a9nKJuji61A.mp4\n",
      "clips_2/CFoChi8-7Ak.mp4\n",
      "clips_2/mfgnSepPXdk.mp4\n",
      "clips_2/QyPUP8EOE0Y.mp4\n",
      "clips_2/NSMuqCmNkJY.mp4\n",
      "clips_2/dwn8oYlsJYQ.mp4\n",
      "clips_2/QFcVWsfOeMU.mp4\n",
      "clips_2/o7JgZ9ayGtY.mp4\n",
      "clips_2/obF_iULJDvM.mp4\n",
      "clips_2/5AiPQLFxUQ0.mp4\n",
      "clips_2/jbTh5cginhw.mp4\n",
      "clips_2/ArTHHG_98No.mp4\n",
      "clips_2/du_tflvwb8s.mp4\n",
      "clips_2/1b1MbeNO7lg.mp4\n",
      "clips_2/SOWPD8snKYA.mp4\n",
      "clips_2/crzD18En--M.mp4\n",
      "clips_2/dyBXegA1XKg.mp4\n",
      "clips_2/_VhC5u6ndis.mp4\n",
      "clips_2/hj17HHwzRPE.mp4\n",
      "clips_2/vD1JL_3tcVQ.mp4\n",
      "clips_2/Q1K-18XBrQo.mp4\n",
      "clips_2/CvQfLHlE-PA.mp4\n",
      "clips_2/5zYbx4rHUyY.mp4\n",
      "clips_2/AGtOZzNauUo.mp4\n",
      "clips_2/pDLM-5PHliA.mp4\n",
      "clips_2/dLVEqCqWwmc.mp4\n",
      "clips_2/fov5eynCpUc.mp4\n",
      "clips_2/7schioItAuA.mp4\n",
      "clips_2/BN56cms2DFE.mp4\n",
      "clips_2/I8QMtGSQhmA.mp4\n",
      "clips_2/B36_N8AeMjc.mp4\n",
      "clips_2/hgonUvL8Ips.mp4\n",
      "clips_2/fN84Z_s1d7k.mp4\n",
      "clips_2/FyDuUqs30-4.mp4\n",
      "clips_2/Uf3GCS9DIsE.mp4\n",
      "clips_2/-ciVOQS2RHo.mp4\n",
      "clips_2/ElSTJi6khgs.mp4\n",
      "clips_2/sBLqY5Jii_I.mp4\n",
      "clips_2/L8PnQzDgFNM.mp4\n",
      "clips_2/NgfU4cX8oOg.mp4\n",
      "clips_2/iOwVWPkYm_I.mp4\n",
      "clips_2/nEIjKLCTD5w.mp4\n",
      "clips_2/cgEyu3A8gA0.mp4\n",
      "clips_2/R2ZVRz6z9B0.mp4\n",
      "clips_2/NBFY5wr8diQ.mp4\n",
      "clips_2/8qvgPlDrWsk.mp4\n",
      "clips_2/7fU9Xx7n6xE.mp4\n",
      "clips_2/NikFyUs7X58.mp4\n",
      "clips_2/qnux6k6_bx8.mp4\n",
      "clips_2/dtZwDqMYcs0.mp4\n",
      "clips_2/8W_4z6aVbXw.mp4\n",
      "clips_2/u41FO8eRv3E.mp4\n",
      "clips_2/MPZRS08V5C0.mp4\n",
      "clips_2/RCgKqI3w59E.mp4\n",
      "clips_2/H7ZIqt72rao.mp4\n",
      "clips_2/pCreLc0NSLI.mp4\n",
      "clips_2/ErSXWdSP8mQ.mp4\n",
      "clips_2/di8-ugh6q_w.mp4\n",
      "clips_2/4jw4gK7m-rE.mp4\n",
      "clips_2/Q1xJ3jLHirE.mp4\n",
      "clips_2/HKWbc3O6jcQ.mp4\n",
      "clips_2/MCLCpaNSFFc.mp4\n",
      "clips_2/zsY9bKeIW9o.mp4\n",
      "clips_2/ib_hIMo2zMg.mp4\n",
      "clips_2/RokNS4deC0k.mp4\n",
      "clips_2/y7bcuvpmz_s.mp4\n",
      "clips_2/WSxj9cb85BE.mp4\n",
      "clips_2/Cpodq6vQRNk.mp4\n",
      "clips_2/nrLlDRrmM-I.mp4\n",
      "clips_2/zDlggZBzCso.mp4\n",
      "clips_2/gxwV6SQ2A-Q.mp4\n",
      "clips_2/QdeFbG5uMcE.mp4\n",
      "clips_2/K2WoWSGIq40.mp4\n",
      "clips_2/sBsQtfnFQjs.mp4\n",
      "clips_2/YlQhQEs-U9E.mp4\n",
      "clips_2/VVhhKdz8rjk.mp4\n",
      "clips_2/rIeHFf6tfSM.mp4\n",
      "clips_2/65uojzC-txs.mp4\n",
      "clips_2/pc4UwXXhsQM.mp4\n",
      "clips_2/QnDdUEcqk30.mp4\n",
      "clips_2/6ak1IED7SO4.mp4\n",
      "clips_2/8YscXcbgf54.mp4\n",
      "clips_2/3Cyw3IRoG8U.mp4\n",
      "clips_2/x1ZQMmhsDu8.mp4\n",
      "clips_2/SIm_TNWBrHg.mp4\n",
      "clips_2/S72cQQmwtS8.mp4\n",
      "clips_2/V6yFLsMd8jY.mp4\n",
      "clips_2/Io1n_qjN66A.mp4\n",
      "clips_2/HEM2wPwCNjg.mp4\n",
      "clips_2/ekIYJlEFCk0.mp4\n",
      "clips_2/FUCQwcSt2EY.mp4\n",
      "clips_2/hMoO-1XY7oI.mp4\n",
      "clips_2/Nowo1pRH2fY.mp4\n",
      "clips_2/DCCkgQl2JAQ.mp4\n",
      "clips_2/0926nXPz1gY.mp4\n",
      "clips_2/9LPQS0C-v5s.mp4\n",
      "clips_2/rzN845HcWow.mp4\n",
      "clips_2/knsjBFq7Jus.mp4\n",
      "clips_2/b1PeQ5Y-gm0.mp4\n",
      "clips_2/CX95p8YLJL4.mp4\n",
      "clips_2/vyvVarzWNCY.mp4\n",
      "clips_2/QMY0NvEHtA4.mp4\n",
      "clips_2/RpWhduKx-P4.mp4\n",
      "clips_2/ZeQ2zwkrffM.mp4\n",
      "clips_2/2MgdIxEXPjw.mp4\n",
      "clips_2/JkXo2jz8PSo.mp4\n",
      "clips_2/hEesF3-72K8.mp4\n",
      "clips_2/74q5b0KKi8w.mp4\n",
      "clips_2/OEodiMsTGxE.mp4\n",
      "clips_2/JJ-wRGLqHbA.mp4\n",
      "clips_2/VGbjuZX69A4.mp4\n",
      "clips_2/yHnY9GCjt5E.mp4\n",
      "clips_2/w7iRS6FV7FE.mp4\n",
      "clips_2/IT1hD5WISps.mp4\n",
      "clips_2/mY_-zsJODZw.mp4\n",
      "clips_2/8veYu3tHyBw.mp4\n",
      "clips_2/xWlbfS-hYuM.mp4\n",
      "clips_2/_54lH029gxs.mp4\n",
      "clips_2/bJ_unb4ia0I.mp4\n",
      "clips_2/J85Msdi9Kgk.mp4\n",
      "clips_2/sAHpca09P0I.mp4\n",
      "clips_2/6GwnNBzDoao.mp4\n",
      "clips_2/pIFGfwQKeEE.mp4\n",
      "clips_2/YQJfrb2k00k.mp4\n",
      "clips_2/o8BiF4x2q-Q.mp4\n",
      "clips_2/HFgIXxJyGmg.mp4\n",
      "clips_2/WFBA0RxdDqw.mp4\n",
      "clips_2/ZKFhlncm_ec.mp4\n",
      "clips_2/X-P_jbIVe6s.mp4\n",
      "clips_2/BIVXHbCZBfg.mp4\n",
      "clips_2/-3uzSAz60BQ.mp4\n",
      "clips_2/fXKQENVpr8c.mp4\n",
      "clips_2/fPhwWijgOtI.mp4\n",
      "clips_2/JKkSjQumtmA.mp4\n",
      "clips_2/TftKt5yM8bo.mp4\n",
      "clips_2/bGHtr46U8Pc.mp4\n",
      "clips_2/cQEe6_mOX58.mp4\n",
      "clips_2/quRWiEOG2GI.mp4\n",
      "clips_2/JGmpseRwv-M.mp4\n",
      "clips_2/-59dBjAyYyE.mp4\n",
      "clips_2/cnnKEsVnuAQ.mp4\n",
      "clips_2/IhUmcBKO7dk.mp4\n",
      "clips_2/8Ttq5OkdJSE.mp4\n",
      "clips_2/J6ULTb4xs3A.mp4\n",
      "clips_2/ckf60jeO0PA.mp4\n",
      "clips_2/TqktQaI7qic.mp4\n",
      "clips_2/jqjKnpZVmIc.mp4\n",
      "clips_2/zatSd6dtIIY.mp4\n",
      "clips_2/YNec3X72lws.mp4\n",
      "clips_2/7Uq3nZTBhck.mp4\n",
      "clips_2/fGXz6AZUHds.mp4\n",
      "clips_2/l99GkYltCJk.mp4\n",
      "clips_2/lvAD-BsLZ5o.mp4\n",
      "clips_2/iPgTUdZQtZ0.mp4\n",
      "clips_2/jz3ySwxMVmc.mp4\n",
      "clips_2/x2QXBznKziQ.mp4\n",
      "clips_2/_vPPRW5NLyo.mp4\n",
      "clips_2/1Wz0zEDoF1A.mp4\n",
      "clips_2/erS8ar6m3cA.mp4\n",
      "clips_2/mWQSxjherZY.mp4\n",
      "clips_2/LNJOwyattUE.mp4\n",
      "clips_2/DXviXEPU2tI.mp4\n",
      "clips_2/A-ICD7F4zX4.mp4\n",
      "clips_2/UxT3V29X-is.mp4\n",
      "clips_2/f6pgC5YEwIc.mp4\n",
      "clips_2/E83LPdtdN9c.mp4\n",
      "clips_2/IVfNGI5_IWg.mp4\n",
      "clips_2/u2xCi_6apgg.mp4\n",
      "clips_2/7d5ot3mLA84.mp4\n",
      "clips_2/4Yc2JsDxGgc.mp4\n",
      "clips_2/780I7yhcMo4.mp4\n",
      "clips_2/-i8qXrhHOkY.mp4\n",
      "clips_2/3qfLZ-2_JoU.mp4\n",
      "clips_2/2puFq2392xU.mp4\n",
      "clips_2/IczEHV4i_9w.mp4\n",
      "clips_2/gEG4crRFyl4.mp4\n",
      "clips_2/ChaVEFrnmx0.mp4\n",
      "clips_2/jAAjqMLJ214.mp4\n",
      "clips_2/M58MHF9GpKI.mp4\n",
      "clips_2/LOECNbkKA4A.mp4\n",
      "clips_2/eUc2FR-cFwE.mp4\n",
      "clips_2/xUvD1pm_TUM.mp4\n",
      "clips_2/ZnDe4aADhbM.mp4\n",
      "clips_2/qSUo6zX0pWU.mp4\n",
      "clips_2/fKwoLf-NxZE.mp4\n",
      "clips_2/hKT7p1LOJeQ.mp4\n",
      "clips_2/ThZssGhhi84.mp4\n",
      "clips_2/5X4Br_ktjRY.mp4\n",
      "clips_2/8QILuOwPyp0.mp4\n",
      "clips_2/5iheJnimcWw.mp4\n",
      "clips_2/4f43QcdSMuU.mp4\n",
      "clips_2/3VPG0vl_838.mp4\n",
      "clips_2/jhZhKXgWSTM.mp4\n",
      "clips_2/-NYvR9wYuNk.mp4\n",
      "clips_2/7p2BdBJKWkM.mp4\n",
      "clips_2/WATxfSLWoZI.mp4\n",
      "clips_2/HaK5gDH9GwQ.mp4\n",
      "clips_2/DVl7vEAhzOY.mp4\n",
      "clips_2/feF7Whk80vA.mp4\n",
      "clips_2/GSVHV8nG7SE.mp4\n",
      "clips_2/3_WJ3m1DG4w.mp4\n",
      "clips_2/-lalLEEvhV8.mp4\n",
      "clips_2/QNRjD4sWrSI.mp4\n",
      "clips_2/K3svSLdxVQY.mp4\n",
      "clips_2/AX5T5BpqYDI.mp4\n",
      "clips_2/L44hfrzPGlA.mp4\n",
      "clips_2/N3MJpJxj1KU.mp4\n",
      "clips_2/1CDdTJ3dRYM.mp4\n",
      "clips_2/mYFBzBztORA.mp4\n",
      "clips_2/4sAa3NEHgyY.mp4\n",
      "clips_2/WlRwBkAiw40.mp4\n",
      "clips_2/J6uuTY3YXi8.mp4\n",
      "clips_2/3zblWOox6nk.mp4\n",
      "clips_2/AgrTovrsxLo.mp4\n",
      "clips_2/uEx9foDMRIc.mp4\n",
      "clips_2/OKkw7Zo-tug.mp4\n",
      "clips_2/IKp8kacBeVg.mp4\n",
      "clips_2/1gmDVbxrkWU.mp4\n",
      "clips_2/s5dBFR2A4Y4.mp4\n",
      "clips_2/Gj5pk-V6c7M.mp4\n",
      "clips_2/VEITXY7Hl8s.mp4\n",
      "clips_2/pCAtLMKe4nE.mp4\n",
      "clips_2/2dUO5_eacgc.mp4\n",
      "clips_2/FUdRa6v7Xqc.mp4\n",
      "clips_2/UTBweFBTOkM.mp4\n",
      "clips_2/s3z5g7cxFAk.mp4\n",
      "clips_2/vBUJ6e6cE6Y.mp4\n",
      "clips_2/jGZv2BgBQu0.mp4\n",
      "clips_2/CBZrH_U8rm0.mp4\n",
      "clips_2/LEAFqS6njWE.mp4\n",
      "clips_2/xEGYW6KYBMU.mp4\n",
      "clips_2/1KKdgM7-cP0.mp4\n",
      "clips_2/Wp5AxNB1svE.mp4\n",
      "clips_2/XM7_sHN5sfQ.mp4\n",
      "clips_2/fL1SHja1mC4.mp4\n",
      "clips_2/QDMX3WoV3vI.mp4\n",
      "clips_2/jMfed6tkfZE.mp4\n",
      "clips_2/p4PEBG5BsI8.mp4\n",
      "clips_2/CeZfQr0q_w4.mp4\n",
      "clips_2/m-6JMfKxmy8.mp4\n",
      "clips_2/Q4U9xVrG6Vg.mp4\n",
      "clips_2/XwhyWYla0tI.mp4\n",
      "clips_2/oXW1WtlaXQQ.mp4\n",
      "clips_2/frq9eNYqKp4.mp4\n",
      "clips_2/6QUwsu0BXMw.mp4\n",
      "clips_2/I920Jgx1-DQ.mp4\n",
      "clips_2/MDKZNdc6hqk.mp4\n",
      "clips_2/D4qZ6b3ovuc.mp4\n",
      "clips_2/XTzu0zcnyLQ.mp4\n",
      "clips_2/BOEfDBC8AMQ.mp4\n",
      "clips_2/SsbWz4zoMJQ.mp4\n",
      "clips_2/r2kKpVYTxKg.mp4\n",
      "clips_2/2KeONYo3h6g.mp4\n",
      "clips_2/cO2CHBw0WVc.mp4\n",
      "clips_2/obrgB2x9U-Y.mp4\n",
      "clips_2/lCUjwuV8cXI.mp4\n",
      "clips_2/UuTs3g4L534.mp4\n",
      "clips_2/xaHG8E7gvOU.mp4\n",
      "clips_2/Y0-rguWi3SU.mp4\n",
      "clips_2/W8R-UPfEYRI.mp4\n",
      "clips_2/yPsCiU2yDMc.mp4\n",
      "clips_2/PYmaGWEWexw.mp4\n",
      "clips_2/cJC3CGX5zus.mp4\n",
      "clips_2/gD7OsnKGgKU.mp4\n",
      "clips_2/zcVaHtKvSwo.mp4\n",
      "clips_2/1BkRWkHCMjQ.mp4\n",
      "clips_2/gG72pS0Rr_k.mp4\n",
      "clips_2/1NjhcQ1ehl4.mp4\n",
      "clips_2/1RxHuRsDYJ4.mp4\n",
      "clips_2/P4WSt5g9mxg.mp4\n",
      "clips_2/cG6pS7WP-sk.mp4\n",
      "clips_2/hpuZ6gPQND0.mp4\n",
      "clips_2/s3sbNFsVHGQ.mp4\n",
      "clips_2/LlGEzEg_FOQ.mp4\n",
      "clips_2/T5hZI6yDPFk.mp4\n",
      "clips_2/3TMa_GTZ3no.mp4\n",
      "clips_2/W3ROrEJpLyA.mp4\n",
      "clips_2/dtOyun8eJso.mp4\n",
      "clips_2/uiY_4AYrPLY.mp4\n",
      "clips_2/rHJa09KcDN0.mp4\n",
      "clips_2/ak8Q6hpnWW4.mp4\n",
      "clips_2/ba1TVXTyZpg.mp4\n",
      "clips_2/fz74PTYKWBU.mp4\n",
      "clips_2/-XyE05XlEqo.mp4\n",
      "clips_2/uX1vDU3CsnM.mp4\n",
      "clips_2/SAWUKiHQjrE.mp4\n",
      "clips_2/vT5koVSnop4.mp4\n",
      "clips_2/7yBzc_Y5dUI.mp4\n",
      "clips_2/TA7Sy-PSTeU.mp4\n",
      "clips_2/IRVdoeDoUaU.mp4\n",
      "clips_2/Bj9bjhu_4I8.mp4\n",
      "clips_2/cBgqOPex1wI.mp4\n",
      "clips_2/6GHXZks_Iig.mp4\n",
      "clips_2/S1Ce0nMApWY.mp4\n",
      "clips_2/uy4cyUBQd88.mp4\n",
      "clips_2/MZ70hlIaC1Q.mp4\n",
      "clips_2/_SyU7s7WUbE.mp4\n",
      "clips_2/25HoFzbA_8U.mp4\n",
      "clips_2/8HHao9TM3dA.mp4\n",
      "clips_2/_usld3qWfTQ.mp4\n",
      "clips_2/kvm_zlJnvmQ.mp4\n",
      "clips_2/zkMa6fNKrLk.mp4\n",
      "clips_2/9BHjKQyFKoo.mp4\n",
      "clips_2/5NKgOUvI1rI.mp4\n",
      "clips_2/F65aAbC-PcQ.mp4\n",
      "clips_2/jeQrvMYFjlY.mp4\n",
      "clips_2/yM1m2a59oyc.mp4\n",
      "clips_2/9y2adEG9-BM.mp4\n",
      "clips_2/3_-uFSyTu2E.mp4\n",
      "clips_2/vCifsULstmQ.mp4\n",
      "clips_2/ZPiZ4OCXXr4.mp4\n",
      "clips_2/5zNpOlB53hc.mp4\n",
      "clips_2/6gv5V7qtR60.mp4\n",
      "clips_2/_i3ZDX4v-5k.mp4\n",
      "clips_2/ySvP6CsE4L4.mp4\n",
      "clips_2/xPk8k0xFIF4.mp4\n",
      "clips_2/a1g973WbUc4.mp4\n",
      "clips_2/TXrAvffsw4E.mp4\n",
      "clips_2/sXy7JRlV8T8.mp4\n",
      "clips_2/Cqmj-c6bl6A.mp4\n",
      "clips_2/XeWvRscoNhw.mp4\n",
      "clips_2/bXgcFYIZnD8.mp4\n",
      "clips_2/19mfKnwywu8.mp4\n",
      "clips_2/H3JrIFt-Z7U.mp4\n",
      "clips_2/7t9SFobTgUc.mp4\n",
      "clips_2/Sw33eGUKQ2k.mp4\n",
      "clips_2/o0Hg2a3zJs4.mp4\n",
      "clips_2/MrJMf-dV-dY.mp4\n",
      "clips_2/3anhRKfeN9g.mp4\n",
      "clips_2/d9h0v4I37Fg.mp4\n",
      "clips_2/Pgl0MeU6Xqs.mp4\n",
      "clips_2/KkatF_rUdMQ.mp4\n",
      "clips_2/fZj-9Cium7Y.mp4\n",
      "clips_2/FY4MgGpsXYg.mp4\n",
      "clips_2/VihiSB8_fdw.mp4\n",
      "clips_2/ZTACAngMXWY.mp4\n",
      "clips_2/9BGaIdfULSY.mp4\n",
      "clips_2/9y2Hyc-NNwI.mp4\n",
      "clips_2/hJ2SPDIZH3U.mp4\n",
      "clips_2/0oMQFAurqK4.mp4\n",
      "clips_2/uERX4zE4-4U.mp4\n",
      "clips_2/C9gOhhsZGfM.mp4\n",
      "clips_2/BN-dhgHRkKw.mp4\n",
      "clips_2/2nw_8_VOVAU.mp4\n",
      "clips_2/BvZCUVFAVy4.mp4\n",
      "clips_2/IJoQI1vVVp4.mp4\n",
      "clips_2/e5XFzWhz8Nk.mp4\n",
      "clips_2/-m4lDw7atUE.mp4\n",
      "clips_2/A3waLm5ig50.mp4\n",
      "clips_2/lFN-7WrfZks.mp4\n",
      "clips_2/k8LAphfa6j4.mp4\n",
      "clips_2/a19abgLQxdU.mp4\n",
      "clips_2/0-v_fA3WPXI.mp4\n",
      "clips_2/mGHzUUESHyY.mp4\n",
      "clips_2/hg0OttahZAI.mp4\n",
      "clips_2/E9czDLqMfn8.mp4\n",
      "clips_2/RDk268e_H6g.mp4\n",
      "clips_2/PDOpSD9ZdYE.mp4\n",
      "clips_2/m1aNSsGM4bQ.mp4\n",
      "clips_2/N0y9U0J8jns.mp4\n",
      "clips_2/Ftcy3zLLAyU.mp4\n",
      "clips_2/VoAbMmdhryQ.mp4\n",
      "clips_2/QF99vKY3om8.mp4\n",
      "clips_2/2YnmRDZ_OK4.mp4\n",
      "clips_2/g9yiiJSTo1g.mp4\n",
      "clips_2/0so1jmNGlC4.mp4\n",
      "clips_2/SErHwqPT4So.mp4\n",
      "clips_2/JszusEtKGlw.mp4\n",
      "clips_2/l4c46qo9QHM.mp4\n",
      "clips_2/ghwWs2mBIXk.mp4\n",
      "clips_2/FaBqPBllixk.mp4\n",
      "clips_2/TdSg3pJm16I.mp4\n",
      "clips_2/v4mDrDwzY84.mp4\n",
      "clips_2/7khYEFsH4Pw.mp4\n",
      "clips_2/IFCOo7JLLJo.mp4\n",
      "clips_2/hI7bRsvEB28.mp4\n",
      "clips_2/dCD2pw8llH0.mp4\n",
      "clips_2/dHxaqXFQ2q4.mp4\n",
      "clips_2/TGUk7M5plmA.mp4\n",
      "clips_2/iPmhT2Bkc68.mp4\n",
      "clips_2/K-bwtFnoFyk.mp4\n",
      "clips_2/l-3B4T5yENw.mp4\n",
      "clips_2/0fCZ4MW3jYU.mp4\n",
      "clips_2/lnfY8F-ygyk.mp4\n",
      "clips_2/L1RPQcWU-1Y.mp4\n",
      "clips_2/dwrxsO5Jk4w.mp4\n",
      "clips_2/abkIA8g_tyI.mp4\n",
      "clips_2/48huDLh1H0I.mp4\n",
      "clips_2/dsPI3gukJLU.mp4\n",
      "clips_2/ILWv8hGOvyg.mp4\n",
      "clips_2/-m2WZLslIqw.mp4\n",
      "clips_2/6uZuqyfL8Ps.mp4\n",
      "clips_2/fgi6OZW1uto.mp4\n",
      "clips_2/1pNdXcMQX_8.mp4\n",
      "clips_2/JdygbpqRYbE.mp4\n",
      "clips_2/I-la9-81yyE.mp4\n",
      "clips_2/TTg2eg_lJ-o.mp4\n",
      "clips_2/kk4xK1IHZZQ.mp4\n",
      "After: 2208\n"
     ]
    }
   ],
   "source": [
    "print(\"Before:\", df.shape[0])\n",
    "for i, row in df.iterrows():\n",
    "    if not os.path.exists(row['video_path']):\n",
    "        print(row['video_path'])\n",
    "        df.drop(i, inplace=True)\n",
    "df.reset_index(drop=True, inplace=True)\n",
    "print(\"After:\", df.shape[0])"
   ]
  },
  {
   "cell_type": "code",
   "execution_count": 8,
   "metadata": {
    "ExecuteTime": {
     "end_time": "2024-05-06T16:15:03.529327400Z",
     "start_time": "2024-05-06T16:15:03.524304Z"
    },
    "collapsed": false,
    "jupyter": {
     "outputs_hidden": false
    }
   },
   "outputs": [],
   "source": [
    "X_train, X_val, _, _ = train_test_split(df, df['label'])\n",
    "X_train.reset_index(drop=True, inplace=True)\n",
    "X_val.reset_index(drop=True, inplace=True)"
   ]
  },
  {
   "cell_type": "code",
   "execution_count": 9,
   "metadata": {
    "ExecuteTime": {
     "end_time": "2024-05-06T16:15:04.099162100Z",
     "start_time": "2024-05-06T16:15:03.984214100Z"
    },
    "collapsed": false,
    "jupyter": {
     "outputs_hidden": false
    }
   },
   "outputs": [],
   "source": [
    "labels = X_train[\"label\"].unique()\n",
    "labels2id = {label: i for i, label in enumerate(labels)}"
   ]
  },
  {
   "cell_type": "code",
   "execution_count": 10,
   "metadata": {
    "ExecuteTime": {
     "end_time": "2024-05-06T16:17:10.841085Z",
     "start_time": "2024-05-06T16:17:10.825423700Z"
    },
    "collapsed": false,
    "jupyter": {
     "outputs_hidden": false
    }
   },
   "outputs": [],
   "source": [
    "transform = transforms.Compose([\n",
    "    transforms.RandomResizedCrop(224),\n",
    "    transforms.RandomHorizontalFlip(),\n",
    "    transforms.ToTensor(),\n",
    "    # transforms.Normalize([0.485, 0.456, 0.406], [0.229, 0.224, 0.225])\n",
    "])\n",
    "\n",
    "to_tensor = ToTensor()"
   ]
  },
  {
   "cell_type": "code",
   "execution_count": 11,
   "metadata": {
    "ExecuteTime": {
     "end_time": "2024-05-06T16:17:11.316730300Z",
     "start_time": "2024-05-06T16:17:11.205184600Z"
    },
    "collapsed": false,
    "jupyter": {
     "outputs_hidden": false
    }
   },
   "outputs": [],
   "source": [
    "class ActionDataset(Dataset):\n",
    "\n",
    "    def __init__(self, meta, transform=None):\n",
    "        self.meta = meta\n",
    "        self.transform = transform\n",
    "\n",
    "    def __len__(self):\n",
    "        return len(self.meta)\n",
    "\n",
    "    def __getitem__(self, idx):\n",
    "        if torch.is_tensor(idx):\n",
    "            idx = idx.tolist()\n",
    "\n",
    "        while True:\n",
    "            try:\n",
    "                file_path = self.meta['video_path'].iloc[idx]\n",
    "                container = av.open(file_path)\n",
    "\n",
    "                indices = sample_frame_indices(clip_len=8, frame_sample_rate=5,\n",
    "                                               seg_len=container.streams.video[0].frames)\n",
    "                video = read_video_pyav(container, indices)\n",
    "                # while video.shape[0] < 8:\n",
    "                #     video = np.vstack([video, video[-1:]])\n",
    "\n",
    "            except Exception as e:\n",
    "                print(\"loop Error: \", e)\n",
    "                continue\n",
    "            break\n",
    "\n",
    "        if self.transform:\n",
    "            transformed = apply_video_augmentations(video, self.transform)\n",
    "            video = transformed\n",
    "\n",
    "        return video, self.meta['label'].iloc[idx]\n",
    "\n",
    "    def validate_videos(self):\n",
    "        for i, row in self.meta.iterrows():\n",
    "            if not os.path.exists(row['video_path']):\n",
    "                print(row['video_path'])\n",
    "                self.meta.drop(i, inplace=True)\n",
    "                continue\n",
    "\n",
    "            self.__getitem__(i)\n",
    "        self.meta.reset_index(drop=True, inplace=True)\n",
    "        return self.meta"
   ]
  },
  {
   "cell_type": "code",
   "execution_count": 12,
   "metadata": {
    "ExecuteTime": {
     "end_time": "2024-05-06T16:17:11.556330800Z",
     "start_time": "2024-05-06T16:17:11.374241400Z"
    },
    "collapsed": false,
    "jupyter": {
     "outputs_hidden": false
    }
   },
   "outputs": [],
   "source": [
    "class VideoDataset(Dataset):\n",
    "    def __init__(self, meta, max_length=128, transform=None):\n",
    "        self.meta = meta\n",
    "        self.max_length = max_length\n",
    "        self.transform = transform\n",
    "\n",
    "    def __len__(self):\n",
    "        return len(self.meta)\n",
    "\n",
    "    def __getitem__(self, idx):\n",
    "        row = self.meta.iloc[idx]\n",
    "        video = self.load_video(row['video_path'])\n",
    "        # video = apply_video_augmentations(video, self.transform)\n",
    "        for i in range(len(video)):\n",
    "            video[i] = self.transform(video[i])\n",
    "        video = torch.stack(video)\n",
    "        labels_tensor = labels2id[self.meta['label'].iloc[idx]]\n",
    "        labels_tensor = torch.tensor([labels_tensor]* len(video))\n",
    "        return video, labels_tensor\n",
    "\n",
    "    def load_video(self, path):\n",
    "        container = av.open(path)\n",
    "        indices = sample_frame_indices(clip_len=8, frame_sample_rate=5,\n",
    "                                       seg_len=container.streams.video[0].frames)\n",
    "        video = read_video_pyav(container, indices)\n",
    "        frames = []\n",
    "        for frame in video:\n",
    "            frame = frame.to_image()\n",
    "            # frame = cv2.resize(frame.to_ndarray(format=\"rgb24\"), (224, 224))\n",
    "            frames.append(frame)\n",
    "        return frames"
   ]
  },
  {
   "cell_type": "markdown",
   "metadata": {
    "ExecuteTime": {
     "end_time": "2024-05-06T12:12:18.356609200Z",
     "start_time": "2024-05-06T12:12:18.339649800Z"
    },
    "collapsed": false,
    "jupyter": {
     "outputs_hidden": false
    }
   },
   "source": [
    "# Training"
   ]
  },
  {
   "cell_type": "code",
   "execution_count": 13,
   "metadata": {
    "ExecuteTime": {
     "end_time": "2024-05-06T16:17:13.691369200Z",
     "start_time": "2024-05-06T16:17:13.682327100Z"
    },
    "collapsed": false,
    "jupyter": {
     "outputs_hidden": false
    }
   },
   "outputs": [],
   "source": [
    "# clear gpu memory\n",
    "import gc\n",
    "\n",
    "gc.collect()\n",
    "torch.cuda.empty_cache()"
   ]
  },
  {
   "cell_type": "code",
   "execution_count": 14,
   "metadata": {
    "ExecuteTime": {
     "end_time": "2024-05-06T16:17:48.359129700Z",
     "start_time": "2024-05-06T16:17:48.340507900Z"
    },
    "collapsed": false,
    "jupyter": {
     "outputs_hidden": false
    }
   },
   "outputs": [],
   "source": [
    "train_dataset = VideoDataset(meta=X_train, transform=transform)\n",
    "train_dataloader = DataLoader(train_dataset, batch_size=64, shuffle=True, num_workers=10, drop_last=True)"
   ]
  },
  {
   "cell_type": "code",
   "execution_count": 15,
   "metadata": {
    "ExecuteTime": {
     "end_time": "2024-05-06T16:17:48.636765Z",
     "start_time": "2024-05-06T16:17:48.627226300Z"
    },
    "collapsed": false,
    "jupyter": {
     "outputs_hidden": false
    }
   },
   "outputs": [],
   "source": [
    "val_dataset = VideoDataset(meta=X_val, transform=transform)\n",
    "val_dataloader = DataLoader(val_dataset, batch_size=64, shuffle=False, num_workers=10, drop_last=False)"
   ]
  },
  {
   "cell_type": "code",
   "execution_count": 16,
   "metadata": {
    "ExecuteTime": {
     "end_time": "2024-05-06T17:04:25.361255300Z",
     "start_time": "2024-05-06T17:04:25.347443400Z"
    },
    "collapsed": false,
    "jupyter": {
     "outputs_hidden": false
    }
   },
   "outputs": [],
   "source": [
    "epochs = 30\n",
    "lr = 1e-3\n",
    "\n",
    "optimizer = optim.SGD(model.parameters(), lr)  # 289\n",
    "loss_fun = nn.CrossEntropyLoss()"
   ]
  },
  {
   "cell_type": "code",
   "execution_count": 17,
   "metadata": {
    "ExecuteTime": {
     "end_time": "2024-05-06T17:06:04.480862300Z",
     "start_time": "2024-05-06T17:06:04.437053600Z"
    },
    "collapsed": false
   },
   "outputs": [],
   "source": [
    "import copy\n",
    "\n",
    "loss_history = {'train': [], 'val': [], 'test': []}\n",
    "acc_history = {'train': [], 'val': [], 'test': []}\n",
    "best_weights, bests_acc = copy.deepcopy(model.state_dict()), 0.0"
   ]
  },
  {
   "cell_type": "code",
   "execution_count": 18,
   "metadata": {},
   "outputs": [],
   "source": [
    "from torch.utils.tensorboard import SummaryWriter\n",
    "\n",
    "writer = SummaryWriter(\"runs/resnet18\")"
   ]
  },
  {
   "cell_type": "code",
   "execution_count": 19,
   "metadata": {},
   "outputs": [
    {
     "name": "stdout",
     "output_type": "stream",
     "text": [
      "Mon May  6 22:03:40 2024       \n",
      "+-----------------------------------------------------------------------------+\n",
      "| NVIDIA-SMI 520.61.05    Driver Version: 520.61.05    CUDA Version: 11.8     |\n",
      "|-------------------------------+----------------------+----------------------+\n",
      "| GPU  Name        Persistence-M| Bus-Id        Disp.A | Volatile Uncorr. ECC |\n",
      "| Fan  Temp  Perf  Pwr:Usage/Cap|         Memory-Usage | GPU-Util  Compute M. |\n",
      "|                               |                      |               MIG M. |\n",
      "|===============================+======================+======================|\n",
      "|   0  NVIDIA A2           On   | 00000000:03:00.0 Off |                    0 |\n",
      "|  0%   45C    P0    20W /  60W |   2030MiB / 15356MiB |      0%      Default |\n",
      "|                               |                      |                  N/A |\n",
      "+-------------------------------+----------------------+----------------------+\n",
      "                                                                               \n",
      "+-----------------------------------------------------------------------------+\n",
      "| Processes:                                                                  |\n",
      "|  GPU   GI   CI        PID   Type   Process name                  GPU Memory |\n",
      "|        ID   ID                                                   Usage      |\n",
      "|=============================================================================|\n",
      "|    0   N/A  N/A   3505342      C   ...ject/venv_test/bin/python     1378MiB |\n",
      "|    0   N/A  N/A   3557723      C   ...v/project/venv/bin/python      650MiB |\n",
      "+-----------------------------------------------------------------------------+\n"
     ]
    }
   ],
   "source": [
    "!nvidia-smi"
   ]
  },
  {
   "cell_type": "code",
   "execution_count": 21,
   "metadata": {
    "ExecuteTime": {
     "end_time": "2024-05-06T18:19:38.561039900Z",
     "start_time": "2024-05-06T17:06:10.845121700Z"
    },
    "collapsed": false,
    "jupyter": {
     "outputs_hidden": false
    }
   },
   "outputs": [
    {
     "name": "stderr",
     "output_type": "stream",
     "text": [
      "Epochs:   0%|          | 0/30 [00:00<?, ?it/s]mmco: unref short failure\n"
     ]
    },
    {
     "name": "stdout",
     "output_type": "stream",
     "text": [
      "Batch 0:  2.854477643966675\n",
      "Batch 1:  2.7865326404571533\n"
     ]
    },
    {
     "name": "stderr",
     "output_type": "stream",
     "text": [
      "mmco: unref short failure\n"
     ]
    },
    {
     "name": "stdout",
     "output_type": "stream",
     "text": [
      "Batch 2:  2.873196601867676\n",
      "Batch 3:  2.952505588531494\n",
      "Batch 4:  2.986220121383667\n",
      "Batch 5:  2.8059136867523193\n",
      "Batch 6:  2.8213179111480713\n",
      "Batch 7:  2.797590970993042\n",
      "Batch 8:  2.941171407699585\n",
      "Batch 9:  2.7819504737854004\n",
      "Batch 10:  2.8504092693328857\n",
      "Batch 11:  2.8171184062957764\n",
      "Batch 12:  2.870455026626587\n",
      "Batch 13:  2.9118762016296387\n",
      "Batch 14:  2.77229380607605\n",
      "Batch 15:  2.856036424636841\n",
      "Batch 16:  2.7759132385253906\n",
      "Batch 17:  2.8823866844177246\n",
      "Batch 18:  2.8264589309692383\n",
      "Batch 19:  2.805522918701172\n",
      "Batch 20:  2.7052555084228516\n",
      "Batch 21:  2.8774101734161377\n",
      "Batch 22:  2.8342463970184326\n",
      "Batch 23:  2.9240918159484863\n"
     ]
    },
    {
     "name": "stderr",
     "output_type": "stream",
     "text": [
      "Epochs:   3%|▎         | 1/30 [00:52<25:26, 52.64s/it]"
     ]
    },
    {
     "name": "stdout",
     "output_type": "stream",
     "text": [
      "Batch 24:  2.741175413131714\n",
      "Training loss: 2.84206109046936\n"
     ]
    },
    {
     "name": "stderr",
     "output_type": "stream",
     "text": [
      "mmco: unref short failure\n",
      "mmco: unref short failure\n"
     ]
    },
    {
     "name": "stdout",
     "output_type": "stream",
     "text": [
      "Batch 0:  2.8638134002685547\n",
      "Batch 1:  2.8175604343414307\n",
      "Batch 2:  2.843341112136841\n",
      "Batch 3:  2.8107247352600098\n",
      "Batch 4:  2.7136669158935547\n",
      "Batch 5:  2.7483067512512207\n",
      "Batch 6:  2.81469464302063\n",
      "Batch 7:  2.747183084487915\n",
      "Batch 8:  2.74918270111084\n",
      "Batch 9:  2.666693925857544\n",
      "Batch 10:  2.79007625579834\n",
      "Batch 11:  2.792522668838501\n",
      "Batch 12:  2.7713370323181152\n",
      "Batch 13:  2.8253586292266846\n",
      "Batch 14:  2.736225128173828\n",
      "Batch 15:  2.80930757522583\n",
      "Batch 16:  2.7550418376922607\n",
      "Batch 17:  2.7734999656677246\n",
      "Batch 18:  2.792741298675537\n",
      "Batch 19:  2.747102975845337\n",
      "Batch 20:  2.8206732273101807\n",
      "Batch 21:  2.76008939743042\n",
      "Batch 22:  2.791276216506958\n",
      "Batch 23:  2.7873802185058594\n",
      "Batch 24:  2.769503593444824\n"
     ]
    },
    {
     "name": "stderr",
     "output_type": "stream",
     "text": [
      "Epochs:   7%|▋         | 2/30 [01:42<23:49, 51.04s/it]"
     ]
    },
    {
     "name": "stdout",
     "output_type": "stream",
     "text": [
      "Training loss: 2.7798921489715576\n"
     ]
    },
    {
     "name": "stderr",
     "output_type": "stream",
     "text": [
      "mmco: unref short failure\n",
      "mmco: unref short failure\n"
     ]
    },
    {
     "name": "stdout",
     "output_type": "stream",
     "text": [
      "Batch 0:  2.7246789932250977\n",
      "Batch 1:  2.8196825981140137\n",
      "Batch 2:  2.724985361099243\n",
      "Batch 3:  2.740440607070923\n",
      "Batch 4:  2.729891777038574\n",
      "Batch 5:  2.7494425773620605\n",
      "Batch 6:  2.72538161277771\n",
      "Batch 7:  2.7987303733825684\n",
      "Batch 8:  2.7106118202209473\n",
      "Batch 9:  2.776315212249756\n",
      "Batch 10:  2.7638754844665527\n",
      "Batch 11:  2.8047096729278564\n",
      "Batch 12:  2.7106685638427734\n",
      "Batch 13:  2.7873547077178955\n",
      "Batch 14:  2.7467691898345947\n",
      "Batch 15:  2.7269906997680664\n",
      "Batch 16:  2.7465624809265137\n",
      "Batch 17:  2.7856500148773193\n",
      "Batch 18:  2.73652720451355\n",
      "Batch 19:  2.775804042816162\n",
      "Batch 20:  2.6945643424987793\n",
      "Batch 21:  2.7762949466705322\n",
      "Batch 22:  2.7604472637176514\n",
      "Batch 23:  2.7266347408294678\n",
      "Batch 24:  2.702768564224243\n"
     ]
    },
    {
     "name": "stderr",
     "output_type": "stream",
     "text": [
      "Epochs:  10%|█         | 3/30 [02:32<22:50, 50.75s/it]"
     ]
    },
    {
     "name": "stdout",
     "output_type": "stream",
     "text": [
      "Training loss: 2.749831314086914\n"
     ]
    },
    {
     "name": "stderr",
     "output_type": "stream",
     "text": [
      "mmco: unref short failure\n"
     ]
    },
    {
     "name": "stdout",
     "output_type": "stream",
     "text": [
      "Batch 0:  2.7760777473449707\n",
      "Batch 1:  2.6948375701904297\n"
     ]
    },
    {
     "name": "stderr",
     "output_type": "stream",
     "text": [
      "mmco: unref short failure\n"
     ]
    },
    {
     "name": "stdout",
     "output_type": "stream",
     "text": [
      "Batch 2:  2.725757598876953\n",
      "Batch 3:  2.6652944087982178\n",
      "Batch 4:  2.696450710296631\n",
      "Batch 5:  2.738363027572632\n",
      "Batch 6:  2.687730550765991\n",
      "Batch 7:  2.739692449569702\n",
      "Batch 8:  2.6913340091705322\n",
      "Batch 9:  2.723294258117676\n",
      "Batch 10:  2.741825819015503\n",
      "Batch 11:  2.7126522064208984\n",
      "Batch 12:  2.7309463024139404\n",
      "Batch 13:  2.67182993888855\n",
      "Batch 14:  2.688581705093384\n",
      "Batch 15:  2.70137095451355\n",
      "Batch 16:  2.7936949729919434\n",
      "Batch 17:  2.748041868209839\n",
      "Batch 18:  2.754469633102417\n",
      "Batch 19:  2.757164478302002\n",
      "Batch 20:  2.7292075157165527\n",
      "Batch 21:  2.7758548259735107\n",
      "Batch 22:  2.6870715618133545\n",
      "Batch 23:  2.734269857406616\n",
      "Batch 24:  2.6981146335601807\n"
     ]
    },
    {
     "name": "stderr",
     "output_type": "stream",
     "text": [
      "Epochs:  13%|█▎        | 4/30 [03:23<21:58, 50.71s/it]"
     ]
    },
    {
     "name": "stdout",
     "output_type": "stream",
     "text": [
      "Training loss: 2.722557144165039\n",
      "Batch 0:  2.6992597579956055\n",
      "Batch 1:  2.7512385845184326\n"
     ]
    },
    {
     "name": "stderr",
     "output_type": "stream",
     "text": [
      "mmco: unref short failure\n"
     ]
    },
    {
     "name": "stdout",
     "output_type": "stream",
     "text": [
      "Batch 2:  2.6316354274749756\n",
      "Batch 3:  2.7424328327178955\n",
      "Batch 4:  2.6639928817749023\n",
      "Batch 5:  2.7314867973327637\n",
      "Batch 6:  2.696500062942505\n",
      "Batch 7:  2.7429730892181396\n",
      "Batch 8:  2.673264265060425\n",
      "Batch 9:  2.7135941982269287\n",
      "Batch 10:  2.755070447921753\n",
      "Batch 11:  2.7625861167907715\n",
      "Batch 12:  2.686915874481201\n",
      "Batch 13:  2.6699042320251465\n",
      "Batch 14:  2.724693536758423\n",
      "Batch 15:  2.6281726360321045\n",
      "Batch 16:  2.6350393295288086\n",
      "Batch 17:  2.7612202167510986\n",
      "Batch 18:  2.6919031143188477\n",
      "Batch 19:  2.7274744510650635\n",
      "Batch 20:  2.702521800994873\n",
      "Batch 21:  2.6709632873535156\n",
      "Batch 22:  2.699394941329956\n",
      "Batch 23:  2.6942453384399414\n",
      "Batch 24:  2.6983115673065186\n"
     ]
    },
    {
     "name": "stderr",
     "output_type": "stream",
     "text": [
      "Epochs:  17%|█▋        | 5/30 [04:13<21:03, 50.53s/it]"
     ]
    },
    {
     "name": "stdout",
     "output_type": "stream",
     "text": [
      "Training loss: 2.702191791534424\n",
      "Batch 0:  2.72517728805542\n"
     ]
    },
    {
     "name": "stderr",
     "output_type": "stream",
     "text": [
      "mmco: unref short failure\n"
     ]
    },
    {
     "name": "stdout",
     "output_type": "stream",
     "text": [
      "Batch 1:  2.6776628494262695\n"
     ]
    },
    {
     "name": "stderr",
     "output_type": "stream",
     "text": [
      "mmco: unref short failure\n"
     ]
    },
    {
     "name": "stdout",
     "output_type": "stream",
     "text": [
      "Batch 2:  2.696291208267212\n",
      "Batch 3:  2.59945011138916\n",
      "Batch 4:  2.6562917232513428\n",
      "Batch 5:  2.7797629833221436\n",
      "Batch 6:  2.6225900650024414\n",
      "Batch 7:  2.755671501159668\n",
      "Batch 8:  2.7194056510925293\n",
      "Batch 9:  2.6947202682495117\n",
      "Batch 10:  2.665618419647217\n",
      "Batch 11:  2.7192060947418213\n",
      "Batch 12:  2.629018783569336\n",
      "Batch 13:  2.6898255348205566\n",
      "Batch 14:  2.6982932090759277\n",
      "Batch 15:  2.6593258380889893\n",
      "Batch 16:  2.695420265197754\n",
      "Batch 17:  2.648414134979248\n",
      "Batch 18:  2.6924374103546143\n",
      "Batch 19:  2.687751054763794\n",
      "Batch 20:  2.6896355152130127\n",
      "Batch 21:  2.702404737472534\n",
      "Batch 22:  2.6273033618927\n",
      "Batch 23:  2.7356505393981934\n",
      "Batch 24:  2.696882963180542\n"
     ]
    },
    {
     "name": "stderr",
     "output_type": "stream",
     "text": [
      "Epochs:  20%|██        | 6/30 [05:04<20:13, 50.57s/it]"
     ]
    },
    {
     "name": "stdout",
     "output_type": "stream",
     "text": [
      "Training loss: 2.6865684604644775\n"
     ]
    },
    {
     "name": "stderr",
     "output_type": "stream",
     "text": [
      "mmco: unref short failure\n"
     ]
    },
    {
     "name": "stdout",
     "output_type": "stream",
     "text": [
      "Batch 0:  2.6177566051483154\n",
      "Batch 1:  2.580775499343872\n",
      "Batch 2:  2.6581871509552\n"
     ]
    },
    {
     "name": "stderr",
     "output_type": "stream",
     "text": [
      "mmco: unref short failure\n"
     ]
    },
    {
     "name": "stdout",
     "output_type": "stream",
     "text": [
      "Batch 3:  2.711291790008545\n",
      "Batch 4:  2.6232783794403076\n",
      "Batch 5:  2.751145362854004\n",
      "Batch 6:  2.6648929119110107\n",
      "Batch 7:  2.7151803970336914\n",
      "Batch 8:  2.716798782348633\n",
      "Batch 9:  2.6838860511779785\n",
      "Batch 10:  2.7059898376464844\n",
      "Batch 11:  2.662604570388794\n",
      "Batch 12:  2.6600160598754883\n",
      "Batch 13:  2.6813712120056152\n",
      "Batch 14:  2.644273281097412\n",
      "Batch 15:  2.6344316005706787\n",
      "Batch 16:  2.646775722503662\n",
      "Batch 17:  2.695030927658081\n",
      "Batch 18:  2.700590133666992\n",
      "Batch 19:  2.614609718322754\n",
      "Batch 20:  2.600884199142456\n",
      "Batch 21:  2.6924562454223633\n",
      "Batch 22:  2.6368520259857178\n",
      "Batch 23:  2.6772468090057373\n",
      "Batch 24:  2.6029820442199707\n"
     ]
    },
    {
     "name": "stderr",
     "output_type": "stream",
     "text": [
      "Epochs:  23%|██▎       | 7/30 [05:55<19:27, 50.75s/it]"
     ]
    },
    {
     "name": "stdout",
     "output_type": "stream",
     "text": [
      "Training loss: 2.6631722927093504\n"
     ]
    },
    {
     "name": "stderr",
     "output_type": "stream",
     "text": [
      "mmco: unref short failure\n",
      "mmco: unref short failure\n"
     ]
    },
    {
     "name": "stdout",
     "output_type": "stream",
     "text": [
      "Batch 0:  2.6470563411712646\n",
      "Batch 1:  2.6200199127197266\n",
      "Batch 2:  2.5938706398010254\n",
      "Batch 3:  2.6349685192108154\n",
      "Batch 4:  2.644587278366089\n",
      "Batch 5:  2.6470754146575928\n",
      "Batch 6:  2.7058298587799072\n",
      "Batch 7:  2.682692766189575\n",
      "Batch 8:  2.667719841003418\n",
      "Batch 9:  2.7392492294311523\n",
      "Batch 10:  2.6882476806640625\n",
      "Batch 11:  2.6091647148132324\n",
      "Batch 12:  2.7144393920898438\n",
      "Batch 13:  2.6599605083465576\n",
      "Batch 14:  2.6142349243164062\n",
      "Batch 15:  2.6162710189819336\n",
      "Batch 16:  2.5660271644592285\n",
      "Batch 17:  2.7090935707092285\n",
      "Batch 18:  2.6210148334503174\n",
      "Batch 19:  2.6863412857055664\n",
      "Batch 20:  2.679997444152832\n",
      "Batch 21:  2.609616994857788\n",
      "Batch 22:  2.717268228530884\n",
      "Batch 23:  2.5874035358428955\n"
     ]
    },
    {
     "name": "stderr",
     "output_type": "stream",
     "text": [
      "Epochs:  27%|██▋       | 8/30 [06:46<18:37, 50.79s/it]"
     ]
    },
    {
     "name": "stdout",
     "output_type": "stream",
     "text": [
      "Batch 24:  2.674992084503174\n",
      "Training loss: 2.653485727310181\n"
     ]
    },
    {
     "name": "stderr",
     "output_type": "stream",
     "text": [
      "mmco: unref short failure\n",
      "mmco: unref short failure\n"
     ]
    },
    {
     "name": "stdout",
     "output_type": "stream",
     "text": [
      "Batch 0:  2.612133026123047\n",
      "Batch 1:  2.6010076999664307\n",
      "Batch 2:  2.628150701522827\n",
      "Batch 3:  2.665245771408081\n",
      "Batch 4:  2.7235922813415527\n",
      "Batch 5:  2.6146693229675293\n",
      "Batch 6:  2.692704200744629\n",
      "Batch 7:  2.603985548019409\n",
      "Batch 8:  2.619863986968994\n",
      "Batch 9:  2.604982852935791\n",
      "Batch 10:  2.585181474685669\n",
      "Batch 11:  2.655636787414551\n",
      "Batch 12:  2.6730284690856934\n",
      "Batch 13:  2.608302116394043\n",
      "Batch 14:  2.6177780628204346\n",
      "Batch 15:  2.6342122554779053\n",
      "Batch 16:  2.6082494258880615\n",
      "Batch 17:  2.571523904800415\n",
      "Batch 18:  2.6903672218322754\n",
      "Batch 19:  2.5823609828948975\n",
      "Batch 20:  2.6230974197387695\n",
      "Batch 21:  2.6594343185424805\n",
      "Batch 22:  2.600585460662842\n",
      "Batch 23:  2.6503543853759766\n",
      "Batch 24:  2.5775413513183594\n"
     ]
    },
    {
     "name": "stderr",
     "output_type": "stream",
     "text": [
      "Epochs:  30%|███       | 9/30 [07:36<17:42, 50.58s/it]"
     ]
    },
    {
     "name": "stdout",
     "output_type": "stream",
     "text": [
      "Training loss: 2.6281595611572266\n",
      "Batch 0:  2.5506324768066406\n",
      "Batch 1:  2.620516300201416\n",
      "Batch 2:  2.6571807861328125\n",
      "Batch 3:  2.580073118209839\n",
      "Batch 4:  2.558128833770752\n"
     ]
    },
    {
     "name": "stderr",
     "output_type": "stream",
     "text": [
      "mmco: unref short failure\n",
      "mmco: unref short failure\n"
     ]
    },
    {
     "name": "stdout",
     "output_type": "stream",
     "text": [
      "Batch 5:  2.606215000152588\n",
      "Batch 6:  2.575582981109619\n",
      "Batch 7:  2.6412768363952637\n",
      "Batch 8:  2.536357879638672\n",
      "Batch 9:  2.6878387928009033\n",
      "Batch 10:  2.5996897220611572\n",
      "Batch 11:  2.630370855331421\n",
      "Batch 12:  2.6078498363494873\n",
      "Batch 13:  2.6368324756622314\n",
      "Batch 14:  2.5448315143585205\n",
      "Batch 15:  2.6998226642608643\n",
      "Batch 16:  2.618637800216675\n",
      "Batch 17:  2.6276066303253174\n",
      "Batch 18:  2.5643229484558105\n",
      "Batch 19:  2.623466730117798\n",
      "Batch 20:  2.655714273452759\n",
      "Batch 21:  2.6540985107421875\n",
      "Batch 22:  2.6650009155273438\n",
      "Batch 23:  2.5651705265045166\n"
     ]
    },
    {
     "name": "stderr",
     "output_type": "stream",
     "text": [
      "Epochs:  33%|███▎      | 10/30 [08:27<16:54, 50.72s/it]"
     ]
    },
    {
     "name": "stdout",
     "output_type": "stream",
     "text": [
      "Batch 24:  2.6107683181762695\n",
      "Training loss: 2.6127194690704347\n"
     ]
    },
    {
     "name": "stderr",
     "output_type": "stream",
     "text": [
      "mmco: unref short failure\n"
     ]
    },
    {
     "name": "stdout",
     "output_type": "stream",
     "text": [
      "Batch 0:  2.61698842048645\n",
      "Batch 1:  2.5702555179595947\n",
      "Batch 2:  2.623624086380005\n",
      "Batch 3:  2.626746654510498\n",
      "Batch 4:  2.627650499343872\n"
     ]
    },
    {
     "name": "stderr",
     "output_type": "stream",
     "text": [
      "mmco: unref short failure\n"
     ]
    },
    {
     "name": "stdout",
     "output_type": "stream",
     "text": [
      "Batch 5:  2.6468160152435303\n",
      "Batch 6:  2.560471773147583\n",
      "Batch 7:  2.5921332836151123\n",
      "Batch 8:  2.579289197921753\n",
      "Batch 9:  2.6685328483581543\n",
      "Batch 10:  2.5776402950286865\n",
      "Batch 11:  2.517178535461426\n",
      "Batch 12:  2.573815107345581\n",
      "Batch 13:  2.611327648162842\n",
      "Batch 14:  2.5458755493164062\n",
      "Batch 15:  2.5910019874572754\n",
      "Batch 16:  2.5727086067199707\n",
      "Batch 17:  2.6217803955078125\n",
      "Batch 18:  2.6173694133758545\n",
      "Batch 19:  2.582923412322998\n",
      "Batch 20:  2.625562906265259\n",
      "Batch 21:  2.5816538333892822\n",
      "Batch 22:  2.5726921558380127\n",
      "Batch 23:  2.6913957595825195\n"
     ]
    },
    {
     "name": "stderr",
     "output_type": "stream",
     "text": [
      "Epochs:  37%|███▋      | 11/30 [09:19<16:09, 51.02s/it]"
     ]
    },
    {
     "name": "stdout",
     "output_type": "stream",
     "text": [
      "Batch 24:  2.548870086669922\n",
      "Training loss: 2.597772159576416\n"
     ]
    },
    {
     "name": "stderr",
     "output_type": "stream",
     "text": [
      "mmco: unref short failure\n",
      "mmco: unref short failure\n"
     ]
    },
    {
     "name": "stdout",
     "output_type": "stream",
     "text": [
      "Batch 0:  2.5697567462921143\n",
      "Batch 1:  2.656182289123535\n",
      "Batch 2:  2.4944911003112793\n",
      "Batch 3:  2.5891940593719482\n",
      "Batch 4:  2.585874557495117\n",
      "Batch 5:  2.6358296871185303\n",
      "Batch 6:  2.544004201889038\n",
      "Batch 7:  2.6208982467651367\n",
      "Batch 8:  2.5938196182250977\n",
      "Batch 9:  2.58561372756958\n",
      "Batch 10:  2.5118372440338135\n",
      "Batch 11:  2.5682590007781982\n",
      "Batch 12:  2.609318971633911\n",
      "Batch 13:  2.6102709770202637\n",
      "Batch 14:  2.5505473613739014\n",
      "Batch 15:  2.5525460243225098\n",
      "Batch 16:  2.5461254119873047\n",
      "Batch 17:  2.5661721229553223\n",
      "Batch 18:  2.5629971027374268\n",
      "Batch 19:  2.6023061275482178\n",
      "Batch 20:  2.6320016384124756\n",
      "Batch 21:  2.637153387069702\n",
      "Batch 22:  2.5785071849823\n",
      "Batch 23:  2.568073272705078\n"
     ]
    },
    {
     "name": "stderr",
     "output_type": "stream",
     "text": [
      "Epochs:  40%|████      | 12/30 [10:10<15:19, 51.07s/it]"
     ]
    },
    {
     "name": "stdout",
     "output_type": "stream",
     "text": [
      "Batch 24:  2.624211311340332\n",
      "Training loss: 2.5838396549224854\n"
     ]
    },
    {
     "name": "stderr",
     "output_type": "stream",
     "text": [
      "mmco: unref short failure\n"
     ]
    },
    {
     "name": "stdout",
     "output_type": "stream",
     "text": [
      "Batch 0:  2.5672290325164795\n",
      "Batch 1:  2.5376741886138916\n"
     ]
    },
    {
     "name": "stderr",
     "output_type": "stream",
     "text": [
      "mmco: unref short failure\n"
     ]
    },
    {
     "name": "stdout",
     "output_type": "stream",
     "text": [
      "Batch 2:  2.611954927444458\n",
      "Batch 3:  2.589444398880005\n",
      "Batch 4:  2.5518882274627686\n",
      "Batch 5:  2.5412709712982178\n",
      "Batch 6:  2.593834161758423\n",
      "Batch 7:  2.546846628189087\n",
      "Batch 8:  2.519669532775879\n",
      "Batch 9:  2.5808346271514893\n",
      "Batch 10:  2.645284652709961\n",
      "Batch 11:  2.5177624225616455\n",
      "Batch 12:  2.493431568145752\n",
      "Batch 13:  2.6409478187561035\n",
      "Batch 14:  2.567188024520874\n",
      "Batch 15:  2.5145890712738037\n",
      "Batch 16:  2.58467698097229\n",
      "Batch 17:  2.541949510574341\n",
      "Batch 18:  2.5445592403411865\n",
      "Batch 19:  2.538468837738037\n",
      "Batch 20:  2.569953441619873\n",
      "Batch 21:  2.5654447078704834\n",
      "Batch 22:  2.523463487625122\n",
      "Batch 23:  2.5608503818511963\n"
     ]
    },
    {
     "name": "stderr",
     "output_type": "stream",
     "text": [
      "Epochs:  43%|████▎     | 13/30 [11:01<14:30, 51.18s/it]"
     ]
    },
    {
     "name": "stdout",
     "output_type": "stream",
     "text": [
      "Batch 24:  2.6180059909820557\n",
      "Training loss: 2.5626889133453368\n",
      "Batch 0:  2.618889808654785\n",
      "Batch 1:  2.481330156326294\n"
     ]
    },
    {
     "name": "stderr",
     "output_type": "stream",
     "text": [
      "mmco: unref short failure\n"
     ]
    },
    {
     "name": "stdout",
     "output_type": "stream",
     "text": [
      "Batch 2:  2.510869026184082\n",
      "Batch 3:  2.6490108966827393\n",
      "Batch 4:  2.536163330078125\n",
      "Batch 5:  2.538644790649414\n",
      "Batch 6:  2.50288462638855\n",
      "Batch 7:  2.5257115364074707\n",
      "Batch 8:  2.5516655445098877\n",
      "Batch 9:  2.5215282440185547\n",
      "Batch 10:  2.571216583251953\n",
      "Batch 11:  2.5400686264038086\n",
      "Batch 12:  2.543992519378662\n",
      "Batch 13:  2.498337745666504\n",
      "Batch 14:  2.5329718589782715\n",
      "Batch 15:  2.6882259845733643\n",
      "Batch 16:  2.5700623989105225\n",
      "Batch 17:  2.572235107421875\n",
      "Batch 18:  2.553882360458374\n",
      "Batch 19:  2.5076398849487305\n",
      "Batch 20:  2.5650417804718018\n",
      "Batch 21:  2.4439849853515625\n",
      "Batch 22:  2.5879061222076416\n",
      "Batch 23:  2.5925729274749756\n"
     ]
    },
    {
     "name": "stderr",
     "output_type": "stream",
     "text": [
      "Epochs:  47%|████▋     | 14/30 [11:53<13:39, 51.21s/it]"
     ]
    },
    {
     "name": "stdout",
     "output_type": "stream",
     "text": [
      "Batch 24:  2.5268349647521973\n",
      "Training loss: 2.549266872406006\n",
      "Batch 0:  2.598003625869751\n",
      "Batch 1:  2.5281128883361816\n",
      "Batch 2:  2.4869863986968994\n"
     ]
    },
    {
     "name": "stderr",
     "output_type": "stream",
     "text": [
      "mmco: unref short failure\n"
     ]
    },
    {
     "name": "stdout",
     "output_type": "stream",
     "text": [
      "Batch 3:  2.4427998065948486\n"
     ]
    },
    {
     "name": "stderr",
     "output_type": "stream",
     "text": [
      "mmco: unref short failure\n"
     ]
    },
    {
     "name": "stdout",
     "output_type": "stream",
     "text": [
      "Batch 4:  2.588071346282959\n",
      "Batch 5:  2.516810894012451\n",
      "Batch 6:  2.5439438819885254\n",
      "Batch 7:  2.5184426307678223\n",
      "Batch 8:  2.5415563583374023\n",
      "Batch 9:  2.4226677417755127\n",
      "Batch 10:  2.577502965927124\n",
      "Batch 11:  2.528907299041748\n",
      "Batch 12:  2.5140724182128906\n",
      "Batch 13:  2.4848334789276123\n",
      "Batch 14:  2.5176167488098145\n",
      "Batch 15:  2.6061394214630127\n",
      "Batch 16:  2.552154302597046\n",
      "Batch 17:  2.544722080230713\n",
      "Batch 18:  2.623413324356079\n",
      "Batch 19:  2.5220117568969727\n",
      "Batch 20:  2.514253616333008\n",
      "Batch 21:  2.510110378265381\n",
      "Batch 22:  2.5823118686676025\n",
      "Batch 23:  2.530628204345703\n"
     ]
    },
    {
     "name": "stderr",
     "output_type": "stream",
     "text": [
      "Epochs:  50%|█████     | 15/30 [12:44<12:48, 51.25s/it]"
     ]
    },
    {
     "name": "stdout",
     "output_type": "stream",
     "text": [
      "Batch 24:  2.554108142852783\n",
      "Training loss: 2.534007263183594\n"
     ]
    },
    {
     "name": "stderr",
     "output_type": "stream",
     "text": [
      "mmco: unref short failure\n"
     ]
    },
    {
     "name": "stdout",
     "output_type": "stream",
     "text": [
      "Batch 0:  2.4904775619506836\n",
      "Batch 1:  2.446936845779419\n",
      "Batch 2:  2.5264930725097656\n",
      "Batch 3:  2.517106771469116\n"
     ]
    },
    {
     "name": "stderr",
     "output_type": "stream",
     "text": [
      "mmco: unref short failure\n"
     ]
    },
    {
     "name": "stdout",
     "output_type": "stream",
     "text": [
      "Batch 4:  2.550116539001465\n",
      "Batch 5:  2.5169432163238525\n",
      "Batch 6:  2.4598522186279297\n",
      "Batch 7:  2.5335075855255127\n",
      "Batch 8:  2.5261051654815674\n",
      "Batch 9:  2.50830340385437\n",
      "Batch 10:  2.523602247238159\n",
      "Batch 11:  2.478816032409668\n",
      "Batch 12:  2.4523353576660156\n",
      "Batch 13:  2.471713066101074\n",
      "Batch 14:  2.571681261062622\n",
      "Batch 15:  2.5743064880371094\n",
      "Batch 16:  2.603158712387085\n",
      "Batch 17:  2.535785675048828\n",
      "Batch 18:  2.4514646530151367\n",
      "Batch 19:  2.5285985469818115\n",
      "Batch 20:  2.576387405395508\n",
      "Batch 21:  2.561730146408081\n",
      "Batch 22:  2.567598342895508\n",
      "Batch 23:  2.5404152870178223\n"
     ]
    },
    {
     "name": "stderr",
     "output_type": "stream",
     "text": [
      "Epochs:  53%|█████▎    | 16/30 [13:36<11:59, 51.37s/it]"
     ]
    },
    {
     "name": "stdout",
     "output_type": "stream",
     "text": [
      "Batch 24:  2.54933762550354\n",
      "Training loss: 2.522510929107666\n"
     ]
    },
    {
     "name": "stderr",
     "output_type": "stream",
     "text": [
      "mmco: unref short failure\n"
     ]
    },
    {
     "name": "stdout",
     "output_type": "stream",
     "text": [
      "Batch 0:  2.548570394515991\n",
      "Batch 1:  2.5253660678863525\n"
     ]
    },
    {
     "name": "stderr",
     "output_type": "stream",
     "text": [
      "mmco: unref short failure\n"
     ]
    },
    {
     "name": "stdout",
     "output_type": "stream",
     "text": [
      "Batch 2:  2.492234945297241\n",
      "Batch 3:  2.502683401107788\n",
      "Batch 4:  2.476905345916748\n",
      "Batch 5:  2.5605363845825195\n",
      "Batch 6:  2.513423442840576\n",
      "Batch 7:  2.5851759910583496\n",
      "Batch 8:  2.513467311859131\n",
      "Batch 9:  2.5127830505371094\n",
      "Batch 10:  2.5521316528320312\n",
      "Batch 11:  2.5455234050750732\n",
      "Batch 12:  2.421267509460449\n",
      "Batch 13:  2.4811196327209473\n",
      "Batch 14:  2.4796738624572754\n",
      "Batch 15:  2.511003017425537\n",
      "Batch 16:  2.549785614013672\n",
      "Batch 17:  2.552734851837158\n",
      "Batch 18:  2.529289484024048\n",
      "Batch 19:  2.5333540439605713\n",
      "Batch 20:  2.4770078659057617\n",
      "Batch 21:  2.4982588291168213\n",
      "Batch 22:  2.48313570022583\n",
      "Batch 23:  2.492199420928955\n"
     ]
    },
    {
     "name": "stderr",
     "output_type": "stream",
     "text": [
      "Epochs:  57%|█████▋    | 17/30 [14:27<11:05, 51.22s/it]"
     ]
    },
    {
     "name": "stdout",
     "output_type": "stream",
     "text": [
      "Batch 24:  2.458178997039795\n",
      "Training loss: 2.5118324089050295\n",
      "Batch 0:  2.4576807022094727\n",
      "Batch 1:  2.4725558757781982\n"
     ]
    },
    {
     "name": "stderr",
     "output_type": "stream",
     "text": [
      "mmco: unref short failure\n"
     ]
    },
    {
     "name": "stdout",
     "output_type": "stream",
     "text": [
      "Batch 2:  2.4913575649261475\n",
      "Batch 3:  2.421696901321411\n"
     ]
    },
    {
     "name": "stderr",
     "output_type": "stream",
     "text": [
      "mmco: unref short failure\n"
     ]
    },
    {
     "name": "stdout",
     "output_type": "stream",
     "text": [
      "Batch 4:  2.462357521057129\n",
      "Batch 5:  2.492644786834717\n",
      "Batch 6:  2.537783145904541\n",
      "Batch 7:  2.5570027828216553\n",
      "Batch 8:  2.5260064601898193\n",
      "Batch 9:  2.5786972045898438\n",
      "Batch 10:  2.532508611679077\n",
      "Batch 11:  2.497741460800171\n",
      "Batch 12:  2.5168187618255615\n",
      "Batch 13:  2.5741384029388428\n",
      "Batch 14:  2.511810541152954\n",
      "Batch 15:  2.4747676849365234\n",
      "Batch 16:  2.5002048015594482\n",
      "Batch 17:  2.5015957355499268\n",
      "Batch 18:  2.4742045402526855\n",
      "Batch 19:  2.3771419525146484\n",
      "Batch 20:  2.445403814315796\n",
      "Batch 21:  2.539970636367798\n",
      "Batch 22:  2.5281827449798584\n",
      "Batch 23:  2.386857509613037\n"
     ]
    },
    {
     "name": "stderr",
     "output_type": "stream",
     "text": [
      "Epochs:  60%|██████    | 18/30 [15:17<10:11, 50.98s/it]"
     ]
    },
    {
     "name": "stdout",
     "output_type": "stream",
     "text": [
      "Batch 24:  2.522066354751587\n",
      "Training loss: 2.495247859954834\n"
     ]
    },
    {
     "name": "stderr",
     "output_type": "stream",
     "text": [
      "mmco: unref short failure\n"
     ]
    },
    {
     "name": "stdout",
     "output_type": "stream",
     "text": [
      "Batch 0:  2.5439155101776123\n",
      "Batch 1:  2.5558454990386963\n",
      "Batch 2:  2.524710178375244\n",
      "Batch 3:  2.479358196258545\n"
     ]
    },
    {
     "name": "stderr",
     "output_type": "stream",
     "text": [
      "mmco: unref short failure\n"
     ]
    },
    {
     "name": "stdout",
     "output_type": "stream",
     "text": [
      "Batch 4:  2.3691787719726562\n",
      "Batch 5:  2.5270440578460693\n",
      "Batch 6:  2.406132936477661\n",
      "Batch 7:  2.5072550773620605\n",
      "Batch 8:  2.466111660003662\n",
      "Batch 9:  2.3903369903564453\n",
      "Batch 10:  2.4785420894622803\n",
      "Batch 11:  2.451634168624878\n",
      "Batch 12:  2.384470224380493\n",
      "Batch 13:  2.4517500400543213\n",
      "Batch 14:  2.437542200088501\n",
      "Batch 15:  2.5219717025756836\n",
      "Batch 16:  2.5559821128845215\n",
      "Batch 17:  2.488644599914551\n",
      "Batch 18:  2.494868040084839\n",
      "Batch 19:  2.5043039321899414\n",
      "Batch 20:  2.4616587162017822\n",
      "Batch 21:  2.491370439529419\n",
      "Batch 22:  2.4842636585235596\n",
      "Batch 23:  2.467215061187744\n",
      "Batch 24:  2.501415729522705\n"
     ]
    },
    {
     "name": "stderr",
     "output_type": "stream",
     "text": [
      "Epochs:  63%|██████▎   | 19/30 [16:07<09:17, 50.69s/it]"
     ]
    },
    {
     "name": "stdout",
     "output_type": "stream",
     "text": [
      "Training loss: 2.477820863723755\n"
     ]
    },
    {
     "name": "stderr",
     "output_type": "stream",
     "text": [
      "mmco: unref short failure\n"
     ]
    },
    {
     "name": "stdout",
     "output_type": "stream",
     "text": [
      "Batch 0:  2.468470573425293\n"
     ]
    },
    {
     "name": "stderr",
     "output_type": "stream",
     "text": [
      "mmco: unref short failure\n"
     ]
    },
    {
     "name": "stdout",
     "output_type": "stream",
     "text": [
      "Batch 1:  2.4562952518463135\n",
      "Batch 2:  2.449488401412964\n",
      "Batch 3:  2.4205102920532227\n",
      "Batch 4:  2.4577019214630127\n",
      "Batch 5:  2.5482518672943115\n",
      "Batch 6:  2.4873180389404297\n",
      "Batch 7:  2.485584020614624\n",
      "Batch 8:  2.399284601211548\n",
      "Batch 9:  2.5034263134002686\n",
      "Batch 10:  2.4807205200195312\n",
      "Batch 11:  2.430830717086792\n",
      "Batch 12:  2.47196102142334\n",
      "Batch 13:  2.4012179374694824\n",
      "Batch 14:  2.4377336502075195\n",
      "Batch 15:  2.5168793201446533\n",
      "Batch 16:  2.501197338104248\n",
      "Batch 17:  2.521655797958374\n",
      "Batch 18:  2.479804277420044\n",
      "Batch 19:  2.448368549346924\n",
      "Batch 20:  2.6015617847442627\n",
      "Batch 21:  2.454063892364502\n",
      "Batch 22:  2.4684202671051025\n",
      "Batch 23:  2.448915481567383\n"
     ]
    },
    {
     "name": "stderr",
     "output_type": "stream",
     "text": [
      "Epochs:  67%|██████▋   | 20/30 [16:58<08:27, 50.74s/it]"
     ]
    },
    {
     "name": "stdout",
     "output_type": "stream",
     "text": [
      "Batch 24:  2.427933692932129\n",
      "Training loss: 2.470703821182251\n"
     ]
    },
    {
     "name": "stderr",
     "output_type": "stream",
     "text": [
      "mmco: unref short failure\n"
     ]
    },
    {
     "name": "stdout",
     "output_type": "stream",
     "text": [
      "Batch 0:  2.3972554206848145\n",
      "Batch 1:  2.490675926208496\n",
      "Batch 2:  2.500838041305542\n",
      "Batch 3:  2.4522955417633057\n",
      "Batch 4:  2.4793319702148438\n",
      "Batch 5:  2.479247808456421\n",
      "Batch 6:  2.438870429992676\n",
      "Batch 7:  2.468029260635376\n",
      "Batch 8:  2.4184353351593018\n",
      "Batch 9:  2.4090065956115723\n",
      "Batch 10:  2.474909543991089\n",
      "Batch 11:  2.4256553649902344\n",
      "Batch 12:  2.512983798980713\n",
      "Batch 13:  2.421360731124878\n",
      "Batch 14:  2.4873580932617188\n",
      "Batch 15:  2.437020778656006\n",
      "Batch 16:  2.477954626083374\n",
      "Batch 17:  2.4807615280151367\n",
      "Batch 18:  2.408647060394287\n",
      "Batch 19:  2.426176071166992\n",
      "Batch 20:  2.471313714981079\n",
      "Batch 21:  2.484135866165161\n",
      "Batch 22:  2.4312777519226074\n",
      "Batch 23:  2.4770824909210205\n"
     ]
    },
    {
     "name": "stderr",
     "output_type": "stream",
     "text": [
      "Epochs:  70%|███████   | 21/30 [17:49<07:37, 50.80s/it]"
     ]
    },
    {
     "name": "stdout",
     "output_type": "stream",
     "text": [
      "Batch 24:  2.4414947032928467\n",
      "Training loss: 2.4556847381591798\n"
     ]
    },
    {
     "name": "stderr",
     "output_type": "stream",
     "text": [
      "mmco: unref short failure\n"
     ]
    },
    {
     "name": "stdout",
     "output_type": "stream",
     "text": [
      "Batch 0:  2.4390642642974854\n",
      "Batch 1:  2.521467447280884\n"
     ]
    },
    {
     "name": "stderr",
     "output_type": "stream",
     "text": [
      "mmco: unref short failure\n"
     ]
    },
    {
     "name": "stdout",
     "output_type": "stream",
     "text": [
      "Batch 2:  2.4682910442352295\n",
      "Batch 3:  2.4079394340515137\n",
      "Batch 4:  2.5012824535369873\n",
      "Batch 5:  2.3613860607147217\n",
      "Batch 6:  2.4000723361968994\n",
      "Batch 7:  2.4929957389831543\n",
      "Batch 8:  2.423586130142212\n",
      "Batch 9:  2.409708023071289\n",
      "Batch 10:  2.4836199283599854\n",
      "Batch 11:  2.517439842224121\n",
      "Batch 12:  2.3860666751861572\n",
      "Batch 13:  2.36462664604187\n",
      "Batch 14:  2.4584455490112305\n",
      "Batch 15:  2.446150302886963\n",
      "Batch 16:  2.543771266937256\n",
      "Batch 17:  2.4221179485321045\n",
      "Batch 18:  2.4507532119750977\n",
      "Batch 19:  2.3851943016052246\n",
      "Batch 20:  2.3008131980895996\n",
      "Batch 21:  2.405040979385376\n",
      "Batch 22:  2.454803943634033\n",
      "Batch 23:  2.438856363296509\n"
     ]
    },
    {
     "name": "stderr",
     "output_type": "stream",
     "text": [
      "Epochs:  73%|███████▎  | 22/30 [18:40<06:46, 50.82s/it]"
     ]
    },
    {
     "name": "stdout",
     "output_type": "stream",
     "text": [
      "Batch 24:  2.5798468589782715\n",
      "Training loss: 2.442533597946167\n"
     ]
    },
    {
     "name": "stderr",
     "output_type": "stream",
     "text": [
      "mmco: unref short failure\n",
      "mmco: unref short failure\n"
     ]
    },
    {
     "name": "stdout",
     "output_type": "stream",
     "text": [
      "Batch 0:  2.48109769821167\n",
      "Batch 1:  2.470430374145508\n",
      "Batch 2:  2.515840530395508\n",
      "Batch 3:  2.3754687309265137\n",
      "Batch 4:  2.40643310546875\n",
      "Batch 5:  2.4006991386413574\n",
      "Batch 6:  2.42824125289917\n",
      "Batch 7:  2.4055066108703613\n",
      "Batch 8:  2.4212467670440674\n",
      "Batch 9:  2.510772943496704\n",
      "Batch 10:  2.5206851959228516\n",
      "Batch 11:  2.4322669506073\n",
      "Batch 12:  2.4637513160705566\n",
      "Batch 13:  2.442195177078247\n",
      "Batch 14:  2.380077362060547\n",
      "Batch 15:  2.295339584350586\n",
      "Batch 16:  2.3409688472747803\n",
      "Batch 17:  2.33223295211792\n",
      "Batch 18:  2.5345752239227295\n",
      "Batch 19:  2.5153186321258545\n",
      "Batch 20:  2.4722304344177246\n",
      "Batch 21:  2.408756732940674\n",
      "Batch 22:  2.5346646308898926\n",
      "Batch 23:  2.3577723503112793\n",
      "Batch 24:  2.450817108154297\n"
     ]
    },
    {
     "name": "stderr",
     "output_type": "stream",
     "text": [
      "Epochs:  77%|███████▋  | 23/30 [19:31<05:56, 50.99s/it]"
     ]
    },
    {
     "name": "stdout",
     "output_type": "stream",
     "text": [
      "Training loss: 2.435895586013794\n"
     ]
    },
    {
     "name": "stderr",
     "output_type": "stream",
     "text": [
      "mmco: unref short failure\n"
     ]
    },
    {
     "name": "stdout",
     "output_type": "stream",
     "text": [
      "Batch 0:  2.418450355529785\n",
      "Batch 1:  2.4366061687469482\n",
      "Batch 2:  2.3805034160614014\n",
      "Batch 3:  2.3789172172546387\n",
      "Batch 4:  2.521693229675293\n"
     ]
    },
    {
     "name": "stderr",
     "output_type": "stream",
     "text": [
      "mmco: unref short failure\n"
     ]
    },
    {
     "name": "stdout",
     "output_type": "stream",
     "text": [
      "Batch 5:  2.421865701675415\n",
      "Batch 6:  2.438298463821411\n",
      "Batch 7:  2.3839638233184814\n",
      "Batch 8:  2.4354820251464844\n",
      "Batch 9:  2.419390916824341\n",
      "Batch 10:  2.4781856536865234\n",
      "Batch 11:  2.343261480331421\n",
      "Batch 12:  2.3718373775482178\n",
      "Batch 13:  2.394824981689453\n",
      "Batch 14:  2.465235471725464\n",
      "Batch 15:  2.397629976272583\n",
      "Batch 16:  2.311382532119751\n",
      "Batch 17:  2.5105905532836914\n",
      "Batch 18:  2.398538112640381\n",
      "Batch 19:  2.5100326538085938\n",
      "Batch 20:  2.515230178833008\n",
      "Batch 21:  2.332918405532837\n",
      "Batch 22:  2.4184458255767822\n",
      "Batch 23:  2.3935000896453857\n"
     ]
    },
    {
     "name": "stderr",
     "output_type": "stream",
     "text": [
      "Epochs:  80%|████████  | 24/30 [20:22<05:06, 51.11s/it]"
     ]
    },
    {
     "name": "stdout",
     "output_type": "stream",
     "text": [
      "Batch 24:  2.4567880630493164\n",
      "Training loss: 2.4213429069519044\n"
     ]
    },
    {
     "name": "stderr",
     "output_type": "stream",
     "text": [
      "mmco: unref short failure\n"
     ]
    },
    {
     "name": "stdout",
     "output_type": "stream",
     "text": [
      "Batch 0:  2.4957327842712402\n"
     ]
    },
    {
     "name": "stderr",
     "output_type": "stream",
     "text": [
      "mmco: unref short failure\n"
     ]
    },
    {
     "name": "stdout",
     "output_type": "stream",
     "text": [
      "Batch 1:  2.421849489212036\n",
      "Batch 2:  2.3467659950256348\n",
      "Batch 3:  2.3779191970825195\n",
      "Batch 4:  2.4462099075317383\n",
      "Batch 5:  2.430814266204834\n",
      "Batch 6:  2.4325218200683594\n",
      "Batch 7:  2.4510326385498047\n",
      "Batch 8:  2.345329523086548\n",
      "Batch 9:  2.451972723007202\n",
      "Batch 10:  2.4617104530334473\n",
      "Batch 11:  2.266145706176758\n",
      "Batch 12:  2.3946290016174316\n",
      "Batch 13:  2.4159233570098877\n",
      "Batch 14:  2.500495672225952\n",
      "Batch 15:  2.363687753677368\n",
      "Batch 16:  2.3794658184051514\n",
      "Batch 17:  2.468000650405884\n",
      "Batch 18:  2.314044713973999\n",
      "Batch 19:  2.3455567359924316\n",
      "Batch 20:  2.452676773071289\n",
      "Batch 21:  2.49088716506958\n",
      "Batch 22:  2.4092023372650146\n",
      "Batch 23:  2.440551280975342\n",
      "Batch 24:  2.355295419692993\n"
     ]
    },
    {
     "name": "stderr",
     "output_type": "stream",
     "text": [
      "Epochs:  83%|████████▎ | 25/30 [21:15<04:17, 51.46s/it]"
     ]
    },
    {
     "name": "stdout",
     "output_type": "stream",
     "text": [
      "Training loss: 2.410336847305298\n"
     ]
    },
    {
     "name": "stderr",
     "output_type": "stream",
     "text": [
      "mmco: unref short failure\n"
     ]
    },
    {
     "name": "stdout",
     "output_type": "stream",
     "text": [
      "Batch 0:  2.3854918479919434\n",
      "Batch 1:  2.389537811279297\n",
      "Batch 2:  2.467921495437622\n",
      "Batch 3:  2.2923696041107178\n",
      "Batch 4:  2.4648704528808594\n",
      "Batch 5:  2.401061534881592\n",
      "Batch 6:  2.486025333404541\n",
      "Batch 7:  2.4714558124542236\n",
      "Batch 8:  2.4073574542999268\n",
      "Batch 9:  2.2825701236724854\n",
      "Batch 10:  2.358144998550415\n",
      "Batch 11:  2.377762794494629\n",
      "Batch 12:  2.413275957107544\n",
      "Batch 13:  2.3869404792785645\n",
      "Batch 14:  2.4168951511383057\n",
      "Batch 15:  2.4437408447265625\n",
      "Batch 16:  2.3890628814697266\n",
      "Batch 17:  2.359877586364746\n",
      "Batch 18:  2.45908522605896\n",
      "Batch 19:  2.3072891235351562\n",
      "Batch 20:  2.381739854812622\n",
      "Batch 21:  2.3158373832702637\n",
      "Batch 22:  2.4283769130706787\n",
      "Batch 23:  2.4195008277893066\n"
     ]
    },
    {
     "name": "stderr",
     "output_type": "stream",
     "text": [
      "Epochs:  87%|████████▋ | 26/30 [22:06<03:25, 51.35s/it]"
     ]
    },
    {
     "name": "stdout",
     "output_type": "stream",
     "text": [
      "Batch 24:  2.37766695022583\n",
      "Training loss: 2.3953543376922606\n"
     ]
    },
    {
     "name": "stderr",
     "output_type": "stream",
     "text": [
      "mmco: unref short failure\n"
     ]
    },
    {
     "name": "stdout",
     "output_type": "stream",
     "text": [
      "Batch 0:  2.3573193550109863\n",
      "Batch 1:  2.5184555053710938\n",
      "Batch 2:  2.374781370162964\n",
      "Batch 3:  2.3516383171081543\n",
      "Batch 4:  2.376105308532715\n",
      "Batch 5:  2.3287341594696045\n",
      "Batch 6:  2.441650390625\n",
      "Batch 7:  2.4049880504608154\n",
      "Batch 8:  2.330359697341919\n",
      "Batch 9:  2.4240407943725586\n",
      "Batch 10:  2.4600307941436768\n",
      "Batch 11:  2.3803937435150146\n",
      "Batch 12:  2.3992834091186523\n",
      "Batch 13:  2.330944061279297\n",
      "Batch 14:  2.4476072788238525\n",
      "Batch 15:  2.382199287414551\n",
      "Batch 16:  2.2736244201660156\n",
      "Batch 17:  2.46528697013855\n",
      "Batch 18:  2.3381969928741455\n",
      "Batch 19:  2.3267247676849365\n",
      "Batch 20:  2.2996230125427246\n",
      "Batch 21:  2.348954916000366\n",
      "Batch 22:  2.3209481239318848\n",
      "Batch 23:  2.4007859230041504\n"
     ]
    },
    {
     "name": "stderr",
     "output_type": "stream",
     "text": [
      "Epochs:  90%|█████████ | 27/30 [22:57<02:33, 51.32s/it]"
     ]
    },
    {
     "name": "stdout",
     "output_type": "stream",
     "text": [
      "Batch 24:  2.529148817062378\n",
      "Training loss: 2.3844730186462404\n"
     ]
    },
    {
     "name": "stderr",
     "output_type": "stream",
     "text": [
      "mmco: unref short failure\n",
      "mmco: unref short failure\n"
     ]
    },
    {
     "name": "stdout",
     "output_type": "stream",
     "text": [
      "Batch 0:  2.365008592605591\n",
      "Batch 1:  2.3777527809143066\n",
      "Batch 2:  2.314814329147339\n",
      "Batch 3:  2.45047926902771\n",
      "Batch 4:  2.357780933380127\n",
      "Batch 5:  2.3809361457824707\n",
      "Batch 6:  2.5381174087524414\n",
      "Batch 7:  2.4972121715545654\n",
      "Batch 8:  2.383193016052246\n",
      "Batch 9:  2.3849234580993652\n",
      "Batch 10:  2.3720948696136475\n",
      "Batch 11:  2.478116273880005\n",
      "Batch 12:  2.3125224113464355\n",
      "Batch 13:  2.2440032958984375\n",
      "Batch 14:  2.324291706085205\n",
      "Batch 15:  2.4841575622558594\n",
      "Batch 16:  2.349057674407959\n",
      "Batch 17:  2.3549866676330566\n",
      "Batch 18:  2.3862507343292236\n",
      "Batch 19:  2.373481273651123\n",
      "Batch 20:  2.3270344734191895\n",
      "Batch 21:  2.3247828483581543\n",
      "Batch 22:  2.3131392002105713\n",
      "Batch 23:  2.3123884201049805\n"
     ]
    },
    {
     "name": "stderr",
     "output_type": "stream",
     "text": [
      "Epochs:  93%|█████████▎| 28/30 [23:48<01:42, 51.30s/it]"
     ]
    },
    {
     "name": "stdout",
     "output_type": "stream",
     "text": [
      "Batch 24:  2.2920644283294678\n",
      "Training loss: 2.371943597793579\n"
     ]
    },
    {
     "name": "stderr",
     "output_type": "stream",
     "text": [
      "mmco: unref short failure\n"
     ]
    },
    {
     "name": "stdout",
     "output_type": "stream",
     "text": [
      "Batch 0:  2.3270771503448486\n",
      "Batch 1:  2.3921332359313965\n"
     ]
    },
    {
     "name": "stderr",
     "output_type": "stream",
     "text": [
      "mmco: unref short failure\n"
     ]
    },
    {
     "name": "stdout",
     "output_type": "stream",
     "text": [
      "Batch 2:  2.309835910797119\n",
      "Batch 3:  2.526556968688965\n",
      "Batch 4:  2.3154304027557373\n",
      "Batch 5:  2.360456705093384\n",
      "Batch 6:  2.485474109649658\n",
      "Batch 7:  2.304993152618408\n",
      "Batch 8:  2.309304714202881\n",
      "Batch 9:  2.2820186614990234\n",
      "Batch 10:  2.442540407180786\n",
      "Batch 11:  2.373136281967163\n",
      "Batch 12:  2.3223254680633545\n",
      "Batch 13:  2.4405243396759033\n",
      "Batch 14:  2.2165212631225586\n",
      "Batch 15:  2.4413669109344482\n",
      "Batch 16:  2.408689498901367\n",
      "Batch 17:  2.491334915161133\n",
      "Batch 18:  2.3452930450439453\n",
      "Batch 19:  2.3557982444763184\n",
      "Batch 20:  2.3075344562530518\n",
      "Batch 21:  2.3671493530273438\n",
      "Batch 22:  2.4271936416625977\n",
      "Batch 23:  2.3432512283325195\n"
     ]
    },
    {
     "name": "stderr",
     "output_type": "stream",
     "text": [
      "Epochs:  97%|█████████▋| 29/30 [24:39<00:51, 51.22s/it]"
     ]
    },
    {
     "name": "stdout",
     "output_type": "stream",
     "text": [
      "Batch 24:  2.3179712295532227\n",
      "Training loss: 2.3685564517974855\n"
     ]
    },
    {
     "name": "stderr",
     "output_type": "stream",
     "text": [
      "mmco: unref short failure\n"
     ]
    },
    {
     "name": "stdout",
     "output_type": "stream",
     "text": [
      "Batch 0:  2.3119122982025146\n",
      "Batch 1:  2.3997151851654053\n",
      "Batch 2:  2.3061397075653076\n",
      "Batch 3:  2.336488962173462\n",
      "Batch 4:  2.321091413497925\n"
     ]
    },
    {
     "name": "stderr",
     "output_type": "stream",
     "text": [
      "mmco: unref short failure\n"
     ]
    },
    {
     "name": "stdout",
     "output_type": "stream",
     "text": [
      "Batch 5:  2.3937273025512695\n",
      "Batch 6:  2.357604742050171\n",
      "Batch 7:  2.4224770069122314\n",
      "Batch 8:  2.2944257259368896\n",
      "Batch 9:  2.3939194679260254\n",
      "Batch 10:  2.3536810874938965\n",
      "Batch 11:  2.3749890327453613\n",
      "Batch 12:  2.312560558319092\n",
      "Batch 13:  2.3555569648742676\n",
      "Batch 14:  2.347827434539795\n",
      "Batch 15:  2.4261631965637207\n",
      "Batch 16:  2.3619258403778076\n",
      "Batch 17:  2.3220202922821045\n",
      "Batch 18:  2.343648910522461\n",
      "Batch 19:  2.324626922607422\n",
      "Batch 20:  2.448134422302246\n",
      "Batch 21:  2.350217580795288\n",
      "Batch 22:  2.3578500747680664\n",
      "Batch 23:  2.378796100616455\n"
     ]
    },
    {
     "name": "stderr",
     "output_type": "stream",
     "text": [
      "Epochs: 100%|██████████| 30/30 [25:30<00:00, 51.03s/it]"
     ]
    },
    {
     "name": "stdout",
     "output_type": "stream",
     "text": [
      "Batch 24:  2.252960205078125\n",
      "Training loss: 2.3539384174346925\n"
     ]
    },
    {
     "name": "stderr",
     "output_type": "stream",
     "text": [
      "\n"
     ]
    }
   ],
   "source": [
    "import torch\n",
    "epochs = 30\n",
    "all_preds = []\n",
    "all_labels = []\n",
    "\n",
    "for epoch in trange(epochs, desc='Epochs'):\n",
    "    model.train()\n",
    "    train_loss = []\n",
    "    running_loss = 0.0\n",
    "    running_corrects = 0\n",
    "\n",
    "    for i, batch in enumerate(train_dataloader):\n",
    "        grouped_inputs, grouped_labels = batch\n",
    "        inputs = grouped_inputs.flatten(0, 1)\n",
    "        Y = grouped_labels.flatten()\n",
    "\n",
    "        inputs = inputs.to(device, dtype=torch.float32)\n",
    "        Y = Y.to(device, dtype=torch.float32)\n",
    "\n",
    "        optimizer.zero_grad()\n",
    "\n",
    "        outputs = model(inputs).to(device)\n",
    "        preds = outputs.to(device)\n",
    "\n",
    "        loss = loss_fun(preds, Y.long())\n",
    "        loss.backward()\n",
    "        optimizer.step()\n",
    "\n",
    "        running_loss += loss.item() * inputs.size(0)\n",
    "        running_corrects += torch.sum(torch.argmax(preds) == Y.data)\n",
    "\n",
    "        all_preds.extend(preds.cpu().detach().numpy())\n",
    "        all_labels.extend(Y.cpu().detach().numpy())\n",
    "\n",
    "        epoch_loss = running_loss / len(train_dataloader.dataset)\n",
    "        epoch_acc = running_corrects.double() / len(train_dataloader.dataset)\n",
    "\n",
    "        loss_history[\"train\"].append(epoch_loss)\n",
    "        acc_history[\"train\"].append(epoch_acc)\n",
    "\n",
    "        train_loss.append(loss.item())\n",
    "        writer.add_scalar(\n",
    "                \"Train loss per step\", loss.item(), epoch * len(train_dataloader) + i\n",
    "            )\n",
    "\n",
    "    writer.add_scalar(\n",
    "                \"Mean train loss per epoch\", np.mean(train_loss), epoch\n",
    "            )"
   ]
  },
  {
   "cell_type": "code",
   "execution_count": 22,
   "metadata": {
    "ExecuteTime": {
     "end_time": "2024-05-06T18:24:28.856682500Z",
     "start_time": "2024-05-06T18:24:28.637646800Z"
    },
    "collapsed": false,
    "jupyter": {
     "outputs_hidden": false
    }
   },
   "outputs": [
    {
     "data": {
      "text/plain": [
       "[<matplotlib.lines.Line2D at 0x7f1079235f60>]"
      ]
     },
     "execution_count": 22,
     "metadata": {},
     "output_type": "execute_result"
    },
    {
     "data": {
      "image/png": "[encoded data removed]",
      "text/plain": [
       "<Figure size 640x480 with 1 Axes>"
      ]
     },
     "metadata": {},
     "output_type": "display_data"
    }
   ],
   "source": [
    "import matplotlib.pyplot as plt\n",
    "import matplotlib.ticker as ticker\n",
    "\n",
    "plt.figure()\n",
    "plt.plot(train_loss)"
   ]
  },
  {
   "cell_type": "code",
   "execution_count": 26,
   "metadata": {
    "collapsed": false,
    "jupyter": {
     "outputs_hidden": false
    }
   },
   "outputs": [
    {
     "name": "stderr",
     "output_type": "stream",
     "text": [
      "Exception ignored in: <function tqdm.__del__ at 0x7f0fa4785120>\n",
      "Exception ignored in: <function tqdm.__del__ at 0x7f0fa4785120>\n",
      "Traceback (most recent call last):\n",
      "Traceback (most recent call last):\n",
      "  File \"/data/vdimitrov/project/venv/lib/python3.10/site-packages/tqdm/std.py\", line 1148, in __del__\n",
      "  File \"/data/vdimitrov/project/venv/lib/python3.10/site-packages/tqdm/std.py\", line 1148, in __del__\n",
      "    self.close()\n",
      "  File \"/data/vdimitrov/project/venv/lib/python3.10/site-packages/tqdm/notebook.py\", line 279, in close\n",
      "    self.disp(bar_style='danger', check_delay=False)\n",
      "AttributeError: 'tqdm_notebook' object has no attribute 'disp'\n",
      "    self.close()\n",
      "  File \"/data/vdimitrov/project/venv/lib/python3.10/site-packages/tqdm/notebook.py\", line 279, in close\n",
      "    self.disp(bar_style='danger', check_delay=False)\n",
      "AttributeError: 'tqdm_notebook' object has no attribute 'disp'\n",
      "Exception ignored in: <function tqdm.__del__ at 0x7f0fa4785120>Exception ignored in: \n",
      "Traceback (most recent call last):\n",
      "<function tqdm.__del__ at 0x7f0fa4785120>  File \"/data/vdimitrov/project/venv/lib/python3.10/site-packages/tqdm/std.py\", line 1148, in __del__\n",
      "\n",
      "    Traceback (most recent call last):\n",
      "  File \"/data/vdimitrov/project/venv/lib/python3.10/site-packages/tqdm/std.py\", line 1148, in __del__\n",
      "Exception ignored in:     <function tqdm.__del__ at 0x7f0fa4785120>self.close()\n",
      "\n",
      "Traceback (most recent call last):\n",
      "  File \"/data/vdimitrov/project/venv/lib/python3.10/site-packages/tqdm/notebook.py\", line 279, in close\n",
      "    self.close()\n",
      "self.disp(bar_style='danger', check_delay=False)  File \"/data/vdimitrov/project/venv/lib/python3.10/site-packages/tqdm/notebook.py\", line 279, in close\n",
      "    \n",
      "  File \"/data/vdimitrov/project/venv/lib/python3.10/site-packages/tqdm/std.py\", line 1148, in __del__\n",
      "self.disp(bar_style='danger', check_delay=False)\n",
      "AttributeErrorAttributeError: : 'tqdm_notebook' object has no attribute 'disp''tqdm_notebook' object has no attribute 'disp'\n",
      "\n",
      "Exception ignored in: <function tqdm.__del__ at 0x7f0fa4785120>\n",
      "Traceback (most recent call last):\n",
      "Exception ignored in:   File \"/data/vdimitrov/project/venv/lib/python3.10/site-packages/tqdm/std.py\", line 1148, in __del__\n",
      "<function tqdm.__del__ at 0x7f0fa4785120>    \n",
      "self.close()Traceback (most recent call last):\n",
      "\n",
      "  File \"/data/vdimitrov/project/venv/lib/python3.10/site-packages/tqdm/std.py\", line 1148, in __del__\n",
      "  File \"/data/vdimitrov/project/venv/lib/python3.10/site-packages/tqdm/notebook.py\", line 279, in close\n",
      "        self.close()self.disp(bar_style='danger', check_delay=False)\n",
      "\n",
      "  File \"/data/vdimitrov/project/venv/lib/python3.10/site-packages/tqdm/notebook.py\", line 279, in close\n",
      "AttributeError    :     self.disp(bar_style='danger', check_delay=False)self.close()'tqdm_notebook' object has no attribute 'disp'\n",
      "\n",
      "AttributeError  File \"/data/vdimitrov/project/venv/lib/python3.10/site-packages/tqdm/notebook.py\", line 279, in close\n",
      "\n",
      ":     'tqdm_notebook' object has no attribute 'disp'\n",
      "self.disp(bar_style='danger', check_delay=False)\n",
      "AttributeError: 'tqdm_notebook' object has no attribute 'disp'\n",
      "Exception ignored in: <function tqdm.__del__ at 0x7f0fa4785120>\n",
      "Traceback (most recent call last):\n",
      "  File \"/data/vdimitrov/project/venv/lib/python3.10/site-packages/tqdm/std.py\", line 1148, in __del__\n",
      "    self.close()\n",
      "  File \"/data/vdimitrov/project/venv/lib/python3.10/site-packages/tqdm/notebook.py\", line 279, in close\n",
      "    self.disp(bar_style='danger', check_delay=False)\n",
      "AttributeError: 'tqdm_notebook' object has no attribute 'disp'\n",
      "Exception ignored in: <function tqdm.__del__ at 0x7f0fa4785120>\n",
      "Traceback (most recent call last):\n",
      "  File \"/data/vdimitrov/project/venv/lib/python3.10/site-packages/tqdm/std.py\", line 1148, in __del__\n",
      "    self.close()\n",
      "  File \"/data/vdimitrov/project/venv/lib/python3.10/site-packages/tqdm/notebook.py\", line 279, in close\n",
      "    self.disp(bar_style='danger', check_delay=False)\n",
      "AttributeError: 'tqdm_notebook' object has no attribute 'disp'\n",
      "mmco: unref short failure\n"
     ]
    },
    {
     "name": "stdout",
     "output_type": "stream",
     "text": [
      "F1: 0.031746031746031744\n"
     ]
    }
   ],
   "source": [
    "val_targets = []\n",
    "val_preds = []\n",
    "\n",
    "for i, batch in enumerate(val_dataloader):\n",
    "    val_input, val_labels = batch\n",
    "    # val_input = torch.swapaxes(val_input, 1, -2)\n",
    "\n",
    "    grouped_inputs, grouped_labels = batch\n",
    "    val_input = grouped_inputs.flatten(0, 1)[0].unsqueeze(0)\n",
    "    val_labels = grouped_labels.flatten()[0].unsqueeze(0)\n",
    "\n",
    "\n",
    "    val_input = val_input.to(device)\n",
    "    val_labels = val_labels.to(device)\n",
    "\n",
    "    with torch.no_grad():\n",
    "        outputs = model(val_input)\n",
    "\n",
    "    val_targets.append(val_labels.detach().cpu().numpy()[0])\n",
    "    val_preds.append(outputs.argmax(1).detach().cpu().numpy()[0])\n",
    "\n",
    "print('F1:', f1_score(val_targets, val_preds, average='macro'))"
   ]
  },
  {
   "cell_type": "code",
   "execution_count": 27,
   "metadata": {
    "collapsed": false,
    "jupyter": {
     "outputs_hidden": false
    }
   },
   "outputs": [
    {
     "name": "stdout",
     "output_type": "stream",
     "text": [
      "Accuracy: 0.1111111111111111\n"
     ]
    }
   ],
   "source": [
    "print('Accuracy:', accuracy_score(val_targets, val_preds))"
   ]
  },
  {
   "cell_type": "code",
   "execution_count": 29,
   "metadata": {
    "collapsed": false,
    "jupyter": {
     "outputs_hidden": false
    }
   },
   "outputs": [
    {
     "data": {
      "image/png": "[encoded data removed]",
      "text/plain": [
       "<Figure size 1000x1000 with 2 Axes>"
      ]
     },
     "metadata": {},
     "output_type": "display_data"
    }
   ],
   "source": [
    "# make error matrix plot\n",
    "from sklearn.metrics import confusion_matrix\n",
    "import seaborn as sns\n",
    "import matplotlib.pyplot as plt\n",
    "\n",
    "cm = confusion_matrix(val_targets, val_preds)\n",
    "plt.figure(figsize=(10, 10))\n",
    "\n",
    "sns.heatmap(cm, annot=True, fmt='d', xticklabels=labels, yticklabels=labels)\n",
    "plt.xlabel('Predicted')\n",
    "plt.ylabel('True')\n",
    "plt.show()"
   ]
  },
  {
   "cell_type": "code",
   "execution_count": 30,
   "metadata": {},
   "outputs": [],
   "source": [
    "torch.save(model.state_dict(), \"resnet18.pkl\")"
   ]
  }
 ],
 "metadata": {
  "kernelspec": {
   "display_name": "Python 3 (ipykernel)",
   "language": "python",
   "name": "python3"
  },
  "language_info": {
   "codemirror_mode": {
    "name": "ipython",
    "version": 3
   },
   "file_extension": ".py",
   "mimetype": "text/x-python",
   "name": "python",
   "nbconvert_exporter": "python",
   "pygments_lexer": "ipython3",
   "version": "3.10.12"
  }
 },
 "nbformat": 4,
 "nbformat_minor": 4
}
