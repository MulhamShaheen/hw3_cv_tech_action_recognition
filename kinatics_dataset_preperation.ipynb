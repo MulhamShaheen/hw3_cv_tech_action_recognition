{
 "cells": [
  {
   "cell_type": "code",
   "execution_count": 1,
   "metadata": {
    "collapsed": true
   },
   "outputs": [],
   "source": [
    "import os\n",
    "\n",
    "import av\n",
    "import cv2\n",
    "import numpy as np\n",
    "import pandas as pd\n",
    "from torchvision import models\n",
    "from torchvision.transforms import ToTensor, transforms\n",
    "\n",
    "from tqdm.notebook import tqdm\n",
    "\n",
    "from sklearn.model_selection import train_test_split\n",
    "from sklearn.metrics import f1_score\n",
    "\n",
    "import albumentations as A\n",
    "\n",
    "import torch\n",
    "import torch.nn as nn\n",
    "import torch.nn.functional as F\n",
    "import torch.optim as optim\n",
    "from torch.utils.data import Dataset, DataLoader\n",
    "\n",
    "from utils.video_processing import sample_frame_indices, read_video_pyav, apply_video_augmentations\n",
    "from transformers import AutoProcessor, AutoModel, VideoMAEImageProcessor, VideoMAEForVideoClassification"
   ]
  },
  {
   "cell_type": "code",
   "execution_count": 3,
   "outputs": [],
   "source": [
    "os.environ['TOKENIZERS_PARALLELISM'] = 'false'"
   ],
   "metadata": {
    "collapsed": false,
    "ExecuteTime": {
     "end_time": "2024-05-03T15:12:53.326426900Z",
     "start_time": "2024-05-03T15:12:53.316715800Z"
    }
   }
  },
  {
   "cell_type": "code",
   "execution_count": 4,
   "outputs": [],
   "source": [
    "batch_size = 32\n",
    "root_dir = 'UCF-101/'\n",
    "device = 'cuda' if torch.cuda.is_available() else 'cpu'"
   ],
   "metadata": {
    "collapsed": false,
    "ExecuteTime": {
     "end_time": "2024-05-03T15:12:53.522034Z",
     "start_time": "2024-05-03T15:12:53.507539900Z"
    }
   }
  },
  {
   "cell_type": "markdown",
   "source": [
    "# Load pretrained transformer model"
   ],
   "metadata": {
    "collapsed": false
   }
  },
  {
   "cell_type": "code",
   "execution_count": 6,
   "outputs": [
    {
     "data": {
      "text/plain": "ResNet(\n  (conv1): Conv2d(3, 64, kernel_size=(7, 7), stride=(2, 2), padding=(3, 3), bias=False)\n  (bn1): BatchNorm2d(64, eps=1e-05, momentum=0.1, affine=True, track_running_stats=True)\n  (relu): ReLU(inplace=True)\n  (maxpool): MaxPool2d(kernel_size=3, stride=2, padding=1, dilation=1, ceil_mode=False)\n  (layer1): Sequential(\n    (0): BasicBlock(\n      (conv1): Conv2d(64, 64, kernel_size=(3, 3), stride=(1, 1), padding=(1, 1), bias=False)\n      (bn1): BatchNorm2d(64, eps=1e-05, momentum=0.1, affine=True, track_running_stats=True)\n      (relu): ReLU(inplace=True)\n      (conv2): Conv2d(64, 64, kernel_size=(3, 3), stride=(1, 1), padding=(1, 1), bias=False)\n      (bn2): BatchNorm2d(64, eps=1e-05, momentum=0.1, affine=True, track_running_stats=True)\n    )\n    (1): BasicBlock(\n      (conv1): Conv2d(64, 64, kernel_size=(3, 3), stride=(1, 1), padding=(1, 1), bias=False)\n      (bn1): BatchNorm2d(64, eps=1e-05, momentum=0.1, affine=True, track_running_stats=True)\n      (relu): ReLU(inplace=True)\n      (conv2): Conv2d(64, 64, kernel_size=(3, 3), stride=(1, 1), padding=(1, 1), bias=False)\n      (bn2): BatchNorm2d(64, eps=1e-05, momentum=0.1, affine=True, track_running_stats=True)\n    )\n    (2): BasicBlock(\n      (conv1): Conv2d(64, 64, kernel_size=(3, 3), stride=(1, 1), padding=(1, 1), bias=False)\n      (bn1): BatchNorm2d(64, eps=1e-05, momentum=0.1, affine=True, track_running_stats=True)\n      (relu): ReLU(inplace=True)\n      (conv2): Conv2d(64, 64, kernel_size=(3, 3), stride=(1, 1), padding=(1, 1), bias=False)\n      (bn2): BatchNorm2d(64, eps=1e-05, momentum=0.1, affine=True, track_running_stats=True)\n    )\n  )\n  (layer2): Sequential(\n    (0): BasicBlock(\n      (conv1): Conv2d(64, 128, kernel_size=(3, 3), stride=(2, 2), padding=(1, 1), bias=False)\n      (bn1): BatchNorm2d(128, eps=1e-05, momentum=0.1, affine=True, track_running_stats=True)\n      (relu): ReLU(inplace=True)\n      (conv2): Conv2d(128, 128, kernel_size=(3, 3), stride=(1, 1), padding=(1, 1), bias=False)\n      (bn2): BatchNorm2d(128, eps=1e-05, momentum=0.1, affine=True, track_running_stats=True)\n      (downsample): Sequential(\n        (0): Conv2d(64, 128, kernel_size=(1, 1), stride=(2, 2), bias=False)\n        (1): BatchNorm2d(128, eps=1e-05, momentum=0.1, affine=True, track_running_stats=True)\n      )\n    )\n    (1): BasicBlock(\n      (conv1): Conv2d(128, 128, kernel_size=(3, 3), stride=(1, 1), padding=(1, 1), bias=False)\n      (bn1): BatchNorm2d(128, eps=1e-05, momentum=0.1, affine=True, track_running_stats=True)\n      (relu): ReLU(inplace=True)\n      (conv2): Conv2d(128, 128, kernel_size=(3, 3), stride=(1, 1), padding=(1, 1), bias=False)\n      (bn2): BatchNorm2d(128, eps=1e-05, momentum=0.1, affine=True, track_running_stats=True)\n    )\n    (2): BasicBlock(\n      (conv1): Conv2d(128, 128, kernel_size=(3, 3), stride=(1, 1), padding=(1, 1), bias=False)\n      (bn1): BatchNorm2d(128, eps=1e-05, momentum=0.1, affine=True, track_running_stats=True)\n      (relu): ReLU(inplace=True)\n      (conv2): Conv2d(128, 128, kernel_size=(3, 3), stride=(1, 1), padding=(1, 1), bias=False)\n      (bn2): BatchNorm2d(128, eps=1e-05, momentum=0.1, affine=True, track_running_stats=True)\n    )\n    (3): BasicBlock(\n      (conv1): Conv2d(128, 128, kernel_size=(3, 3), stride=(1, 1), padding=(1, 1), bias=False)\n      (bn1): BatchNorm2d(128, eps=1e-05, momentum=0.1, affine=True, track_running_stats=True)\n      (relu): ReLU(inplace=True)\n      (conv2): Conv2d(128, 128, kernel_size=(3, 3), stride=(1, 1), padding=(1, 1), bias=False)\n      (bn2): BatchNorm2d(128, eps=1e-05, momentum=0.1, affine=True, track_running_stats=True)\n    )\n  )\n  (layer3): Sequential(\n    (0): BasicBlock(\n      (conv1): Conv2d(128, 256, kernel_size=(3, 3), stride=(2, 2), padding=(1, 1), bias=False)\n      (bn1): BatchNorm2d(256, eps=1e-05, momentum=0.1, affine=True, track_running_stats=True)\n      (relu): ReLU(inplace=True)\n      (conv2): Conv2d(256, 256, kernel_size=(3, 3), stride=(1, 1), padding=(1, 1), bias=False)\n      (bn2): BatchNorm2d(256, eps=1e-05, momentum=0.1, affine=True, track_running_stats=True)\n      (downsample): Sequential(\n        (0): Conv2d(128, 256, kernel_size=(1, 1), stride=(2, 2), bias=False)\n        (1): BatchNorm2d(256, eps=1e-05, momentum=0.1, affine=True, track_running_stats=True)\n      )\n    )\n    (1): BasicBlock(\n      (conv1): Conv2d(256, 256, kernel_size=(3, 3), stride=(1, 1), padding=(1, 1), bias=False)\n      (bn1): BatchNorm2d(256, eps=1e-05, momentum=0.1, affine=True, track_running_stats=True)\n      (relu): ReLU(inplace=True)\n      (conv2): Conv2d(256, 256, kernel_size=(3, 3), stride=(1, 1), padding=(1, 1), bias=False)\n      (bn2): BatchNorm2d(256, eps=1e-05, momentum=0.1, affine=True, track_running_stats=True)\n    )\n    (2): BasicBlock(\n      (conv1): Conv2d(256, 256, kernel_size=(3, 3), stride=(1, 1), padding=(1, 1), bias=False)\n      (bn1): BatchNorm2d(256, eps=1e-05, momentum=0.1, affine=True, track_running_stats=True)\n      (relu): ReLU(inplace=True)\n      (conv2): Conv2d(256, 256, kernel_size=(3, 3), stride=(1, 1), padding=(1, 1), bias=False)\n      (bn2): BatchNorm2d(256, eps=1e-05, momentum=0.1, affine=True, track_running_stats=True)\n    )\n    (3): BasicBlock(\n      (conv1): Conv2d(256, 256, kernel_size=(3, 3), stride=(1, 1), padding=(1, 1), bias=False)\n      (bn1): BatchNorm2d(256, eps=1e-05, momentum=0.1, affine=True, track_running_stats=True)\n      (relu): ReLU(inplace=True)\n      (conv2): Conv2d(256, 256, kernel_size=(3, 3), stride=(1, 1), padding=(1, 1), bias=False)\n      (bn2): BatchNorm2d(256, eps=1e-05, momentum=0.1, affine=True, track_running_stats=True)\n    )\n    (4): BasicBlock(\n      (conv1): Conv2d(256, 256, kernel_size=(3, 3), stride=(1, 1), padding=(1, 1), bias=False)\n      (bn1): BatchNorm2d(256, eps=1e-05, momentum=0.1, affine=True, track_running_stats=True)\n      (relu): ReLU(inplace=True)\n      (conv2): Conv2d(256, 256, kernel_size=(3, 3), stride=(1, 1), padding=(1, 1), bias=False)\n      (bn2): BatchNorm2d(256, eps=1e-05, momentum=0.1, affine=True, track_running_stats=True)\n    )\n    (5): BasicBlock(\n      (conv1): Conv2d(256, 256, kernel_size=(3, 3), stride=(1, 1), padding=(1, 1), bias=False)\n      (bn1): BatchNorm2d(256, eps=1e-05, momentum=0.1, affine=True, track_running_stats=True)\n      (relu): ReLU(inplace=True)\n      (conv2): Conv2d(256, 256, kernel_size=(3, 3), stride=(1, 1), padding=(1, 1), bias=False)\n      (bn2): BatchNorm2d(256, eps=1e-05, momentum=0.1, affine=True, track_running_stats=True)\n    )\n  )\n  (layer4): Sequential(\n    (0): BasicBlock(\n      (conv1): Conv2d(256, 512, kernel_size=(3, 3), stride=(2, 2), padding=(1, 1), bias=False)\n      (bn1): BatchNorm2d(512, eps=1e-05, momentum=0.1, affine=True, track_running_stats=True)\n      (relu): ReLU(inplace=True)\n      (conv2): Conv2d(512, 512, kernel_size=(3, 3), stride=(1, 1), padding=(1, 1), bias=False)\n      (bn2): BatchNorm2d(512, eps=1e-05, momentum=0.1, affine=True, track_running_stats=True)\n      (downsample): Sequential(\n        (0): Conv2d(256, 512, kernel_size=(1, 1), stride=(2, 2), bias=False)\n        (1): BatchNorm2d(512, eps=1e-05, momentum=0.1, affine=True, track_running_stats=True)\n      )\n    )\n    (1): BasicBlock(\n      (conv1): Conv2d(512, 512, kernel_size=(3, 3), stride=(1, 1), padding=(1, 1), bias=False)\n      (bn1): BatchNorm2d(512, eps=1e-05, momentum=0.1, affine=True, track_running_stats=True)\n      (relu): ReLU(inplace=True)\n      (conv2): Conv2d(512, 512, kernel_size=(3, 3), stride=(1, 1), padding=(1, 1), bias=False)\n      (bn2): BatchNorm2d(512, eps=1e-05, momentum=0.1, affine=True, track_running_stats=True)\n    )\n    (2): BasicBlock(\n      (conv1): Conv2d(512, 512, kernel_size=(3, 3), stride=(1, 1), padding=(1, 1), bias=False)\n      (bn1): BatchNorm2d(512, eps=1e-05, momentum=0.1, affine=True, track_running_stats=True)\n      (relu): ReLU(inplace=True)\n      (conv2): Conv2d(512, 512, kernel_size=(3, 3), stride=(1, 1), padding=(1, 1), bias=False)\n      (bn2): BatchNorm2d(512, eps=1e-05, momentum=0.1, affine=True, track_running_stats=True)\n    )\n  )\n  (avgpool): AdaptiveAvgPool2d(output_size=(1, 1))\n  (fc): Linear(in_features=512, out_features=15, bias=True)\n)"
     },
     "execution_count": 6,
     "metadata": {},
     "output_type": "execute_result"
    }
   ],
   "source": [
    "model = models.resnet34(pretrained=False)\n",
    "model.fc = nn.Linear(512, 15)\n",
    "model.load_state_dict(torch.load(\"resnet34_20.pkl\"))\n",
    "model.to(device)"
   ],
   "metadata": {
    "collapsed": false,
    "ExecuteTime": {
     "end_time": "2024-05-03T15:13:00.474667200Z",
     "start_time": "2024-05-03T15:12:59.641039500Z"
    }
   }
  },
  {
   "cell_type": "markdown",
   "source": [
    "# Dataset preparation"
   ],
   "metadata": {
    "collapsed": false
   }
  },
  {
   "cell_type": "code",
   "execution_count": 7,
   "outputs": [
    {
     "data": {
      "text/plain": "   Unnamed: 0          label   youtube_id  time_start  time_end  split  \\\n0       23948  belly dancing  uhX8rmHFLaY         116       126  train   \n1       23843  belly dancing  -q0Wpf0WThk         317       327  train   \n2       24142  belly dancing  P9mOEmlCEXY          62        72  train   \n3       23467  belly dancing  mm5S2ftbb-k          32        42  train   \n4       23982  belly dancing  TCbfIBb87hQ         134       144  train   \n\n                                  video_path  \n0  data/kinetics_700/clips_2/uhX8rmHFLaY.mp4  \n1  data/kinetics_700/clips_2/-q0Wpf0WThk.mp4  \n2  data/kinetics_700/clips_2/P9mOEmlCEXY.mp4  \n3  data/kinetics_700/clips_2/mm5S2ftbb-k.mp4  \n4  data/kinetics_700/clips_2/TCbfIBb87hQ.mp4  ",
      "text/html": "<div>\n<style scoped>\n    .dataframe tbody tr th:only-of-type {\n        vertical-align: middle;\n    }\n\n    .dataframe tbody tr th {\n        vertical-align: top;\n    }\n\n    .dataframe thead th {\n        text-align: right;\n    }\n</style>\n<table border=\"1\" class=\"dataframe\">\n  <thead>\n    <tr style=\"text-align: right;\">\n      <th></th>\n      <th>Unnamed: 0</th>\n      <th>label</th>\n      <th>youtube_id</th>\n      <th>time_start</th>\n      <th>time_end</th>\n      <th>split</th>\n      <th>video_path</th>\n    </tr>\n  </thead>\n  <tbody>\n    <tr>\n      <th>0</th>\n      <td>23948</td>\n      <td>belly dancing</td>\n      <td>uhX8rmHFLaY</td>\n      <td>116</td>\n      <td>126</td>\n      <td>train</td>\n      <td>data/kinetics_700/clips_2/uhX8rmHFLaY.mp4</td>\n    </tr>\n    <tr>\n      <th>1</th>\n      <td>23843</td>\n      <td>belly dancing</td>\n      <td>-q0Wpf0WThk</td>\n      <td>317</td>\n      <td>327</td>\n      <td>train</td>\n      <td>data/kinetics_700/clips_2/-q0Wpf0WThk.mp4</td>\n    </tr>\n    <tr>\n      <th>2</th>\n      <td>24142</td>\n      <td>belly dancing</td>\n      <td>P9mOEmlCEXY</td>\n      <td>62</td>\n      <td>72</td>\n      <td>train</td>\n      <td>data/kinetics_700/clips_2/P9mOEmlCEXY.mp4</td>\n    </tr>\n    <tr>\n      <th>3</th>\n      <td>23467</td>\n      <td>belly dancing</td>\n      <td>mm5S2ftbb-k</td>\n      <td>32</td>\n      <td>42</td>\n      <td>train</td>\n      <td>data/kinetics_700/clips_2/mm5S2ftbb-k.mp4</td>\n    </tr>\n    <tr>\n      <th>4</th>\n      <td>23982</td>\n      <td>belly dancing</td>\n      <td>TCbfIBb87hQ</td>\n      <td>134</td>\n      <td>144</td>\n      <td>train</td>\n      <td>data/kinetics_700/clips_2/TCbfIBb87hQ.mp4</td>\n    </tr>\n  </tbody>\n</table>\n</div>"
     },
     "execution_count": 7,
     "metadata": {},
     "output_type": "execute_result"
    }
   ],
   "source": [
    "df = pd.read_csv(\"data\\kinetics_700\\dancing.csv\")\n",
    "df[\"video_path\"] = \"data/kinetics_700/clips_2/\" + df[\"youtube_id\"] + \".mp4\"\n",
    "df.head()"
   ],
   "metadata": {
    "collapsed": false,
    "ExecuteTime": {
     "end_time": "2024-05-03T15:13:01.385780800Z",
     "start_time": "2024-05-03T15:13:01.358863800Z"
    }
   }
  },
  {
   "cell_type": "code",
   "execution_count": 8,
   "outputs": [
    {
     "name": "stdout",
     "output_type": "stream",
     "text": [
      "Before: 3000\n",
      "data/kinetics_700/clips_2/PL3ex5IAQNw.mp4\n",
      "data/kinetics_700/clips_2/NJAIp24I9oQ.mp4\n",
      "data/kinetics_700/clips_2/_ubj_hjLdVc.mp4\n",
      "data/kinetics_700/clips_2/iQuTmRkOuIo.mp4\n",
      "data/kinetics_700/clips_2/Y_rtxFTnyWI.mp4\n",
      "data/kinetics_700/clips_2/cNvTm72aGcM.mp4\n",
      "data/kinetics_700/clips_2/YUJVnjzPZxI.mp4\n",
      "data/kinetics_700/clips_2/ooN3OOKuAjY.mp4\n",
      "data/kinetics_700/clips_2/sbvNyPubcFM.mp4\n",
      "data/kinetics_700/clips_2/g3E8Cjog6-k.mp4\n",
      "data/kinetics_700/clips_2/iJ5KAamDDP8.mp4\n",
      "data/kinetics_700/clips_2/kuJO1VapxuQ.mp4\n",
      "data/kinetics_700/clips_2/G0MfJoTOAOw.mp4\n",
      "data/kinetics_700/clips_2/yEEDk2CMOTI.mp4\n",
      "data/kinetics_700/clips_2/zt7XHcgHdEc.mp4\n",
      "data/kinetics_700/clips_2/Sw4Ggaya3ys.mp4\n",
      "data/kinetics_700/clips_2/xeemkepaczg.mp4\n",
      "data/kinetics_700/clips_2/s5GJdHQL_Wc.mp4\n",
      "data/kinetics_700/clips_2/N4UtAez9QVE.mp4\n",
      "data/kinetics_700/clips_2/0sCg3fIcMCA.mp4\n",
      "data/kinetics_700/clips_2/NLhhoE7es8g.mp4\n",
      "data/kinetics_700/clips_2/uvoBn-8AxHI.mp4\n",
      "data/kinetics_700/clips_2/F60UViJTih0.mp4\n",
      "data/kinetics_700/clips_2/xvNiI_ScL1I.mp4\n",
      "data/kinetics_700/clips_2/5JWfwsP06rQ.mp4\n",
      "data/kinetics_700/clips_2/eU7aTQHNTdw.mp4\n",
      "data/kinetics_700/clips_2/yJlFSAsm55A.mp4\n",
      "data/kinetics_700/clips_2/ros4Qypsgx8.mp4\n",
      "data/kinetics_700/clips_2/WfReigRwWL8.mp4\n",
      "data/kinetics_700/clips_2/Os66zjMaxyM.mp4\n",
      "data/kinetics_700/clips_2/tkU_8wbm5PI.mp4\n",
      "data/kinetics_700/clips_2/RB2LsZrsp7M.mp4\n",
      "data/kinetics_700/clips_2/900sTBL7rUI.mp4\n",
      "data/kinetics_700/clips_2/Fd8A6KMum_U.mp4\n",
      "data/kinetics_700/clips_2/eBswIBFiyBs.mp4\n",
      "data/kinetics_700/clips_2/gE3P4lxAgt4.mp4\n",
      "data/kinetics_700/clips_2/gFHv0ahXTGQ.mp4\n",
      "data/kinetics_700/clips_2/XtRSuv2pD5A.mp4\n",
      "data/kinetics_700/clips_2/KmeM_SSphxA.mp4\n",
      "data/kinetics_700/clips_2/9AkuTMwhHQE.mp4\n",
      "data/kinetics_700/clips_2/0f1vKMit9uw.mp4\n",
      "data/kinetics_700/clips_2/p4D01Sj7Mjk.mp4\n",
      "data/kinetics_700/clips_2/N06SG86dnR8.mp4\n",
      "data/kinetics_700/clips_2/s-zFOFQSnpI.mp4\n",
      "data/kinetics_700/clips_2/IPLpD_PGMHk.mp4\n",
      "data/kinetics_700/clips_2/O0EY3HcAKfU.mp4\n",
      "data/kinetics_700/clips_2/4XVx7PJsKv4.mp4\n",
      "data/kinetics_700/clips_2/bArxc3nChSU.mp4\n",
      "data/kinetics_700/clips_2/6adKBbLYH1g.mp4\n",
      "data/kinetics_700/clips_2/S6oaDdsOVX0.mp4\n",
      "data/kinetics_700/clips_2/l66NOWuh9d0.mp4\n",
      "data/kinetics_700/clips_2/KUP4O8xiRx4.mp4\n",
      "data/kinetics_700/clips_2/vE5pXxbm9n8.mp4\n",
      "data/kinetics_700/clips_2/b0ssoxSCsww.mp4\n",
      "data/kinetics_700/clips_2/7daoZfaJC4I.mp4\n",
      "data/kinetics_700/clips_2/0hpxpFsDuSA.mp4\n",
      "data/kinetics_700/clips_2/dqv-2j_1K-w.mp4\n",
      "data/kinetics_700/clips_2/EfTkNx6ckJs.mp4\n",
      "data/kinetics_700/clips_2/-8snoM0IJ68.mp4\n",
      "data/kinetics_700/clips_2/8WQJjHzdAYU.mp4\n",
      "data/kinetics_700/clips_2/e0A_h4wNUWc.mp4\n",
      "data/kinetics_700/clips_2/SdQVS19X7f8.mp4\n",
      "data/kinetics_700/clips_2/lX_YJ4SFt4c.mp4\n",
      "data/kinetics_700/clips_2/Tau09NCFKDg.mp4\n",
      "data/kinetics_700/clips_2/h8_JHpUVTtE.mp4\n",
      "data/kinetics_700/clips_2/raFHfveSxPc.mp4\n",
      "data/kinetics_700/clips_2/g8WQflTwDWw.mp4\n",
      "data/kinetics_700/clips_2/hR31BlhDrew.mp4\n",
      "data/kinetics_700/clips_2/nBqnC-pSdYk.mp4\n",
      "data/kinetics_700/clips_2/kcLsYzNQNwI.mp4\n",
      "data/kinetics_700/clips_2/rhxsbI7BgzA.mp4\n",
      "data/kinetics_700/clips_2/jZNgDwNjoW8.mp4\n",
      "data/kinetics_700/clips_2/SDDdj2dhxeE.mp4\n",
      "data/kinetics_700/clips_2/g295aUkbHrY.mp4\n",
      "data/kinetics_700/clips_2/iRblXWDmvj4.mp4\n",
      "data/kinetics_700/clips_2/-A6-ubbxy3w.mp4\n",
      "data/kinetics_700/clips_2/sDDXOC9F2TI.mp4\n",
      "data/kinetics_700/clips_2/gwAHj75vebI.mp4\n",
      "data/kinetics_700/clips_2/b7Dre88rqKY.mp4\n",
      "data/kinetics_700/clips_2/gKZ31uBbO4Q.mp4\n",
      "data/kinetics_700/clips_2/c-MtXbJmtdw.mp4\n",
      "data/kinetics_700/clips_2/W2cHZc5yUIc.mp4\n",
      "data/kinetics_700/clips_2/YaxGSSdeio0.mp4\n",
      "data/kinetics_700/clips_2/c1aSSh9X3vE.mp4\n",
      "data/kinetics_700/clips_2/7EfWZ6FSxBo.mp4\n",
      "data/kinetics_700/clips_2/hgNs0EOtqvA.mp4\n",
      "data/kinetics_700/clips_2/ezQ5igY6YHo.mp4\n",
      "data/kinetics_700/clips_2/JFraNvErZJ0.mp4\n",
      "data/kinetics_700/clips_2/nRT8yWlERiA.mp4\n",
      "data/kinetics_700/clips_2/GaoWe9GBFWg.mp4\n",
      "data/kinetics_700/clips_2/4BJ_2Y0M9Tw.mp4\n",
      "data/kinetics_700/clips_2/RnHoT7l9lFE.mp4\n",
      "data/kinetics_700/clips_2/fNkk4e2OwWo.mp4\n",
      "data/kinetics_700/clips_2/4OM9cYg_E0A.mp4\n",
      "data/kinetics_700/clips_2/nD7eYr57bD4.mp4\n",
      "data/kinetics_700/clips_2/0EI804x_Qe0.mp4\n",
      "data/kinetics_700/clips_2/UNicpaBHsoA.mp4\n",
      "data/kinetics_700/clips_2/aLbTp9PZgbw.mp4\n",
      "data/kinetics_700/clips_2/rQiyz36aLDk.mp4\n",
      "data/kinetics_700/clips_2/KHqaxS4W9RI.mp4\n",
      "data/kinetics_700/clips_2/vxpCm6h9rD8.mp4\n",
      "data/kinetics_700/clips_2/n3MVGqLbEtk.mp4\n",
      "data/kinetics_700/clips_2/T5HdKXg1d1o.mp4\n",
      "data/kinetics_700/clips_2/p_ebLuGOYIs.mp4\n",
      "data/kinetics_700/clips_2/PnpzUKyzWmo.mp4\n",
      "data/kinetics_700/clips_2/aJH19JtxnF0.mp4\n",
      "data/kinetics_700/clips_2/bBJ535mR6xU.mp4\n",
      "data/kinetics_700/clips_2/YlQFXQ4aNfs.mp4\n",
      "data/kinetics_700/clips_2/_fBXuqLns00.mp4\n",
      "data/kinetics_700/clips_2/BTY65IPM9jQ.mp4\n",
      "data/kinetics_700/clips_2/h21snM6XvLY.mp4\n",
      "data/kinetics_700/clips_2/I5o0uDQ5v9Y.mp4\n",
      "data/kinetics_700/clips_2/zmbSLm652C0.mp4\n",
      "data/kinetics_700/clips_2/qb3QrFZJLIE.mp4\n",
      "data/kinetics_700/clips_2/Aq7IVzsKXjQ.mp4\n",
      "data/kinetics_700/clips_2/0wwzMnMQTV0.mp4\n",
      "data/kinetics_700/clips_2/buUfv9eu_3c.mp4\n",
      "data/kinetics_700/clips_2/r3JDPpjD8l8.mp4\n",
      "data/kinetics_700/clips_2/N0Ph13LsR5A.mp4\n",
      "data/kinetics_700/clips_2/-B3ugc7t7aU.mp4\n",
      "data/kinetics_700/clips_2/T2_AKLeEVj8.mp4\n",
      "data/kinetics_700/clips_2/PzKw_sdJzjQ.mp4\n",
      "data/kinetics_700/clips_2/CLXwtveP3S8.mp4\n",
      "data/kinetics_700/clips_2/_ZSbbAW7NwQ.mp4\n",
      "data/kinetics_700/clips_2/8WBa7tAkc-k.mp4\n",
      "data/kinetics_700/clips_2/QpW0_0hYLYE.mp4\n",
      "data/kinetics_700/clips_2/65WRMPboy3s.mp4\n",
      "data/kinetics_700/clips_2/YyHEOHtyqBY.mp4\n",
      "data/kinetics_700/clips_2/i2CO0BZOeoA.mp4\n",
      "data/kinetics_700/clips_2/qMVGJfHjxCU.mp4\n",
      "data/kinetics_700/clips_2/Nd1n5qY7pCQ.mp4\n",
      "data/kinetics_700/clips_2/5y9yOnXkrNU.mp4\n",
      "data/kinetics_700/clips_2/vZRQGxeSTjE.mp4\n",
      "data/kinetics_700/clips_2/TOjVChL2RLk.mp4\n",
      "data/kinetics_700/clips_2/LrKjWFA1lAo.mp4\n",
      "data/kinetics_700/clips_2/Q7nF0nwnZs0.mp4\n",
      "data/kinetics_700/clips_2/yu-0Iuz6nF0.mp4\n",
      "data/kinetics_700/clips_2/ONDBIFiWN3g.mp4\n",
      "data/kinetics_700/clips_2/togbO41hZrU.mp4\n",
      "data/kinetics_700/clips_2/oJtuAoi58ao.mp4\n",
      "data/kinetics_700/clips_2/I_qT2xDDDac.mp4\n",
      "data/kinetics_700/clips_2/W_PNiyYgoOM.mp4\n",
      "data/kinetics_700/clips_2/c1hHxrhEeZk.mp4\n",
      "data/kinetics_700/clips_2/LTbZV-VUbps.mp4\n",
      "data/kinetics_700/clips_2/iRWsCOhgCbU.mp4\n",
      "data/kinetics_700/clips_2/Ntv7xMwUetA.mp4\n",
      "data/kinetics_700/clips_2/YrVrl4WnJZA.mp4\n",
      "data/kinetics_700/clips_2/8EOP98US9Ks.mp4\n",
      "data/kinetics_700/clips_2/hOKljMC66tE.mp4\n",
      "data/kinetics_700/clips_2/j3D5mdhLQsw.mp4\n",
      "data/kinetics_700/clips_2/74elZg5xFLU.mp4\n",
      "data/kinetics_700/clips_2/CSHnDKV8yBI.mp4\n",
      "data/kinetics_700/clips_2/JmSdDUoMG20.mp4\n",
      "data/kinetics_700/clips_2/V-fWxn6DHtc.mp4\n",
      "data/kinetics_700/clips_2/dwBXEjNfDb4.mp4\n",
      "data/kinetics_700/clips_2/3IWHE7_WFDE.mp4\n",
      "data/kinetics_700/clips_2/SAnv6LOPH1c.mp4\n",
      "data/kinetics_700/clips_2/dSyiGI1Zmiw.mp4\n",
      "data/kinetics_700/clips_2/X_TQd6vTnkw.mp4\n",
      "data/kinetics_700/clips_2/natnD1jofBg.mp4\n",
      "data/kinetics_700/clips_2/KWrOqybn9ts.mp4\n",
      "data/kinetics_700/clips_2/EkH-oJDrhNg.mp4\n",
      "data/kinetics_700/clips_2/NvWcsNLr0OA.mp4\n",
      "data/kinetics_700/clips_2/TBfJ0M7Qah4.mp4\n",
      "data/kinetics_700/clips_2/UEua4xOuixI.mp4\n",
      "data/kinetics_700/clips_2/dBJiQEhe8m0.mp4\n",
      "data/kinetics_700/clips_2/mLlhy4a7yvY.mp4\n",
      "data/kinetics_700/clips_2/Z_6bGBaN-tU.mp4\n",
      "data/kinetics_700/clips_2/5mEP3BbXqjE.mp4\n",
      "data/kinetics_700/clips_2/MrygPovksSk.mp4\n",
      "data/kinetics_700/clips_2/PSi_FwEICxc.mp4\n",
      "data/kinetics_700/clips_2/OlhDxxPK_1Y.mp4\n",
      "data/kinetics_700/clips_2/9l19jzphV4M.mp4\n",
      "data/kinetics_700/clips_2/GNxzE3MleJk.mp4\n",
      "data/kinetics_700/clips_2/DXtjkRunpLg.mp4\n",
      "data/kinetics_700/clips_2/JyMuGe4-kSA.mp4\n",
      "data/kinetics_700/clips_2/EBakJFfju4A.mp4\n",
      "data/kinetics_700/clips_2/xCjxEjityY0.mp4\n",
      "data/kinetics_700/clips_2/rT8V7tBn324.mp4\n",
      "data/kinetics_700/clips_2/Xmg1nWrz7nw.mp4\n",
      "data/kinetics_700/clips_2/TGbudmrQs3U.mp4\n",
      "data/kinetics_700/clips_2/jWMj26xY9O0.mp4\n",
      "data/kinetics_700/clips_2/e_V_W8ZZ0yw.mp4\n",
      "data/kinetics_700/clips_2/EaobS0zIleE.mp4\n",
      "data/kinetics_700/clips_2/fjdCtfe461M.mp4\n",
      "data/kinetics_700/clips_2/tPFvQbTqZ3o.mp4\n",
      "data/kinetics_700/clips_2/Ra_wdynM7Lk.mp4\n",
      "data/kinetics_700/clips_2/Y2E97he5mQw.mp4\n",
      "data/kinetics_700/clips_2/CSEwkXFRIZw.mp4\n",
      "data/kinetics_700/clips_2/wX9Q9QoiYgk.mp4\n",
      "data/kinetics_700/clips_2/kgHbV6kxZzI.mp4\n",
      "data/kinetics_700/clips_2/2WPzgG1-TF0.mp4\n",
      "data/kinetics_700/clips_2/yAHOI5tH7fs.mp4\n",
      "data/kinetics_700/clips_2/Mz1UPUVPQqI.mp4\n",
      "data/kinetics_700/clips_2/Z67v6arjAnM.mp4\n",
      "data/kinetics_700/clips_2/r_GxpS-8gYk.mp4\n",
      "data/kinetics_700/clips_2/PARhnPb-jN0.mp4\n",
      "data/kinetics_700/clips_2/NFeXT5H3bJk.mp4\n",
      "data/kinetics_700/clips_2/U0KSOwhTk7c.mp4\n",
      "data/kinetics_700/clips_2/oaRmZ49KJDk.mp4\n",
      "data/kinetics_700/clips_2/IIQl0T_s1YY.mp4\n",
      "data/kinetics_700/clips_2/2rsZP151pKw.mp4\n",
      "data/kinetics_700/clips_2/vU7nssnIna4.mp4\n",
      "data/kinetics_700/clips_2/EMp1V1Bmf7w.mp4\n",
      "data/kinetics_700/clips_2/M6vUyIGCK-g.mp4\n",
      "data/kinetics_700/clips_2/Yv0rHyWNVqE.mp4\n",
      "data/kinetics_700/clips_2/XWvZ6BkBN3A.mp4\n",
      "data/kinetics_700/clips_2/Q_ByJbSAwAs.mp4\n",
      "data/kinetics_700/clips_2/Oiibk0gAR5I.mp4\n",
      "data/kinetics_700/clips_2/e4X5z8AQc3s.mp4\n",
      "data/kinetics_700/clips_2/q5U1upD0g9M.mp4\n",
      "data/kinetics_700/clips_2/fl56tjPytbY.mp4\n",
      "data/kinetics_700/clips_2/AQKWUxPHDRA.mp4\n",
      "data/kinetics_700/clips_2/B98ia97YxvI.mp4\n",
      "data/kinetics_700/clips_2/tr6b3ZLMKyc.mp4\n",
      "data/kinetics_700/clips_2/V4a2BagLVRY.mp4\n",
      "data/kinetics_700/clips_2/zpgEQQNBx8Y.mp4\n",
      "data/kinetics_700/clips_2/o6sQeK44b78.mp4\n",
      "data/kinetics_700/clips_2/rrqcZhNUVIU.mp4\n",
      "data/kinetics_700/clips_2/1HAhF8UZ9MA.mp4\n",
      "data/kinetics_700/clips_2/LzI3zrjX6K8.mp4\n",
      "data/kinetics_700/clips_2/0GJggKtnkEE.mp4\n",
      "data/kinetics_700/clips_2/o5oIWjZOvy4.mp4\n",
      "data/kinetics_700/clips_2/u6dLn-CfDCM.mp4\n",
      "data/kinetics_700/clips_2/PzbnishugVM.mp4\n",
      "data/kinetics_700/clips_2/TVr9VyysveI.mp4\n",
      "data/kinetics_700/clips_2/aKpL5RtYH-0.mp4\n",
      "data/kinetics_700/clips_2/NxiXJoF9HCo.mp4\n",
      "data/kinetics_700/clips_2/ezngImN3D5A.mp4\n",
      "data/kinetics_700/clips_2/1xgRad-jeI8.mp4\n",
      "data/kinetics_700/clips_2/4BALx-8ijz0.mp4\n",
      "data/kinetics_700/clips_2/7l4Ygt3qpTA.mp4\n",
      "data/kinetics_700/clips_2/Qyt6ANW9tRs.mp4\n",
      "data/kinetics_700/clips_2/vNpcPa0Z9Bo.mp4\n",
      "data/kinetics_700/clips_2/vW8zmnXPlKY.mp4\n",
      "data/kinetics_700/clips_2/s_b3x1uhmm0.mp4\n",
      "data/kinetics_700/clips_2/aif8bjP4jH0.mp4\n",
      "data/kinetics_700/clips_2/30yMANnkLQo.mp4\n",
      "data/kinetics_700/clips_2/JZmh9gGZYjw.mp4\n",
      "data/kinetics_700/clips_2/YaxI7l21s5U.mp4\n",
      "data/kinetics_700/clips_2/tbzrcupNcZc.mp4\n",
      "data/kinetics_700/clips_2/FbPUX8cWmeU.mp4\n",
      "data/kinetics_700/clips_2/rxcoW8MHBGY.mp4\n",
      "data/kinetics_700/clips_2/Ibw9n2Myrz0.mp4\n",
      "data/kinetics_700/clips_2/shuDmNDrckg.mp4\n",
      "data/kinetics_700/clips_2/aOUmIhOy9i0.mp4\n",
      "data/kinetics_700/clips_2/pkwJtXiGA3A.mp4\n",
      "data/kinetics_700/clips_2/sF2LLedArF4.mp4\n",
      "data/kinetics_700/clips_2/Vyk6jMZ95B0.mp4\n",
      "data/kinetics_700/clips_2/zhX-VZrEil0.mp4\n",
      "data/kinetics_700/clips_2/7LmsLfnAtTw.mp4\n",
      "data/kinetics_700/clips_2/lESa9CjAiIE.mp4\n",
      "data/kinetics_700/clips_2/1q78VQqIUbI.mp4\n",
      "data/kinetics_700/clips_2/4gjxqVi8Pn0.mp4\n",
      "data/kinetics_700/clips_2/rEEEREW02C8.mp4\n",
      "data/kinetics_700/clips_2/9bwQZd_DoxA.mp4\n",
      "data/kinetics_700/clips_2/91YXtNIv-So.mp4\n",
      "data/kinetics_700/clips_2/M7GyzUSlGhM.mp4\n",
      "data/kinetics_700/clips_2/11zeXi6Qujc.mp4\n",
      "data/kinetics_700/clips_2/_32OaGSeb0Q.mp4\n",
      "data/kinetics_700/clips_2/ezkkKrk7-u4.mp4\n",
      "data/kinetics_700/clips_2/ah8c7LBkPhg.mp4\n",
      "data/kinetics_700/clips_2/ejGoErdOKmA.mp4\n",
      "data/kinetics_700/clips_2/WITk8lj8dU0.mp4\n",
      "data/kinetics_700/clips_2/1SC2nR7b1kc.mp4\n",
      "data/kinetics_700/clips_2/X3Lg9bTMQHs.mp4\n",
      "data/kinetics_700/clips_2/bHuTRITD_Z0.mp4\n",
      "data/kinetics_700/clips_2/UqbPNmdiEQE.mp4\n",
      "data/kinetics_700/clips_2/BUZN0sJdZBI.mp4\n",
      "data/kinetics_700/clips_2/w3h9_-ECM-c.mp4\n",
      "data/kinetics_700/clips_2/f1zIumR21Vk.mp4\n",
      "data/kinetics_700/clips_2/lBzcKR5EzUs.mp4\n",
      "data/kinetics_700/clips_2/n1FEcgaF_Yc.mp4\n",
      "data/kinetics_700/clips_2/lFfrmL80MNI.mp4\n",
      "data/kinetics_700/clips_2/eC4otpBadSo.mp4\n",
      "data/kinetics_700/clips_2/j_JWwHUKTlE.mp4\n",
      "data/kinetics_700/clips_2/Lq9BEVJObuw.mp4\n",
      "data/kinetics_700/clips_2/qteOBxcecdo.mp4\n",
      "data/kinetics_700/clips_2/1dhbh3JUe_o.mp4\n",
      "data/kinetics_700/clips_2/XeNcOGkbc50.mp4\n",
      "data/kinetics_700/clips_2/SKDi9Z_b9XM.mp4\n",
      "data/kinetics_700/clips_2/RUeBVXHf9HE.mp4\n",
      "data/kinetics_700/clips_2/Sgwb7SWNCIA.mp4\n",
      "data/kinetics_700/clips_2/wjfM4OBQRaQ.mp4\n",
      "data/kinetics_700/clips_2/e5wkSctRh6E.mp4\n",
      "data/kinetics_700/clips_2/0rhk4HYpN64.mp4\n",
      "data/kinetics_700/clips_2/-hGlxmmji9o.mp4\n",
      "data/kinetics_700/clips_2/eKlcRMFGdXg.mp4\n",
      "data/kinetics_700/clips_2/ADNTLM6KMKo.mp4\n",
      "data/kinetics_700/clips_2/zFpk_qau0xg.mp4\n",
      "data/kinetics_700/clips_2/_wJ9nkP2zN0.mp4\n",
      "data/kinetics_700/clips_2/y3sIWXI-tis.mp4\n",
      "data/kinetics_700/clips_2/ioCPxUJgr1g.mp4\n",
      "data/kinetics_700/clips_2/AjlQzOpebcc.mp4\n",
      "data/kinetics_700/clips_2/N1su-pohMw0.mp4\n",
      "data/kinetics_700/clips_2/0nATf03yGfY.mp4\n",
      "data/kinetics_700/clips_2/VhpSUzzbk8Y.mp4\n",
      "data/kinetics_700/clips_2/iSIUI8mnU4Y.mp4\n",
      "data/kinetics_700/clips_2/l_vJemlReyw.mp4\n",
      "data/kinetics_700/clips_2/7pOnWjBVOk8.mp4\n",
      "data/kinetics_700/clips_2/8mm3AF75pmc.mp4\n",
      "data/kinetics_700/clips_2/E3v_QqzsvWE.mp4\n",
      "data/kinetics_700/clips_2/V4dWuT3XB7U.mp4\n",
      "data/kinetics_700/clips_2/u63r67bzKls.mp4\n",
      "data/kinetics_700/clips_2/daT3hGqly00.mp4\n",
      "data/kinetics_700/clips_2/TB_gZzGuqzM.mp4\n",
      "data/kinetics_700/clips_2/Z6fCVegfxN8.mp4\n",
      "data/kinetics_700/clips_2/wIanLOxc8OU.mp4\n",
      "data/kinetics_700/clips_2/MJJ-dW-Qk-k.mp4\n",
      "data/kinetics_700/clips_2/E-1DPx6uCC8.mp4\n",
      "data/kinetics_700/clips_2/fBOq7QOS9PU.mp4\n",
      "data/kinetics_700/clips_2/nSplr_TTsjQ.mp4\n",
      "data/kinetics_700/clips_2/tWoBS7WrI8Y.mp4\n",
      "data/kinetics_700/clips_2/nUS-ACEtoWs.mp4\n",
      "data/kinetics_700/clips_2/7Pdcp3ahRZE.mp4\n",
      "data/kinetics_700/clips_2/f6wVxpn-pvA.mp4\n",
      "data/kinetics_700/clips_2/CTAfs8Q-5qQ.mp4\n",
      "data/kinetics_700/clips_2/Z6_dJJJBtR0.mp4\n",
      "data/kinetics_700/clips_2/0CApQWg8ViU.mp4\n",
      "data/kinetics_700/clips_2/UnbnOGGiaFE.mp4\n",
      "data/kinetics_700/clips_2/2bTz86eGvCQ.mp4\n",
      "data/kinetics_700/clips_2/HM8uVUd10f4.mp4\n",
      "data/kinetics_700/clips_2/mBTlWgG8P_E.mp4\n",
      "data/kinetics_700/clips_2/u3MVWyVRR8E.mp4\n",
      "data/kinetics_700/clips_2/IcUc9hg8qVI.mp4\n",
      "data/kinetics_700/clips_2/wp8IFo2MAhs.mp4\n",
      "data/kinetics_700/clips_2/08ticaoBlWs.mp4\n",
      "data/kinetics_700/clips_2/zBo1TehDd1E.mp4\n",
      "data/kinetics_700/clips_2/9DaczEQ9sUQ.mp4\n",
      "data/kinetics_700/clips_2/rf2bcXgeN20.mp4\n",
      "data/kinetics_700/clips_2/V2BKHSIYU4o.mp4\n",
      "data/kinetics_700/clips_2/yvE_qU4G4iw.mp4\n",
      "data/kinetics_700/clips_2/xHHLhgO94oE.mp4\n",
      "data/kinetics_700/clips_2/3Wel_i6WRDA.mp4\n",
      "data/kinetics_700/clips_2/bn0JYGVxyvg.mp4\n",
      "data/kinetics_700/clips_2/aLSZqZO3oMk.mp4\n",
      "data/kinetics_700/clips_2/CV89K-iTL_8.mp4\n",
      "data/kinetics_700/clips_2/wzNY8BINlmw.mp4\n",
      "data/kinetics_700/clips_2/wz8I8VOT9yM.mp4\n",
      "data/kinetics_700/clips_2/UdFXugWdS94.mp4\n",
      "data/kinetics_700/clips_2/_8b7k9V7JHs.mp4\n",
      "data/kinetics_700/clips_2/z2jer5hWx1E.mp4\n",
      "data/kinetics_700/clips_2/ekrftI8bkH8.mp4\n",
      "data/kinetics_700/clips_2/Smp7h-SHt-Y.mp4\n",
      "data/kinetics_700/clips_2/-HYfm8teSyQ.mp4\n",
      "data/kinetics_700/clips_2/Gy9DZNhnNAs.mp4\n",
      "data/kinetics_700/clips_2/76kYX5BRHgE.mp4\n",
      "data/kinetics_700/clips_2/DMjBxYLZbrw.mp4\n",
      "data/kinetics_700/clips_2/94aEhZOhLA4.mp4\n",
      "data/kinetics_700/clips_2/S40WJQ-NeG4.mp4\n",
      "data/kinetics_700/clips_2/PWEYGzI7gT8.mp4\n",
      "data/kinetics_700/clips_2/NJE3nR-ookY.mp4\n",
      "data/kinetics_700/clips_2/pBmamdi0GHw.mp4\n",
      "data/kinetics_700/clips_2/oBp2p3pf58I.mp4\n",
      "data/kinetics_700/clips_2/Ta9d3KV3b7s.mp4\n",
      "data/kinetics_700/clips_2/Eu0anJhSigY.mp4\n",
      "data/kinetics_700/clips_2/pbqwqUvyY88.mp4\n",
      "data/kinetics_700/clips_2/NrT68twfGIk.mp4\n",
      "data/kinetics_700/clips_2/yRICh5w2rbA.mp4\n",
      "data/kinetics_700/clips_2/aHdPch4H-dY.mp4\n",
      "data/kinetics_700/clips_2/ws9y6yI1HKk.mp4\n",
      "data/kinetics_700/clips_2/m5JohL88MGE.mp4\n",
      "data/kinetics_700/clips_2/qDiKelyUZJQ.mp4\n",
      "data/kinetics_700/clips_2/EdkoU8vZweI.mp4\n",
      "data/kinetics_700/clips_2/1QvF3Ep3VbY.mp4\n",
      "data/kinetics_700/clips_2/DqWTF_OLX_E.mp4\n",
      "data/kinetics_700/clips_2/PkfVHxYnYpg.mp4\n",
      "data/kinetics_700/clips_2/kPQgw3KipyQ.mp4\n",
      "data/kinetics_700/clips_2/w6aMMgCiDNQ.mp4\n",
      "data/kinetics_700/clips_2/NzEAJ8x6-Fk.mp4\n",
      "data/kinetics_700/clips_2/JRJrVNBah-Q.mp4\n",
      "data/kinetics_700/clips_2/qi9G3bedKng.mp4\n",
      "data/kinetics_700/clips_2/3wlhpfRowJQ.mp4\n",
      "data/kinetics_700/clips_2/umefDRR_2Mc.mp4\n",
      "data/kinetics_700/clips_2/PfTLArcL3m8.mp4\n",
      "data/kinetics_700/clips_2/rXXwPzo9MTQ.mp4\n",
      "data/kinetics_700/clips_2/9U9wlqPshu8.mp4\n",
      "data/kinetics_700/clips_2/d2s1jZT8kJQ.mp4\n",
      "data/kinetics_700/clips_2/TaF6wPth3Ks.mp4\n",
      "data/kinetics_700/clips_2/p_4FBQnf6NI.mp4\n",
      "data/kinetics_700/clips_2/xEpzW2OB2o0.mp4\n",
      "data/kinetics_700/clips_2/iJg7CJ08OLY.mp4\n",
      "data/kinetics_700/clips_2/RIP0Gcqf0xU.mp4\n",
      "data/kinetics_700/clips_2/CfE2PkGcmTY.mp4\n",
      "data/kinetics_700/clips_2/0ErBwoEUrjI.mp4\n",
      "data/kinetics_700/clips_2/tb9AyhPAK48.mp4\n",
      "data/kinetics_700/clips_2/eypk3vSZNOM.mp4\n",
      "data/kinetics_700/clips_2/rfcYohkeQj8.mp4\n",
      "data/kinetics_700/clips_2/lrOlZop7g_8.mp4\n",
      "data/kinetics_700/clips_2/31VwNtHjSdI.mp4\n",
      "data/kinetics_700/clips_2/cb5mnc05OYM.mp4\n",
      "data/kinetics_700/clips_2/X3GdqlDpVSE.mp4\n",
      "data/kinetics_700/clips_2/PhHTB1MSTic.mp4\n",
      "data/kinetics_700/clips_2/nhYU3lJT_RU.mp4\n",
      "data/kinetics_700/clips_2/a9nKJuji61A.mp4\n",
      "data/kinetics_700/clips_2/CFoChi8-7Ak.mp4\n",
      "data/kinetics_700/clips_2/mfgnSepPXdk.mp4\n",
      "data/kinetics_700/clips_2/QyPUP8EOE0Y.mp4\n",
      "data/kinetics_700/clips_2/NSMuqCmNkJY.mp4\n",
      "data/kinetics_700/clips_2/dwn8oYlsJYQ.mp4\n",
      "data/kinetics_700/clips_2/QFcVWsfOeMU.mp4\n",
      "data/kinetics_700/clips_2/o7JgZ9ayGtY.mp4\n",
      "data/kinetics_700/clips_2/obF_iULJDvM.mp4\n",
      "data/kinetics_700/clips_2/5AiPQLFxUQ0.mp4\n",
      "data/kinetics_700/clips_2/jbTh5cginhw.mp4\n",
      "data/kinetics_700/clips_2/ArTHHG_98No.mp4\n",
      "data/kinetics_700/clips_2/du_tflvwb8s.mp4\n",
      "data/kinetics_700/clips_2/1b1MbeNO7lg.mp4\n",
      "data/kinetics_700/clips_2/SOWPD8snKYA.mp4\n",
      "data/kinetics_700/clips_2/crzD18En--M.mp4\n",
      "data/kinetics_700/clips_2/dyBXegA1XKg.mp4\n",
      "data/kinetics_700/clips_2/_VhC5u6ndis.mp4\n",
      "data/kinetics_700/clips_2/hj17HHwzRPE.mp4\n",
      "data/kinetics_700/clips_2/vD1JL_3tcVQ.mp4\n",
      "data/kinetics_700/clips_2/Q1K-18XBrQo.mp4\n",
      "data/kinetics_700/clips_2/CvQfLHlE-PA.mp4\n",
      "data/kinetics_700/clips_2/5zYbx4rHUyY.mp4\n",
      "data/kinetics_700/clips_2/AGtOZzNauUo.mp4\n",
      "data/kinetics_700/clips_2/pDLM-5PHliA.mp4\n",
      "data/kinetics_700/clips_2/dLVEqCqWwmc.mp4\n",
      "data/kinetics_700/clips_2/fov5eynCpUc.mp4\n",
      "data/kinetics_700/clips_2/7schioItAuA.mp4\n",
      "data/kinetics_700/clips_2/BN56cms2DFE.mp4\n",
      "data/kinetics_700/clips_2/I8QMtGSQhmA.mp4\n",
      "data/kinetics_700/clips_2/B36_N8AeMjc.mp4\n",
      "data/kinetics_700/clips_2/hgonUvL8Ips.mp4\n",
      "data/kinetics_700/clips_2/fN84Z_s1d7k.mp4\n",
      "data/kinetics_700/clips_2/FyDuUqs30-4.mp4\n",
      "data/kinetics_700/clips_2/Uf3GCS9DIsE.mp4\n",
      "data/kinetics_700/clips_2/-ciVOQS2RHo.mp4\n",
      "data/kinetics_700/clips_2/ElSTJi6khgs.mp4\n",
      "data/kinetics_700/clips_2/sBLqY5Jii_I.mp4\n",
      "data/kinetics_700/clips_2/L8PnQzDgFNM.mp4\n",
      "data/kinetics_700/clips_2/NgfU4cX8oOg.mp4\n",
      "data/kinetics_700/clips_2/iOwVWPkYm_I.mp4\n",
      "data/kinetics_700/clips_2/nEIjKLCTD5w.mp4\n",
      "data/kinetics_700/clips_2/cgEyu3A8gA0.mp4\n",
      "data/kinetics_700/clips_2/R2ZVRz6z9B0.mp4\n",
      "data/kinetics_700/clips_2/NBFY5wr8diQ.mp4\n",
      "data/kinetics_700/clips_2/8qvgPlDrWsk.mp4\n",
      "data/kinetics_700/clips_2/7fU9Xx7n6xE.mp4\n",
      "data/kinetics_700/clips_2/NikFyUs7X58.mp4\n",
      "data/kinetics_700/clips_2/qnux6k6_bx8.mp4\n",
      "data/kinetics_700/clips_2/dtZwDqMYcs0.mp4\n",
      "data/kinetics_700/clips_2/8W_4z6aVbXw.mp4\n",
      "data/kinetics_700/clips_2/u41FO8eRv3E.mp4\n",
      "data/kinetics_700/clips_2/MPZRS08V5C0.mp4\n",
      "data/kinetics_700/clips_2/RCgKqI3w59E.mp4\n",
      "data/kinetics_700/clips_2/H7ZIqt72rao.mp4\n",
      "data/kinetics_700/clips_2/pCreLc0NSLI.mp4\n",
      "data/kinetics_700/clips_2/ErSXWdSP8mQ.mp4\n",
      "data/kinetics_700/clips_2/di8-ugh6q_w.mp4\n",
      "data/kinetics_700/clips_2/4jw4gK7m-rE.mp4\n",
      "data/kinetics_700/clips_2/Q1xJ3jLHirE.mp4\n",
      "data/kinetics_700/clips_2/HKWbc3O6jcQ.mp4\n",
      "data/kinetics_700/clips_2/MCLCpaNSFFc.mp4\n",
      "data/kinetics_700/clips_2/zsY9bKeIW9o.mp4\n",
      "data/kinetics_700/clips_2/ib_hIMo2zMg.mp4\n",
      "data/kinetics_700/clips_2/RokNS4deC0k.mp4\n",
      "data/kinetics_700/clips_2/y7bcuvpmz_s.mp4\n",
      "data/kinetics_700/clips_2/WSxj9cb85BE.mp4\n",
      "data/kinetics_700/clips_2/Cpodq6vQRNk.mp4\n",
      "data/kinetics_700/clips_2/nrLlDRrmM-I.mp4\n",
      "data/kinetics_700/clips_2/zDlggZBzCso.mp4\n",
      "data/kinetics_700/clips_2/gxwV6SQ2A-Q.mp4\n",
      "data/kinetics_700/clips_2/QdeFbG5uMcE.mp4\n",
      "data/kinetics_700/clips_2/K2WoWSGIq40.mp4\n",
      "data/kinetics_700/clips_2/sBsQtfnFQjs.mp4\n",
      "data/kinetics_700/clips_2/YlQhQEs-U9E.mp4\n",
      "data/kinetics_700/clips_2/VVhhKdz8rjk.mp4\n",
      "data/kinetics_700/clips_2/rIeHFf6tfSM.mp4\n",
      "data/kinetics_700/clips_2/65uojzC-txs.mp4\n",
      "data/kinetics_700/clips_2/pc4UwXXhsQM.mp4\n",
      "data/kinetics_700/clips_2/QnDdUEcqk30.mp4\n",
      "data/kinetics_700/clips_2/6ak1IED7SO4.mp4\n",
      "data/kinetics_700/clips_2/8YscXcbgf54.mp4\n",
      "data/kinetics_700/clips_2/3Cyw3IRoG8U.mp4\n",
      "data/kinetics_700/clips_2/x1ZQMmhsDu8.mp4\n",
      "data/kinetics_700/clips_2/SIm_TNWBrHg.mp4\n",
      "data/kinetics_700/clips_2/S72cQQmwtS8.mp4\n",
      "data/kinetics_700/clips_2/V6yFLsMd8jY.mp4\n",
      "data/kinetics_700/clips_2/Io1n_qjN66A.mp4\n",
      "data/kinetics_700/clips_2/HEM2wPwCNjg.mp4\n",
      "data/kinetics_700/clips_2/ekIYJlEFCk0.mp4\n",
      "data/kinetics_700/clips_2/FUCQwcSt2EY.mp4\n",
      "data/kinetics_700/clips_2/hMoO-1XY7oI.mp4\n",
      "data/kinetics_700/clips_2/Nowo1pRH2fY.mp4\n",
      "data/kinetics_700/clips_2/DCCkgQl2JAQ.mp4\n",
      "data/kinetics_700/clips_2/0926nXPz1gY.mp4\n",
      "data/kinetics_700/clips_2/9LPQS0C-v5s.mp4\n",
      "data/kinetics_700/clips_2/rzN845HcWow.mp4\n",
      "data/kinetics_700/clips_2/knsjBFq7Jus.mp4\n",
      "data/kinetics_700/clips_2/b1PeQ5Y-gm0.mp4\n",
      "data/kinetics_700/clips_2/CX95p8YLJL4.mp4\n",
      "data/kinetics_700/clips_2/vyvVarzWNCY.mp4\n",
      "data/kinetics_700/clips_2/QMY0NvEHtA4.mp4\n",
      "data/kinetics_700/clips_2/RpWhduKx-P4.mp4\n",
      "data/kinetics_700/clips_2/ZeQ2zwkrffM.mp4\n",
      "data/kinetics_700/clips_2/2MgdIxEXPjw.mp4\n",
      "data/kinetics_700/clips_2/JkXo2jz8PSo.mp4\n",
      "data/kinetics_700/clips_2/hEesF3-72K8.mp4\n",
      "data/kinetics_700/clips_2/74q5b0KKi8w.mp4\n",
      "data/kinetics_700/clips_2/OEodiMsTGxE.mp4\n",
      "data/kinetics_700/clips_2/JJ-wRGLqHbA.mp4\n",
      "data/kinetics_700/clips_2/VGbjuZX69A4.mp4\n",
      "data/kinetics_700/clips_2/yHnY9GCjt5E.mp4\n",
      "data/kinetics_700/clips_2/w7iRS6FV7FE.mp4\n",
      "data/kinetics_700/clips_2/IT1hD5WISps.mp4\n",
      "data/kinetics_700/clips_2/mY_-zsJODZw.mp4\n",
      "data/kinetics_700/clips_2/8veYu3tHyBw.mp4\n",
      "data/kinetics_700/clips_2/xWlbfS-hYuM.mp4\n",
      "data/kinetics_700/clips_2/_54lH029gxs.mp4\n",
      "data/kinetics_700/clips_2/bJ_unb4ia0I.mp4\n",
      "data/kinetics_700/clips_2/J85Msdi9Kgk.mp4\n",
      "data/kinetics_700/clips_2/sAHpca09P0I.mp4\n",
      "data/kinetics_700/clips_2/6GwnNBzDoao.mp4\n",
      "data/kinetics_700/clips_2/pIFGfwQKeEE.mp4\n",
      "data/kinetics_700/clips_2/YQJfrb2k00k.mp4\n",
      "data/kinetics_700/clips_2/o8BiF4x2q-Q.mp4\n",
      "data/kinetics_700/clips_2/HFgIXxJyGmg.mp4\n",
      "data/kinetics_700/clips_2/WFBA0RxdDqw.mp4\n",
      "data/kinetics_700/clips_2/ZKFhlncm_ec.mp4\n",
      "data/kinetics_700/clips_2/X-P_jbIVe6s.mp4\n",
      "data/kinetics_700/clips_2/BIVXHbCZBfg.mp4\n",
      "data/kinetics_700/clips_2/-3uzSAz60BQ.mp4\n",
      "data/kinetics_700/clips_2/fXKQENVpr8c.mp4\n",
      "data/kinetics_700/clips_2/fPhwWijgOtI.mp4\n",
      "data/kinetics_700/clips_2/JKkSjQumtmA.mp4\n",
      "data/kinetics_700/clips_2/TftKt5yM8bo.mp4\n",
      "data/kinetics_700/clips_2/bGHtr46U8Pc.mp4\n",
      "data/kinetics_700/clips_2/cQEe6_mOX58.mp4\n",
      "data/kinetics_700/clips_2/quRWiEOG2GI.mp4\n",
      "data/kinetics_700/clips_2/JGmpseRwv-M.mp4\n",
      "data/kinetics_700/clips_2/-59dBjAyYyE.mp4\n",
      "data/kinetics_700/clips_2/cnnKEsVnuAQ.mp4\n",
      "data/kinetics_700/clips_2/IhUmcBKO7dk.mp4\n",
      "data/kinetics_700/clips_2/8Ttq5OkdJSE.mp4\n",
      "data/kinetics_700/clips_2/J6ULTb4xs3A.mp4\n",
      "data/kinetics_700/clips_2/ckf60jeO0PA.mp4\n",
      "data/kinetics_700/clips_2/TqktQaI7qic.mp4\n",
      "data/kinetics_700/clips_2/jqjKnpZVmIc.mp4\n",
      "data/kinetics_700/clips_2/zatSd6dtIIY.mp4\n",
      "data/kinetics_700/clips_2/YNec3X72lws.mp4\n",
      "data/kinetics_700/clips_2/7Uq3nZTBhck.mp4\n",
      "data/kinetics_700/clips_2/fGXz6AZUHds.mp4\n",
      "data/kinetics_700/clips_2/l99GkYltCJk.mp4\n",
      "data/kinetics_700/clips_2/lvAD-BsLZ5o.mp4\n",
      "data/kinetics_700/clips_2/iPgTUdZQtZ0.mp4\n",
      "data/kinetics_700/clips_2/jz3ySwxMVmc.mp4\n",
      "data/kinetics_700/clips_2/x2QXBznKziQ.mp4\n",
      "data/kinetics_700/clips_2/_vPPRW5NLyo.mp4\n",
      "data/kinetics_700/clips_2/1Wz0zEDoF1A.mp4\n",
      "data/kinetics_700/clips_2/erS8ar6m3cA.mp4\n",
      "data/kinetics_700/clips_2/mWQSxjherZY.mp4\n",
      "data/kinetics_700/clips_2/LNJOwyattUE.mp4\n",
      "data/kinetics_700/clips_2/DXviXEPU2tI.mp4\n",
      "data/kinetics_700/clips_2/A-ICD7F4zX4.mp4\n",
      "data/kinetics_700/clips_2/UxT3V29X-is.mp4\n",
      "data/kinetics_700/clips_2/f6pgC5YEwIc.mp4\n",
      "data/kinetics_700/clips_2/E83LPdtdN9c.mp4\n",
      "data/kinetics_700/clips_2/IVfNGI5_IWg.mp4\n",
      "data/kinetics_700/clips_2/u2xCi_6apgg.mp4\n",
      "data/kinetics_700/clips_2/7d5ot3mLA84.mp4\n",
      "data/kinetics_700/clips_2/4Yc2JsDxGgc.mp4\n",
      "data/kinetics_700/clips_2/780I7yhcMo4.mp4\n",
      "data/kinetics_700/clips_2/-i8qXrhHOkY.mp4\n",
      "data/kinetics_700/clips_2/3qfLZ-2_JoU.mp4\n",
      "data/kinetics_700/clips_2/2puFq2392xU.mp4\n",
      "data/kinetics_700/clips_2/IczEHV4i_9w.mp4\n",
      "data/kinetics_700/clips_2/gEG4crRFyl4.mp4\n",
      "data/kinetics_700/clips_2/ChaVEFrnmx0.mp4\n",
      "data/kinetics_700/clips_2/jAAjqMLJ214.mp4\n",
      "data/kinetics_700/clips_2/M58MHF9GpKI.mp4\n",
      "data/kinetics_700/clips_2/LOECNbkKA4A.mp4\n",
      "data/kinetics_700/clips_2/eUc2FR-cFwE.mp4\n",
      "data/kinetics_700/clips_2/xUvD1pm_TUM.mp4\n",
      "data/kinetics_700/clips_2/ZnDe4aADhbM.mp4\n",
      "data/kinetics_700/clips_2/qSUo6zX0pWU.mp4\n",
      "data/kinetics_700/clips_2/fKwoLf-NxZE.mp4\n",
      "data/kinetics_700/clips_2/hKT7p1LOJeQ.mp4\n",
      "data/kinetics_700/clips_2/ThZssGhhi84.mp4\n",
      "data/kinetics_700/clips_2/5X4Br_ktjRY.mp4\n",
      "data/kinetics_700/clips_2/8QILuOwPyp0.mp4\n",
      "data/kinetics_700/clips_2/5iheJnimcWw.mp4\n",
      "data/kinetics_700/clips_2/4f43QcdSMuU.mp4\n",
      "data/kinetics_700/clips_2/3VPG0vl_838.mp4\n",
      "data/kinetics_700/clips_2/jhZhKXgWSTM.mp4\n",
      "data/kinetics_700/clips_2/-NYvR9wYuNk.mp4\n",
      "data/kinetics_700/clips_2/7p2BdBJKWkM.mp4\n",
      "data/kinetics_700/clips_2/WATxfSLWoZI.mp4\n",
      "data/kinetics_700/clips_2/HaK5gDH9GwQ.mp4\n",
      "data/kinetics_700/clips_2/DVl7vEAhzOY.mp4\n",
      "data/kinetics_700/clips_2/feF7Whk80vA.mp4\n",
      "data/kinetics_700/clips_2/GSVHV8nG7SE.mp4\n",
      "data/kinetics_700/clips_2/3_WJ3m1DG4w.mp4\n",
      "data/kinetics_700/clips_2/-lalLEEvhV8.mp4\n",
      "data/kinetics_700/clips_2/QNRjD4sWrSI.mp4\n",
      "data/kinetics_700/clips_2/K3svSLdxVQY.mp4\n",
      "data/kinetics_700/clips_2/AX5T5BpqYDI.mp4\n",
      "data/kinetics_700/clips_2/L44hfrzPGlA.mp4\n",
      "data/kinetics_700/clips_2/N3MJpJxj1KU.mp4\n",
      "data/kinetics_700/clips_2/1CDdTJ3dRYM.mp4\n",
      "data/kinetics_700/clips_2/mYFBzBztORA.mp4\n",
      "data/kinetics_700/clips_2/4sAa3NEHgyY.mp4\n",
      "data/kinetics_700/clips_2/WlRwBkAiw40.mp4\n",
      "data/kinetics_700/clips_2/J6uuTY3YXi8.mp4\n",
      "data/kinetics_700/clips_2/3zblWOox6nk.mp4\n",
      "data/kinetics_700/clips_2/AgrTovrsxLo.mp4\n",
      "data/kinetics_700/clips_2/uEx9foDMRIc.mp4\n",
      "data/kinetics_700/clips_2/OKkw7Zo-tug.mp4\n",
      "data/kinetics_700/clips_2/IKp8kacBeVg.mp4\n",
      "data/kinetics_700/clips_2/1gmDVbxrkWU.mp4\n",
      "data/kinetics_700/clips_2/s5dBFR2A4Y4.mp4\n",
      "data/kinetics_700/clips_2/Gj5pk-V6c7M.mp4\n",
      "data/kinetics_700/clips_2/VEITXY7Hl8s.mp4\n",
      "data/kinetics_700/clips_2/pCAtLMKe4nE.mp4\n",
      "data/kinetics_700/clips_2/2dUO5_eacgc.mp4\n",
      "data/kinetics_700/clips_2/FUdRa6v7Xqc.mp4\n",
      "data/kinetics_700/clips_2/UTBweFBTOkM.mp4\n",
      "data/kinetics_700/clips_2/s3z5g7cxFAk.mp4\n",
      "data/kinetics_700/clips_2/vBUJ6e6cE6Y.mp4\n",
      "data/kinetics_700/clips_2/jGZv2BgBQu0.mp4\n",
      "data/kinetics_700/clips_2/CBZrH_U8rm0.mp4\n",
      "data/kinetics_700/clips_2/LEAFqS6njWE.mp4\n",
      "data/kinetics_700/clips_2/xEGYW6KYBMU.mp4\n",
      "data/kinetics_700/clips_2/1KKdgM7-cP0.mp4\n",
      "data/kinetics_700/clips_2/Wp5AxNB1svE.mp4\n",
      "data/kinetics_700/clips_2/XM7_sHN5sfQ.mp4\n",
      "data/kinetics_700/clips_2/fL1SHja1mC4.mp4\n",
      "data/kinetics_700/clips_2/QDMX3WoV3vI.mp4\n",
      "data/kinetics_700/clips_2/jMfed6tkfZE.mp4\n",
      "data/kinetics_700/clips_2/p4PEBG5BsI8.mp4\n",
      "data/kinetics_700/clips_2/CeZfQr0q_w4.mp4\n",
      "data/kinetics_700/clips_2/m-6JMfKxmy8.mp4\n",
      "data/kinetics_700/clips_2/Q4U9xVrG6Vg.mp4\n",
      "data/kinetics_700/clips_2/XwhyWYla0tI.mp4\n",
      "data/kinetics_700/clips_2/oXW1WtlaXQQ.mp4\n",
      "data/kinetics_700/clips_2/frq9eNYqKp4.mp4\n",
      "data/kinetics_700/clips_2/6QUwsu0BXMw.mp4\n",
      "data/kinetics_700/clips_2/I920Jgx1-DQ.mp4\n",
      "data/kinetics_700/clips_2/MDKZNdc6hqk.mp4\n",
      "data/kinetics_700/clips_2/D4qZ6b3ovuc.mp4\n",
      "data/kinetics_700/clips_2/XTzu0zcnyLQ.mp4\n",
      "data/kinetics_700/clips_2/BOEfDBC8AMQ.mp4\n",
      "data/kinetics_700/clips_2/SsbWz4zoMJQ.mp4\n",
      "data/kinetics_700/clips_2/r2kKpVYTxKg.mp4\n",
      "data/kinetics_700/clips_2/2KeONYo3h6g.mp4\n",
      "data/kinetics_700/clips_2/cO2CHBw0WVc.mp4\n",
      "data/kinetics_700/clips_2/obrgB2x9U-Y.mp4\n",
      "data/kinetics_700/clips_2/lCUjwuV8cXI.mp4\n",
      "data/kinetics_700/clips_2/UuTs3g4L534.mp4\n",
      "data/kinetics_700/clips_2/xaHG8E7gvOU.mp4\n",
      "data/kinetics_700/clips_2/Y0-rguWi3SU.mp4\n",
      "data/kinetics_700/clips_2/W8R-UPfEYRI.mp4\n",
      "data/kinetics_700/clips_2/yPsCiU2yDMc.mp4\n",
      "data/kinetics_700/clips_2/PYmaGWEWexw.mp4\n",
      "data/kinetics_700/clips_2/cJC3CGX5zus.mp4\n",
      "data/kinetics_700/clips_2/gD7OsnKGgKU.mp4\n",
      "data/kinetics_700/clips_2/zcVaHtKvSwo.mp4\n",
      "data/kinetics_700/clips_2/1BkRWkHCMjQ.mp4\n",
      "data/kinetics_700/clips_2/gG72pS0Rr_k.mp4\n",
      "data/kinetics_700/clips_2/1NjhcQ1ehl4.mp4\n",
      "data/kinetics_700/clips_2/1RxHuRsDYJ4.mp4\n",
      "data/kinetics_700/clips_2/P4WSt5g9mxg.mp4\n",
      "data/kinetics_700/clips_2/cG6pS7WP-sk.mp4\n",
      "data/kinetics_700/clips_2/hpuZ6gPQND0.mp4\n",
      "data/kinetics_700/clips_2/s3sbNFsVHGQ.mp4\n",
      "data/kinetics_700/clips_2/LlGEzEg_FOQ.mp4\n",
      "data/kinetics_700/clips_2/T5hZI6yDPFk.mp4\n",
      "data/kinetics_700/clips_2/3TMa_GTZ3no.mp4\n",
      "data/kinetics_700/clips_2/W3ROrEJpLyA.mp4\n",
      "data/kinetics_700/clips_2/dtOyun8eJso.mp4\n",
      "data/kinetics_700/clips_2/uiY_4AYrPLY.mp4\n",
      "data/kinetics_700/clips_2/rHJa09KcDN0.mp4\n",
      "data/kinetics_700/clips_2/ak8Q6hpnWW4.mp4\n",
      "data/kinetics_700/clips_2/ba1TVXTyZpg.mp4\n",
      "data/kinetics_700/clips_2/fz74PTYKWBU.mp4\n",
      "data/kinetics_700/clips_2/-XyE05XlEqo.mp4\n",
      "data/kinetics_700/clips_2/uX1vDU3CsnM.mp4\n",
      "data/kinetics_700/clips_2/SAWUKiHQjrE.mp4\n",
      "data/kinetics_700/clips_2/vT5koVSnop4.mp4\n",
      "data/kinetics_700/clips_2/7yBzc_Y5dUI.mp4\n",
      "data/kinetics_700/clips_2/TA7Sy-PSTeU.mp4\n",
      "data/kinetics_700/clips_2/IRVdoeDoUaU.mp4\n",
      "data/kinetics_700/clips_2/Bj9bjhu_4I8.mp4\n",
      "data/kinetics_700/clips_2/cBgqOPex1wI.mp4\n",
      "data/kinetics_700/clips_2/6GHXZks_Iig.mp4\n",
      "data/kinetics_700/clips_2/S1Ce0nMApWY.mp4\n",
      "data/kinetics_700/clips_2/uy4cyUBQd88.mp4\n",
      "data/kinetics_700/clips_2/MZ70hlIaC1Q.mp4\n",
      "data/kinetics_700/clips_2/_SyU7s7WUbE.mp4\n",
      "data/kinetics_700/clips_2/25HoFzbA_8U.mp4\n",
      "data/kinetics_700/clips_2/8HHao9TM3dA.mp4\n",
      "data/kinetics_700/clips_2/_usld3qWfTQ.mp4\n",
      "data/kinetics_700/clips_2/kvm_zlJnvmQ.mp4\n",
      "data/kinetics_700/clips_2/zkMa6fNKrLk.mp4\n",
      "data/kinetics_700/clips_2/9BHjKQyFKoo.mp4\n",
      "data/kinetics_700/clips_2/5NKgOUvI1rI.mp4\n",
      "data/kinetics_700/clips_2/F65aAbC-PcQ.mp4\n",
      "data/kinetics_700/clips_2/jeQrvMYFjlY.mp4\n",
      "data/kinetics_700/clips_2/yM1m2a59oyc.mp4\n",
      "data/kinetics_700/clips_2/9y2adEG9-BM.mp4\n",
      "data/kinetics_700/clips_2/3_-uFSyTu2E.mp4\n",
      "data/kinetics_700/clips_2/vCifsULstmQ.mp4\n",
      "data/kinetics_700/clips_2/ZPiZ4OCXXr4.mp4\n",
      "data/kinetics_700/clips_2/5zNpOlB53hc.mp4\n",
      "data/kinetics_700/clips_2/6gv5V7qtR60.mp4\n",
      "data/kinetics_700/clips_2/_i3ZDX4v-5k.mp4\n",
      "data/kinetics_700/clips_2/ySvP6CsE4L4.mp4\n",
      "data/kinetics_700/clips_2/xPk8k0xFIF4.mp4\n",
      "data/kinetics_700/clips_2/a1g973WbUc4.mp4\n",
      "data/kinetics_700/clips_2/TXrAvffsw4E.mp4\n",
      "data/kinetics_700/clips_2/sXy7JRlV8T8.mp4\n",
      "data/kinetics_700/clips_2/Cqmj-c6bl6A.mp4\n",
      "data/kinetics_700/clips_2/XeWvRscoNhw.mp4\n",
      "data/kinetics_700/clips_2/bXgcFYIZnD8.mp4\n",
      "data/kinetics_700/clips_2/19mfKnwywu8.mp4\n",
      "data/kinetics_700/clips_2/H3JrIFt-Z7U.mp4\n",
      "data/kinetics_700/clips_2/7t9SFobTgUc.mp4\n",
      "data/kinetics_700/clips_2/Sw33eGUKQ2k.mp4\n",
      "data/kinetics_700/clips_2/o0Hg2a3zJs4.mp4\n",
      "data/kinetics_700/clips_2/MrJMf-dV-dY.mp4\n",
      "data/kinetics_700/clips_2/3anhRKfeN9g.mp4\n",
      "data/kinetics_700/clips_2/d9h0v4I37Fg.mp4\n",
      "data/kinetics_700/clips_2/Pgl0MeU6Xqs.mp4\n",
      "data/kinetics_700/clips_2/KkatF_rUdMQ.mp4\n",
      "data/kinetics_700/clips_2/fZj-9Cium7Y.mp4\n",
      "data/kinetics_700/clips_2/FY4MgGpsXYg.mp4\n",
      "data/kinetics_700/clips_2/VihiSB8_fdw.mp4\n",
      "data/kinetics_700/clips_2/ZTACAngMXWY.mp4\n",
      "data/kinetics_700/clips_2/9BGaIdfULSY.mp4\n",
      "data/kinetics_700/clips_2/9y2Hyc-NNwI.mp4\n",
      "data/kinetics_700/clips_2/hJ2SPDIZH3U.mp4\n",
      "data/kinetics_700/clips_2/0oMQFAurqK4.mp4\n",
      "data/kinetics_700/clips_2/uERX4zE4-4U.mp4\n",
      "data/kinetics_700/clips_2/C9gOhhsZGfM.mp4\n",
      "data/kinetics_700/clips_2/BN-dhgHRkKw.mp4\n",
      "data/kinetics_700/clips_2/2nw_8_VOVAU.mp4\n",
      "data/kinetics_700/clips_2/BvZCUVFAVy4.mp4\n",
      "data/kinetics_700/clips_2/IJoQI1vVVp4.mp4\n",
      "data/kinetics_700/clips_2/e5XFzWhz8Nk.mp4\n",
      "data/kinetics_700/clips_2/-m4lDw7atUE.mp4\n",
      "data/kinetics_700/clips_2/A3waLm5ig50.mp4\n",
      "data/kinetics_700/clips_2/lFN-7WrfZks.mp4\n",
      "data/kinetics_700/clips_2/k8LAphfa6j4.mp4\n",
      "data/kinetics_700/clips_2/a19abgLQxdU.mp4\n",
      "data/kinetics_700/clips_2/0-v_fA3WPXI.mp4\n",
      "data/kinetics_700/clips_2/mGHzUUESHyY.mp4\n",
      "data/kinetics_700/clips_2/hg0OttahZAI.mp4\n",
      "data/kinetics_700/clips_2/E9czDLqMfn8.mp4\n",
      "data/kinetics_700/clips_2/RDk268e_H6g.mp4\n",
      "data/kinetics_700/clips_2/PDOpSD9ZdYE.mp4\n",
      "data/kinetics_700/clips_2/m1aNSsGM4bQ.mp4\n",
      "data/kinetics_700/clips_2/N0y9U0J8jns.mp4\n",
      "data/kinetics_700/clips_2/Ftcy3zLLAyU.mp4\n",
      "data/kinetics_700/clips_2/VoAbMmdhryQ.mp4\n",
      "data/kinetics_700/clips_2/QF99vKY3om8.mp4\n",
      "data/kinetics_700/clips_2/2YnmRDZ_OK4.mp4\n",
      "data/kinetics_700/clips_2/g9yiiJSTo1g.mp4\n",
      "data/kinetics_700/clips_2/0so1jmNGlC4.mp4\n",
      "data/kinetics_700/clips_2/SErHwqPT4So.mp4\n",
      "data/kinetics_700/clips_2/JszusEtKGlw.mp4\n",
      "data/kinetics_700/clips_2/l4c46qo9QHM.mp4\n",
      "data/kinetics_700/clips_2/ghwWs2mBIXk.mp4\n",
      "data/kinetics_700/clips_2/FaBqPBllixk.mp4\n",
      "data/kinetics_700/clips_2/TdSg3pJm16I.mp4\n",
      "data/kinetics_700/clips_2/v4mDrDwzY84.mp4\n",
      "data/kinetics_700/clips_2/7khYEFsH4Pw.mp4\n",
      "data/kinetics_700/clips_2/IFCOo7JLLJo.mp4\n",
      "data/kinetics_700/clips_2/hI7bRsvEB28.mp4\n",
      "data/kinetics_700/clips_2/dCD2pw8llH0.mp4\n",
      "data/kinetics_700/clips_2/dHxaqXFQ2q4.mp4\n",
      "data/kinetics_700/clips_2/TGUk7M5plmA.mp4\n",
      "data/kinetics_700/clips_2/iPmhT2Bkc68.mp4\n",
      "data/kinetics_700/clips_2/K-bwtFnoFyk.mp4\n",
      "data/kinetics_700/clips_2/l-3B4T5yENw.mp4\n",
      "data/kinetics_700/clips_2/0fCZ4MW3jYU.mp4\n",
      "data/kinetics_700/clips_2/lnfY8F-ygyk.mp4\n",
      "data/kinetics_700/clips_2/L1RPQcWU-1Y.mp4\n",
      "data/kinetics_700/clips_2/dwrxsO5Jk4w.mp4\n",
      "data/kinetics_700/clips_2/abkIA8g_tyI.mp4\n",
      "data/kinetics_700/clips_2/48huDLh1H0I.mp4\n",
      "data/kinetics_700/clips_2/dsPI3gukJLU.mp4\n",
      "data/kinetics_700/clips_2/ILWv8hGOvyg.mp4\n",
      "data/kinetics_700/clips_2/-m2WZLslIqw.mp4\n",
      "data/kinetics_700/clips_2/6uZuqyfL8Ps.mp4\n",
      "data/kinetics_700/clips_2/fgi6OZW1uto.mp4\n",
      "data/kinetics_700/clips_2/1pNdXcMQX_8.mp4\n",
      "data/kinetics_700/clips_2/JdygbpqRYbE.mp4\n",
      "data/kinetics_700/clips_2/I-la9-81yyE.mp4\n",
      "data/kinetics_700/clips_2/TTg2eg_lJ-o.mp4\n",
      "data/kinetics_700/clips_2/kk4xK1IHZZQ.mp4\n",
      "After: 2208\n"
     ]
    }
   ],
   "source": [
    "print(\"Before:\", df.shape[0])\n",
    "for i, row in df.iterrows():\n",
    "    if not os.path.exists(row['video_path']):\n",
    "        print(row['video_path'])\n",
    "        df.drop(i, inplace=True)\n",
    "df.reset_index(drop=True, inplace=True)\n",
    "print(\"After:\", df.shape[0])"
   ],
   "metadata": {
    "collapsed": false,
    "ExecuteTime": {
     "end_time": "2024-05-03T15:13:02.544179200Z",
     "start_time": "2024-05-03T15:13:01.807717300Z"
    }
   }
  },
  {
   "cell_type": "code",
   "execution_count": 9,
   "outputs": [],
   "source": [
    "X_train, X_val, _, _ = train_test_split(df, df['label'])\n",
    "X_train.reset_index(drop=True, inplace=True)\n",
    "X_val.reset_index(drop=True, inplace=True)"
   ],
   "metadata": {
    "collapsed": false,
    "ExecuteTime": {
     "end_time": "2024-05-03T15:13:03.828714900Z",
     "start_time": "2024-05-03T15:13:03.804289700Z"
    }
   }
  },
  {
   "cell_type": "code",
   "execution_count": 10,
   "outputs": [],
   "source": [
    "labels = X_train[\"label\"].unique()\n",
    "labels2id = {label: i for i, label in enumerate(labels)}"
   ],
   "metadata": {
    "collapsed": false,
    "ExecuteTime": {
     "end_time": "2024-05-03T15:13:04.545929900Z",
     "start_time": "2024-05-03T15:13:04.530164100Z"
    }
   }
  },
  {
   "cell_type": "code",
   "execution_count": 11,
   "outputs": [],
   "source": [
    "transform = transforms.Compose([\n",
    "    transforms.RandomResizedCrop(224),\n",
    "    transforms.RandomHorizontalFlip(),\n",
    "    transforms.ToTensor(),\n",
    "    transforms.Normalize([0.485, 0.456, 0.406], [0.229, 0.224, 0.225])\n",
    "])\n",
    "\n",
    "to_tensor = ToTensor()"
   ],
   "metadata": {
    "collapsed": false,
    "ExecuteTime": {
     "end_time": "2024-05-03T15:13:04.917820100Z",
     "start_time": "2024-05-03T15:13:04.904723300Z"
    }
   }
  },
  {
   "cell_type": "code",
   "execution_count": 12,
   "outputs": [],
   "source": [
    "class ActionDataset(Dataset):\n",
    "\n",
    "    def __init__(self, meta, transform=None):\n",
    "        self.meta = meta\n",
    "        self.transform = transform\n",
    "\n",
    "    def __len__(self):\n",
    "        return len(self.meta)\n",
    "\n",
    "    def __getitem__(self, idx):\n",
    "        if torch.is_tensor(idx):\n",
    "            idx = idx.tolist()\n",
    "\n",
    "        while True:\n",
    "            try:\n",
    "                file_path = self.meta['video_path'].iloc[idx]\n",
    "                container = av.open(file_path)\n",
    "\n",
    "                indices = sample_frame_indices(clip_len=8, frame_sample_rate=5,\n",
    "                                               seg_len=container.streams.video[0].frames)\n",
    "                video = read_video_pyav(container, indices)\n",
    "                # while video.shape[0] < 8:\n",
    "                #     video = np.vstack([video, video[-1:]])\n",
    "\n",
    "            except Exception as e:\n",
    "                print(\"loop Error: \", e)\n",
    "                continue\n",
    "            break\n",
    "\n",
    "        if self.transform:\n",
    "            transformed = apply_video_augmentations(video, self.transform)\n",
    "            video = transformed\n",
    "\n",
    "        return video, self.meta['label'].iloc[idx]\n",
    "\n",
    "    def validate_videos(self):\n",
    "        for i, row in self.meta.iterrows():\n",
    "            if not os.path.exists(row['video_path']):\n",
    "                print(row['video_path'])\n",
    "                self.meta.drop(i, inplace=True)\n",
    "                continue\n",
    "\n",
    "            self.__getitem__(i)\n",
    "        self.meta.reset_index(drop=True, inplace=True)\n",
    "        return self.meta"
   ],
   "metadata": {
    "collapsed": false,
    "ExecuteTime": {
     "end_time": "2024-05-03T15:13:06.334472100Z",
     "start_time": "2024-05-03T15:13:06.316547600Z"
    }
   }
  },
  {
   "cell_type": "code",
   "execution_count": 50,
   "outputs": [],
   "source": [
    "class VideoDataset(Dataset):\n",
    "    def __init__(self, meta, max_length=128, transform=None):\n",
    "        self.meta = meta\n",
    "        self.max_length = max_length\n",
    "        self.transform = transform\n",
    "\n",
    "    def __len__(self):\n",
    "        return len(self.meta)\n",
    "\n",
    "    def __getitem__(self, idx):\n",
    "        row = self.meta.iloc[idx]\n",
    "        video = self.load_video(row['video_path'])\n",
    "        # video = apply_video_augmentations(video, self.transform)\n",
    "        for i in range(len(video)):\n",
    "            video[i] = self.transform(video[i])\n",
    "        video = torch.stack(video)\n",
    "        labels_tensor = labels2id[self.meta['label'].iloc[idx]]\n",
    "        labels_tensor = torch.tensor([labels_tensor]* len(video))\n",
    "        return video, labels_tensor\n",
    "\n",
    "    def load_video(self, path):\n",
    "        container = av.open(path)\n",
    "        indices = sample_frame_indices(clip_len=8, frame_sample_rate=5,\n",
    "                                       seg_len=container.streams.video[0].frames)\n",
    "        video = read_video_pyav(container, indices)\n",
    "        frames = []\n",
    "        for frame in video:\n",
    "            frame = frame.to_image()\n",
    "            # frame = cv2.resize(frame.to_ndarray(format=\"rgb24\"), (224, 224))\n",
    "            frames.append(frame)\n",
    "        return frames"
   ],
   "metadata": {
    "collapsed": false,
    "ExecuteTime": {
     "end_time": "2024-05-03T15:21:24.847785100Z",
     "start_time": "2024-05-03T15:21:24.819540600Z"
    }
   }
  },
  {
   "cell_type": "markdown",
   "source": [
    "# Training"
   ],
   "metadata": {
    "collapsed": false
   }
  },
  {
   "cell_type": "code",
   "execution_count": 51,
   "outputs": [],
   "source": [
    "# clear gpu memory\n",
    "import gc\n",
    "\n",
    "os.environ['CUDA_LAUNCH_BLOCKING'] = '1'\n",
    "\n",
    "gc.collect()\n",
    "torch.cuda.empty_cache()"
   ],
   "metadata": {
    "collapsed": false,
    "ExecuteTime": {
     "end_time": "2024-05-03T15:21:26.142478300Z",
     "start_time": "2024-05-03T15:21:26.117406600Z"
    }
   }
  },
  {
   "cell_type": "code",
   "execution_count": 52,
   "outputs": [],
   "source": [
    "train_dataset = VideoDataset(meta=X_train, transform=transform)\n",
    "train_dataloader = DataLoader(train_dataset, batch_size=32, shuffle=False)"
   ],
   "metadata": {
    "collapsed": false,
    "ExecuteTime": {
     "end_time": "2024-05-03T15:21:26.165438400Z",
     "start_time": "2024-05-03T15:21:26.144479400Z"
    }
   }
  },
  {
   "cell_type": "code",
   "execution_count": 53,
   "outputs": [],
   "source": [
    "test_dataset = VideoDataset(meta=X_val, transform=transform)\n",
    "test_dataloader = DataLoader(test_dataset, batch_size=32, shuffle=False)"
   ],
   "metadata": {
    "collapsed": false,
    "ExecuteTime": {
     "end_time": "2024-05-03T15:21:26.493619200Z",
     "start_time": "2024-05-03T15:21:26.469558600Z"
    }
   }
  },
  {
   "cell_type": "code",
   "execution_count": 58,
   "outputs": [
    {
     "data": {
      "text/plain": "torch.Size([8, 3, 224, 224])"
     },
     "execution_count": 58,
     "metadata": {},
     "output_type": "execute_result"
    }
   ],
   "source": [
    "t = train_dataset[0][0].unsqueeze(0)\n",
    "t.flatten(0, 1).shape"
   ],
   "metadata": {
    "collapsed": false,
    "ExecuteTime": {
     "end_time": "2024-05-03T15:22:55.481258700Z",
     "start_time": "2024-05-03T15:22:55.369433900Z"
    }
   }
  },
  {
   "cell_type": "code",
   "execution_count": 140,
   "outputs": [
    {
     "data": {
      "text/plain": "torch.Size([224, 3, 224])"
     },
     "execution_count": 140,
     "metadata": {},
     "output_type": "execute_result"
    }
   ],
   "source": [
    "one_image = train_dataset[0][0]\n",
    "one_image.shape"
   ],
   "metadata": {
    "collapsed": false,
    "ExecuteTime": {
     "end_time": "2024-05-03T11:21:05.137187600Z",
     "start_time": "2024-05-03T11:21:05.046339500Z"
    }
   }
  },
  {
   "cell_type": "code",
   "execution_count": 59,
   "outputs": [],
   "source": [
    "epochs = 10\n",
    "lr = 1e-2\n",
    "\n",
    "optimizer = optim.AdamW(model.parameters(), lr)  # 289\n",
    "loss_fun = nn.CrossEntropyLoss()"
   ],
   "metadata": {
    "collapsed": false,
    "ExecuteTime": {
     "end_time": "2024-05-03T15:23:56.000421800Z",
     "start_time": "2024-05-03T15:23:55.987349200Z"
    }
   }
  },
  {
   "cell_type": "code",
   "execution_count": null,
   "outputs": [
    {
     "data": {
      "text/plain": "Epoch: 0:   0%|          | 0/52 [00:00<?, ?it/s]",
      "application/vnd.jupyter.widget-view+json": {
       "version_major": 2,
       "version_minor": 0,
       "model_id": "6892fa50b06a4098b8f9de94ebdca832"
      }
     },
     "metadata": {},
     "output_type": "display_data"
    },
    {
     "name": "stderr",
     "output_type": "stream",
     "text": [
      "mmco: unref short failure\n"
     ]
    },
    {
     "name": "stdout",
     "output_type": "stream",
     "text": [
      "Training loss: 2.7108530585582438\n"
     ]
    },
    {
     "data": {
      "text/plain": "Epoch: 1:   0%|          | 0/52 [00:00<?, ?it/s]",
      "application/vnd.jupyter.widget-view+json": {
       "version_major": 2,
       "version_minor": 0,
       "model_id": "9b76302b50a047f1b50e4a4a78323f34"
      }
     },
     "metadata": {},
     "output_type": "display_data"
    },
    {
     "name": "stdout",
     "output_type": "stream",
     "text": [
      "Training loss: 2.7088555968724766\n"
     ]
    },
    {
     "data": {
      "text/plain": "Epoch: 2:   0%|          | 0/52 [00:00<?, ?it/s]",
      "application/vnd.jupyter.widget-view+json": {
       "version_major": 2,
       "version_minor": 0,
       "model_id": "4dea8bdcc27843b3b124da3ec3ce168d"
      }
     },
     "metadata": {},
     "output_type": "display_data"
    }
   ],
   "source": [
    "for epoch in range(epochs):\n",
    "\n",
    "    model.train()\n",
    "\n",
    "    train_loss = []\n",
    "    for i, batch in enumerate(tqdm(train_dataloader, desc=f\"Epoch: {epoch}\")):\n",
    "        grouped_inputs, grouped_labels = batch\n",
    "        inputs = grouped_inputs.flatten(0, 1)\n",
    "        Y = grouped_labels.flatten()\n",
    "\n",
    "        inputs = inputs.to(device, dtype=torch.float32)\n",
    "        Y = Y.to(device, dtype=torch.float32)\n",
    "\n",
    "        optimizer.zero_grad()\n",
    "\n",
    "        outputs = model(inputs).to(device)\n",
    "        preds = torch.softmax(outputs, dim=1).to(device)\n",
    "\n",
    "        loss = loss_fun(preds, Y.long())\n",
    "        loss.backward()\n",
    "        optimizer.step()\n",
    "\n",
    "        train_loss.append(loss.item())\n",
    "\n",
    "    print('Training loss:', np.mean(train_loss))\n"
   ],
   "metadata": {
    "collapsed": false,
    "is_executing": true,
    "ExecuteTime": {
     "start_time": "2024-05-03T15:24:20.902552900Z"
    }
   }
  },
  {
   "cell_type": "code",
   "execution_count": 166,
   "outputs": [],
   "source": [
    "torch.save(model.state_dict(), 'vgg11_10.pkl')\n"
   ],
   "metadata": {
    "collapsed": false,
    "ExecuteTime": {
     "end_time": "2024-05-03T13:42:45.401087900Z",
     "start_time": "2024-05-03T13:42:45.281136800Z"
    }
   }
  },
  {
   "cell_type": "code",
   "execution_count": 167,
   "outputs": [
    {
     "data": {
      "text/plain": "[<matplotlib.lines.Line2D at 0x1c9a7547e50>]"
     },
     "execution_count": 167,
     "metadata": {},
     "output_type": "execute_result"
    },
    {
     "data": {
      "text/plain": "<Figure size 640x480 with 1 Axes>",
      "image/png": "[encoded data removed]"
     },
     "metadata": {},
     "output_type": "display_data"
    }
   ],
   "source": [
    "import matplotlib.pyplot as plt\n",
    "import matplotlib.ticker as ticker\n",
    "\n",
    "plt.figure()\n",
    "plt.plot(train_loss)"
   ],
   "metadata": {
    "collapsed": false,
    "ExecuteTime": {
     "end_time": "2024-05-03T13:42:49.131141300Z",
     "start_time": "2024-05-03T13:42:48.912338500Z"
    }
   }
  },
  {
   "cell_type": "code",
   "execution_count": 178,
   "outputs": [
    {
     "data": {
      "text/plain": "ResNet(\n  (conv1): Conv2d(3, 64, kernel_size=(7, 7), stride=(2, 2), padding=(3, 3), bias=False)\n  (bn1): BatchNorm2d(64, eps=1e-05, momentum=0.1, affine=True, track_running_stats=True)\n  (relu): ReLU(inplace=True)\n  (maxpool): MaxPool2d(kernel_size=3, stride=2, padding=1, dilation=1, ceil_mode=False)\n  (layer1): Sequential(\n    (0): BasicBlock(\n      (conv1): Conv2d(64, 64, kernel_size=(3, 3), stride=(1, 1), padding=(1, 1), bias=False)\n      (bn1): BatchNorm2d(64, eps=1e-05, momentum=0.1, affine=True, track_running_stats=True)\n      (relu): ReLU(inplace=True)\n      (conv2): Conv2d(64, 64, kernel_size=(3, 3), stride=(1, 1), padding=(1, 1), bias=False)\n      (bn2): BatchNorm2d(64, eps=1e-05, momentum=0.1, affine=True, track_running_stats=True)\n    )\n    (1): BasicBlock(\n      (conv1): Conv2d(64, 64, kernel_size=(3, 3), stride=(1, 1), padding=(1, 1), bias=False)\n      (bn1): BatchNorm2d(64, eps=1e-05, momentum=0.1, affine=True, track_running_stats=True)\n      (relu): ReLU(inplace=True)\n      (conv2): Conv2d(64, 64, kernel_size=(3, 3), stride=(1, 1), padding=(1, 1), bias=False)\n      (bn2): BatchNorm2d(64, eps=1e-05, momentum=0.1, affine=True, track_running_stats=True)\n    )\n    (2): BasicBlock(\n      (conv1): Conv2d(64, 64, kernel_size=(3, 3), stride=(1, 1), padding=(1, 1), bias=False)\n      (bn1): BatchNorm2d(64, eps=1e-05, momentum=0.1, affine=True, track_running_stats=True)\n      (relu): ReLU(inplace=True)\n      (conv2): Conv2d(64, 64, kernel_size=(3, 3), stride=(1, 1), padding=(1, 1), bias=False)\n      (bn2): BatchNorm2d(64, eps=1e-05, momentum=0.1, affine=True, track_running_stats=True)\n    )\n  )\n  (layer2): Sequential(\n    (0): BasicBlock(\n      (conv1): Conv2d(64, 128, kernel_size=(3, 3), stride=(2, 2), padding=(1, 1), bias=False)\n      (bn1): BatchNorm2d(128, eps=1e-05, momentum=0.1, affine=True, track_running_stats=True)\n      (relu): ReLU(inplace=True)\n      (conv2): Conv2d(128, 128, kernel_size=(3, 3), stride=(1, 1), padding=(1, 1), bias=False)\n      (bn2): BatchNorm2d(128, eps=1e-05, momentum=0.1, affine=True, track_running_stats=True)\n      (downsample): Sequential(\n        (0): Conv2d(64, 128, kernel_size=(1, 1), stride=(2, 2), bias=False)\n        (1): BatchNorm2d(128, eps=1e-05, momentum=0.1, affine=True, track_running_stats=True)\n      )\n    )\n    (1): BasicBlock(\n      (conv1): Conv2d(128, 128, kernel_size=(3, 3), stride=(1, 1), padding=(1, 1), bias=False)\n      (bn1): BatchNorm2d(128, eps=1e-05, momentum=0.1, affine=True, track_running_stats=True)\n      (relu): ReLU(inplace=True)\n      (conv2): Conv2d(128, 128, kernel_size=(3, 3), stride=(1, 1), padding=(1, 1), bias=False)\n      (bn2): BatchNorm2d(128, eps=1e-05, momentum=0.1, affine=True, track_running_stats=True)\n    )\n    (2): BasicBlock(\n      (conv1): Conv2d(128, 128, kernel_size=(3, 3), stride=(1, 1), padding=(1, 1), bias=False)\n      (bn1): BatchNorm2d(128, eps=1e-05, momentum=0.1, affine=True, track_running_stats=True)\n      (relu): ReLU(inplace=True)\n      (conv2): Conv2d(128, 128, kernel_size=(3, 3), stride=(1, 1), padding=(1, 1), bias=False)\n      (bn2): BatchNorm2d(128, eps=1e-05, momentum=0.1, affine=True, track_running_stats=True)\n    )\n    (3): BasicBlock(\n      (conv1): Conv2d(128, 128, kernel_size=(3, 3), stride=(1, 1), padding=(1, 1), bias=False)\n      (bn1): BatchNorm2d(128, eps=1e-05, momentum=0.1, affine=True, track_running_stats=True)\n      (relu): ReLU(inplace=True)\n      (conv2): Conv2d(128, 128, kernel_size=(3, 3), stride=(1, 1), padding=(1, 1), bias=False)\n      (bn2): BatchNorm2d(128, eps=1e-05, momentum=0.1, affine=True, track_running_stats=True)\n    )\n  )\n  (layer3): Sequential(\n    (0): BasicBlock(\n      (conv1): Conv2d(128, 256, kernel_size=(3, 3), stride=(2, 2), padding=(1, 1), bias=False)\n      (bn1): BatchNorm2d(256, eps=1e-05, momentum=0.1, affine=True, track_running_stats=True)\n      (relu): ReLU(inplace=True)\n      (conv2): Conv2d(256, 256, kernel_size=(3, 3), stride=(1, 1), padding=(1, 1), bias=False)\n      (bn2): BatchNorm2d(256, eps=1e-05, momentum=0.1, affine=True, track_running_stats=True)\n      (downsample): Sequential(\n        (0): Conv2d(128, 256, kernel_size=(1, 1), stride=(2, 2), bias=False)\n        (1): BatchNorm2d(256, eps=1e-05, momentum=0.1, affine=True, track_running_stats=True)\n      )\n    )\n    (1): BasicBlock(\n      (conv1): Conv2d(256, 256, kernel_size=(3, 3), stride=(1, 1), padding=(1, 1), bias=False)\n      (bn1): BatchNorm2d(256, eps=1e-05, momentum=0.1, affine=True, track_running_stats=True)\n      (relu): ReLU(inplace=True)\n      (conv2): Conv2d(256, 256, kernel_size=(3, 3), stride=(1, 1), padding=(1, 1), bias=False)\n      (bn2): BatchNorm2d(256, eps=1e-05, momentum=0.1, affine=True, track_running_stats=True)\n    )\n    (2): BasicBlock(\n      (conv1): Conv2d(256, 256, kernel_size=(3, 3), stride=(1, 1), padding=(1, 1), bias=False)\n      (bn1): BatchNorm2d(256, eps=1e-05, momentum=0.1, affine=True, track_running_stats=True)\n      (relu): ReLU(inplace=True)\n      (conv2): Conv2d(256, 256, kernel_size=(3, 3), stride=(1, 1), padding=(1, 1), bias=False)\n      (bn2): BatchNorm2d(256, eps=1e-05, momentum=0.1, affine=True, track_running_stats=True)\n    )\n    (3): BasicBlock(\n      (conv1): Conv2d(256, 256, kernel_size=(3, 3), stride=(1, 1), padding=(1, 1), bias=False)\n      (bn1): BatchNorm2d(256, eps=1e-05, momentum=0.1, affine=True, track_running_stats=True)\n      (relu): ReLU(inplace=True)\n      (conv2): Conv2d(256, 256, kernel_size=(3, 3), stride=(1, 1), padding=(1, 1), bias=False)\n      (bn2): BatchNorm2d(256, eps=1e-05, momentum=0.1, affine=True, track_running_stats=True)\n    )\n    (4): BasicBlock(\n      (conv1): Conv2d(256, 256, kernel_size=(3, 3), stride=(1, 1), padding=(1, 1), bias=False)\n      (bn1): BatchNorm2d(256, eps=1e-05, momentum=0.1, affine=True, track_running_stats=True)\n      (relu): ReLU(inplace=True)\n      (conv2): Conv2d(256, 256, kernel_size=(3, 3), stride=(1, 1), padding=(1, 1), bias=False)\n      (bn2): BatchNorm2d(256, eps=1e-05, momentum=0.1, affine=True, track_running_stats=True)\n    )\n    (5): BasicBlock(\n      (conv1): Conv2d(256, 256, kernel_size=(3, 3), stride=(1, 1), padding=(1, 1), bias=False)\n      (bn1): BatchNorm2d(256, eps=1e-05, momentum=0.1, affine=True, track_running_stats=True)\n      (relu): ReLU(inplace=True)\n      (conv2): Conv2d(256, 256, kernel_size=(3, 3), stride=(1, 1), padding=(1, 1), bias=False)\n      (bn2): BatchNorm2d(256, eps=1e-05, momentum=0.1, affine=True, track_running_stats=True)\n    )\n  )\n  (layer4): Sequential(\n    (0): BasicBlock(\n      (conv1): Conv2d(256, 512, kernel_size=(3, 3), stride=(2, 2), padding=(1, 1), bias=False)\n      (bn1): BatchNorm2d(512, eps=1e-05, momentum=0.1, affine=True, track_running_stats=True)\n      (relu): ReLU(inplace=True)\n      (conv2): Conv2d(512, 512, kernel_size=(3, 3), stride=(1, 1), padding=(1, 1), bias=False)\n      (bn2): BatchNorm2d(512, eps=1e-05, momentum=0.1, affine=True, track_running_stats=True)\n      (downsample): Sequential(\n        (0): Conv2d(256, 512, kernel_size=(1, 1), stride=(2, 2), bias=False)\n        (1): BatchNorm2d(512, eps=1e-05, momentum=0.1, affine=True, track_running_stats=True)\n      )\n    )\n    (1): BasicBlock(\n      (conv1): Conv2d(512, 512, kernel_size=(3, 3), stride=(1, 1), padding=(1, 1), bias=False)\n      (bn1): BatchNorm2d(512, eps=1e-05, momentum=0.1, affine=True, track_running_stats=True)\n      (relu): ReLU(inplace=True)\n      (conv2): Conv2d(512, 512, kernel_size=(3, 3), stride=(1, 1), padding=(1, 1), bias=False)\n      (bn2): BatchNorm2d(512, eps=1e-05, momentum=0.1, affine=True, track_running_stats=True)\n    )\n    (2): BasicBlock(\n      (conv1): Conv2d(512, 512, kernel_size=(3, 3), stride=(1, 1), padding=(1, 1), bias=False)\n      (bn1): BatchNorm2d(512, eps=1e-05, momentum=0.1, affine=True, track_running_stats=True)\n      (relu): ReLU(inplace=True)\n      (conv2): Conv2d(512, 512, kernel_size=(3, 3), stride=(1, 1), padding=(1, 1), bias=False)\n      (bn2): BatchNorm2d(512, eps=1e-05, momentum=0.1, affine=True, track_running_stats=True)\n    )\n  )\n  (avgpool): AdaptiveAvgPool2d(output_size=(1, 1))\n  (fc): Linear(in_features=512, out_features=15, bias=True)\n)"
     },
     "execution_count": 178,
     "metadata": {},
     "output_type": "execute_result"
    }
   ],
   "source": [
    "model = models.resnet34()\n",
    "model.fc = nn.Linear(512, 15)\n",
    "model.load_state_dict(torch.load(\"resnet34_20.pkl\"))\n",
    "model.to(device)"
   ],
   "metadata": {
    "collapsed": false,
    "ExecuteTime": {
     "end_time": "2024-05-03T14:49:55.835997300Z",
     "start_time": "2024-05-03T14:49:54.999199700Z"
    }
   }
  },
  {
   "cell_type": "code",
   "execution_count": 197,
   "outputs": [
    {
     "data": {
      "text/plain": "(tensor([[[0.6945, 0.7073, 0.7031,  ..., 0.3703, 0.3661, 0.3661],\n          [0.5367, 0.5495, 0.5367,  ..., 0.3959, 0.3917, 0.3917],\n          [0.3490, 0.3618, 0.3618,  ..., 0.5751, 0.5708, 0.5708]],\n \n         [[0.6945, 0.6988, 0.7116,  ..., 0.3703, 0.3661, 0.3661],\n          [0.5367, 0.5410, 0.5452,  ..., 0.3959, 0.3917, 0.3917],\n          [0.3490, 0.3533, 0.3661,  ..., 0.5751, 0.5708, 0.5708]],\n \n         [[0.6903, 0.6988, 0.7031,  ..., 0.3661, 0.3618, 0.3618],\n          [0.5324, 0.5410, 0.5410,  ..., 0.3917, 0.3874, 0.3874],\n          [0.3448, 0.3533, 0.3618,  ..., 0.5708, 0.5708, 0.5666]],\n \n         ...,\n \n         [[0.8268, 0.8268, 0.8225,  ..., 0.1272, 0.1272, 0.1272],\n          [0.6860, 0.6817, 0.6860,  ..., 0.1272, 0.1272, 0.1272],\n          [0.4813, 0.4855, 0.4983,  ..., 0.1272, 0.1272, 0.1272]],\n \n         [[0.8268, 0.8268, 0.8225,  ..., 0.1272, 0.1272, 0.1272],\n          [0.6860, 0.6860, 0.6860,  ..., 0.1272, 0.1272, 0.1272],\n          [0.4813, 0.4813, 0.4940,  ..., 0.1272, 0.1272, 0.1272]],\n \n         [[0.8268, 0.8268, 0.8225,  ..., 0.1272, 0.1272, 0.1272],\n          [0.6860, 0.6860, 0.6860,  ..., 0.1272, 0.1272, 0.1272],\n          [0.4813, 0.4813, 0.4940,  ..., 0.1272, 0.1272, 0.1272]]]),\n 1)"
     },
     "execution_count": 197,
     "metadata": {},
     "output_type": "execute_result"
    }
   ],
   "source": [
    "val_dataset = VideoDataset(meta=X_val, transform=transform)\n",
    "val_dataloader = DataLoader(val_dataset, batch_size=1, shuffle=False)\n",
    "val_dataset[0]"
   ],
   "metadata": {
    "collapsed": false,
    "ExecuteTime": {
     "end_time": "2024-05-03T14:59:11.521611700Z",
     "start_time": "2024-05-03T14:59:11.428083300Z"
    }
   }
  },
  {
   "cell_type": "code",
   "execution_count": 208,
   "outputs": [
    {
     "data": {
      "text/plain": "tensor(5, device='cuda:0')"
     },
     "execution_count": 208,
     "metadata": {},
     "output_type": "execute_result"
    }
   ],
   "source": [
    "val_labels[0]"
   ],
   "metadata": {
    "collapsed": false,
    "ExecuteTime": {
     "end_time": "2024-05-03T15:03:34.463461200Z",
     "start_time": "2024-05-03T15:03:34.438999900Z"
    }
   }
  },
  {
   "cell_type": "code",
   "execution_count": 210,
   "outputs": [
    {
     "data": {
      "text/plain": "  0%|          | 0/552 [00:00<?, ?it/s]",
      "application/vnd.jupyter.widget-view+json": {
       "version_major": 2,
       "version_minor": 0,
       "model_id": "7363eb4dd97a4c908ea62f86da4929d6"
      }
     },
     "metadata": {},
     "output_type": "display_data"
    },
    {
     "name": "stdout",
     "output_type": "stream",
     "text": [
      "F1: 0.00921866216975829\n"
     ]
    }
   ],
   "source": [
    "val_targets = []\n",
    "val_preds = []\n",
    "\n",
    "for i, batch in enumerate(tqdm(val_dataloader)):\n",
    "    val_input, val_labels = batch\n",
    "    val_input = torch.swapaxes(val_input, 1, -2)\n",
    "    val_input = val_input.to(device)\n",
    "    val_labels = val_labels.to(device)\n",
    "\n",
    "    with torch.no_grad():\n",
    "        outputs = model(val_input)\n",
    "\n",
    "    val_targets.append(val_labels.detach().cpu().numpy()[0])\n",
    "    val_preds.append(outputs.argmax(1).detach().cpu().numpy()[0])\n",
    "\n",
    "print('F1:', f1_score(val_targets, val_preds, average='macro'))"
   ],
   "metadata": {
    "collapsed": false,
    "ExecuteTime": {
     "end_time": "2024-05-03T15:05:09.908720700Z",
     "start_time": "2024-05-03T15:03:53.422622100Z"
    }
   }
  },
  {
   "cell_type": "code",
   "execution_count": 188,
   "outputs": [
    {
     "ename": "TypeError",
     "evalue": "list.append() takes exactly one argument (3 given)",
     "output_type": "error",
     "traceback": [
      "\u001B[1;31m---------------------------------------------------------------------------\u001B[0m",
      "\u001B[1;31mTypeError\u001B[0m                                 Traceback (most recent call last)",
      "Cell \u001B[1;32mIn[188], line 2\u001B[0m\n\u001B[0;32m      1\u001B[0m a \u001B[38;5;241m=\u001B[39m []\n\u001B[1;32m----> 2\u001B[0m \u001B[43ma\u001B[49m\u001B[38;5;241;43m.\u001B[39;49m\u001B[43mappend\u001B[49m\u001B[43m(\u001B[49m\u001B[38;5;241;43m*\u001B[39;49m\u001B[43mtorch\u001B[49m\u001B[38;5;241;43m.\u001B[39;49m\u001B[43mtensor\u001B[49m\u001B[43m(\u001B[49m\u001B[43m[\u001B[49m\u001B[38;5;241;43m1\u001B[39;49m\u001B[43m,\u001B[49m\u001B[43m \u001B[49m\u001B[38;5;241;43m2\u001B[39;49m\u001B[43m,\u001B[49m\u001B[43m \u001B[49m\u001B[38;5;241;43m3\u001B[39;49m\u001B[43m]\u001B[49m\u001B[43m)\u001B[49m\u001B[38;5;241;43m.\u001B[39;49m\u001B[43mtolist\u001B[49m\u001B[43m(\u001B[49m\u001B[43m)\u001B[49m\u001B[43m)\u001B[49m\n\u001B[0;32m      3\u001B[0m a\n",
      "\u001B[1;31mTypeError\u001B[0m: list.append() takes exactly one argument (3 given)"
     ]
    }
   ],
   "source": [
    "a = []\n",
    "a.append(*torch.tensor([1, 2, 3]).tolist())\n",
    "a"
   ],
   "metadata": {
    "collapsed": false,
    "ExecuteTime": {
     "end_time": "2024-05-03T14:55:52.047461200Z",
     "start_time": "2024-05-03T14:55:51.996566800Z"
    }
   }
  },
  {
   "cell_type": "code",
   "execution_count": null,
   "outputs": [],
   "source": [
    "# empty gpu memory\n",
    "import gc\n",
    "\n",
    "gc.collect()\n",
    "torch.cuda.empty_cache()\n"
   ],
   "metadata": {
    "collapsed": false
   }
  },
  {
   "cell_type": "code",
   "execution_count": null,
   "outputs": [],
   "source": [],
   "metadata": {
    "collapsed": false
   }
  }
 ],
 "metadata": {
  "kernelspec": {
   "display_name": "Python 3",
   "language": "python",
   "name": "python3"
  },
  "language_info": {
   "codemirror_mode": {
    "name": "ipython",
    "version": 2
   },
   "file_extension": ".py",
   "mimetype": "text/x-python",
   "name": "python",
   "nbconvert_exporter": "python",
   "pygments_lexer": "ipython2",
   "version": "2.7.6"
  }
 },
 "nbformat": 4,
 "nbformat_minor": 0
}
